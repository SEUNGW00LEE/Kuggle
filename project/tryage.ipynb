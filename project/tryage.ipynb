{
  "cells": [
    {
      "cell_type": "code",
      "execution_count": null,
      "metadata": {
        "id": "BxInufFe2Jux"
      },
      "outputs": [],
      "source": [
        "# 필요한 library 불러오기\n",
        "\n",
        "import pandas as pd\n",
        "import numpy as np\n",
        "from sklearn.preprocessing import RobustScaler, MinMaxScaler, StandardScaler\n",
        "from sklearn.linear_model import Ridge, Lasso, ElasticNet\n",
        "from sklearn.model_selection import cross_val_score\n",
        "import seaborn as sns\n",
        "import matplotlib.pyplot as plt\n",
        "from matplotlib import font_manager, rc\n",
        "rc('font', family='AppleGothic')\n",
        "plt.rcParams['axes.unicode_minus'] = False\n",
        "import warnings\n",
        "from sklearn.exceptions import ConvergenceWarning\n",
        "warnings.simplefilter('ignore', ConvergenceWarning)\n",
        "warnings.simplefilter(action='ignore', category=pd.errors.SettingWithCopyWarning)"
      ]
    },
    {
      "cell_type": "code",
      "execution_count": null,
      "metadata": {
        "id": "BI74YikD2Ngt"
      },
      "outputs": [],
      "source": [
        "train = pd.read_csv('train.csv')"
      ]
    },
    {
      "cell_type": "code",
      "execution_count": null,
      "metadata": {
        "id": "R1pNXxpx2NjB"
      },
      "outputs": [],
      "source": [
        "test = pd.read_csv('test.csv')"
      ]
    },
    {
      "cell_type": "code",
      "execution_count": null,
      "metadata": {
        "id": "jaP4qe9O2NlS"
      },
      "outputs": [],
      "source": [
        "sample_submission = pd.read_csv('sample_submission.csv')"
      ]
    },
    {
      "cell_type": "code",
      "execution_count": null,
      "metadata": {
        "id": "gOpURqUK12Vm"
      },
      "outputs": [],
      "source": [
        "age_gender_info = pd.read_csv('age_gender_info.csv')"
      ]
    },
    {
      "cell_type": "code",
      "execution_count": null,
      "metadata": {
        "colab": {
          "base_uri": "https://localhost:8080/"
        },
        "id": "HmkRbKrd2NnX",
        "outputId": "c696c71b-e3ec-44b0-9cc6-004d7924894d"
      },
      "outputs": [],
      "source": [
        "train.shape"
      ]
    },
    {
      "cell_type": "markdown",
      "metadata": {
        "id": "HHPwJl43-FFp"
      },
      "source": [
        "> 데이터의 수 자체가 적음, 전처리가 중요"
      ]
    },
    {
      "cell_type": "code",
      "execution_count": null,
      "metadata": {
        "colab": {
          "base_uri": "https://localhost:8080/"
        },
        "id": "IV88k4Z-2NpT",
        "outputId": "b5c630ed-bd8a-40c8-b4bf-e9158f0aa822"
      },
      "outputs": [],
      "source": [
        "train.isna().sum()"
      ]
    },
    {
      "cell_type": "markdown",
      "metadata": {
        "id": "wfM-g2l8-MBQ"
      },
      "source": [
        "> 총 4개의 column에서 결측치 발생"
      ]
    },
    {
      "cell_type": "code",
      "execution_count": null,
      "metadata": {
        "colab": {
          "base_uri": "https://localhost:8080/"
        },
        "id": "iTbuDD-82NrQ",
        "outputId": "b80df73a-91e6-43aa-ea13-f93fdf6644b4"
      },
      "outputs": [],
      "source": [
        "test.isna().sum()"
      ]
    },
    {
      "cell_type": "markdown",
      "metadata": {
        "id": "iCsu2HMW-Ovd"
      },
      "source": [
        "> 총 4개의 column에서 결측치발생\n",
        "\n",
        "> train에서는 결측치가 발생하지않은 column : `자격유형`"
      ]
    },
    {
      "cell_type": "code",
      "execution_count": null,
      "metadata": {
        "colab": {
          "base_uri": "https://localhost:8080/"
        },
        "id": "Z7aIvZWx2RlO",
        "outputId": "7a424984-78c7-4dfd-9a62-149bd0cdf168"
      },
      "outputs": [],
      "source": [
        "train_nunique = train.nunique()\n",
        "train_nunique"
      ]
    },
    {
      "cell_type": "code",
      "execution_count": null,
      "metadata": {
        "colab": {
          "base_uri": "https://localhost:8080/",
          "height": 520
        },
        "id": "9P69nZYN2RnX",
        "outputId": "f9bc42e1-cbf1-427f-b8ee-aa18b3e448bc"
      },
      "outputs": [],
      "source": [
        "#데이터 타입과 unique한 값의 갯수 보기\n",
        "train_type_nunique = pd.DataFrame({\n",
        "    'Data Type': train.dtypes,\n",
        "    'Number of Unique Values': train.nunique()\n",
        "})\n",
        "\n",
        "train_type_nunique"
      ]
    },
    {
      "cell_type": "markdown",
      "metadata": {
        "id": "T7q-5h0v-RpD"
      },
      "source": [
        "> object이면서 nunique가 많은 값 : `공급유형`, `자격유형`, `지역`"
      ]
    },
    {
      "cell_type": "code",
      "execution_count": null,
      "metadata": {
        "id": "jwdJPfJp2RpJ"
      },
      "outputs": [],
      "source": [
        "# 지역 data 합치기\n",
        "\n",
        "train.loc[train.지역.isin(['경기도','서울특별시']), '지역'] = '수도권(서울/경기)'\n",
        "train.loc[train.지역.isin(['경상남도','울산광역시','부산광역시','대구광역시','경상북도']), '지역'] = '경상도'\n",
        "train.loc[train.지역.isin(['전라남도','광주광역시','전라북도']), '지역'] = '전라도'\n",
        "train.loc[train.지역.isin(['충청남도','충청북도','대전광역시','세종특별자치시']), '지역'] = '충청도'\n",
        "\n",
        "test.loc[test.지역.isin(['경기도','서울특별시']), '지역'] = '수도권(서울/경기)'\n",
        "test.loc[test.지역.isin(['경상남도','울산광역시','부산광역시','대구광역시','경상북도']), '지역'] = '경상도'\n",
        "test.loc[test.지역.isin(['전라남도','광주광역시','전라북도']), '지역'] = '전라도'\n",
        "test.loc[test.지역.isin(['충청남도','충청북도','대전광역시','세종특별자치시']), '지역'] = '충청도'"
      ]
    },
    {
      "cell_type": "code",
      "execution_count": null,
      "metadata": {
        "colab": {
          "base_uri": "https://localhost:8080/"
        },
        "id": "aEJCWLAa2RrW",
        "outputId": "4df57cb3-19db-4451-f845-688c37ed5eee"
      },
      "outputs": [],
      "source": [
        "train['공급유형'].unique()"
      ]
    },
    {
      "cell_type": "code",
      "execution_count": null,
      "metadata": {
        "colab": {
          "base_uri": "https://localhost:8080/",
          "height": 627
        },
        "id": "Mg3T21nO2RtZ",
        "outputId": "7173a8ab-4543-41ac-f0ac-7f94a08b131a"
      },
      "outputs": [],
      "source": [
        "# train, test column rename : column명이 긴 것을 간결화\n",
        "train.rename(columns={'도보 10분거리 내 지하철역 수(환승노선 수 반영)': '지하철수',\n",
        "                      '도보 10분거리 내 버스정류장 수': '버스수'}, inplace=True)\n",
        "test.rename(columns={'도보 10분거리 내 지하철역 수(환승노선 수 반영)': '지하철수',\n",
        "                     '도보 10분거리 내 버스정류장 수': '버스수'}, inplace=True)\n",
        "\n",
        "\n",
        "# 결측치 통일 : '임대료','임대보증금' 컬럼에서 '-' 값을 NaN으로 변경\n",
        "\n",
        "for col in ['임대료', '임대보증금']:\n",
        "    train[col] = train[col].replace('-', np.nan).astype(float)\n",
        "    test[col] = test[col].replace('-', np.nan).astype(float)\n",
        "\n",
        "# 해당 컬럼을 float64 타입으로 변환\n",
        "train['임대료'] = train['임대료'].astype(float)\n",
        "train['임대보증금'] = train['임대보증금'].astype(float)\n",
        "\n",
        "# 해당 컬럼을 float64 타입으로 변환\n",
        "test['임대료'] = test['임대료'].astype(float)\n",
        "test['임대보증금'] = test['임대보증금'].astype(float)\n",
        "\n",
        "# train - 버스수는 10으로, 지하철수는 0으로 결측치를 채움\n",
        "train[train['지하철수'].isna()]['지역'].unique() # 충남, 대전, 경남으로 이 중에서 대전에만 지하철 운행 - 충남, 경남 0으로 채우기로 결정\n",
        "\n",
        "train['버스수'].fillna(0, inplace=True)\n",
        "train['지하철수'].fillna(0, inplace=True)\n",
        "\n",
        "# test - 지하철수 0으로 결측치를 채움\n",
        "test[test['지하철수'].isna()]['지역'].unique() # 충남, 대전으로 이 중에서 대전에만 지하철 운행 - 충남 0으로 채우기로 결정\n",
        "\n",
        "test['지하철수'].fillna(0, inplace=True)\n",
        "\n",
        "#자격유형 결측치 확인\n",
        "test[test['자격유형'].isna()]\n",
        "\n",
        "#C2411 자격유형 → 'A'\n",
        "test[test['단지코드']=='C2411'] #C2411 자격유형이 모두 A로, 단순 결측치인 것으로 판단\n",
        "test[test['단지코드']=='C2411']['자격유형'].fillna('A')\n",
        "\n",
        "#C2253 자격유형 → 'C'\n",
        "test[test['단지코드']=='C2253'] #자격유형 C, D를 구분하는 컬럼이 '임대건물구분'이라고 판단, 결측치는 임대건물구분이 아파트이기 때문에 자격유형 C로 채워넣음\n",
        "test[test['단지코드']=='C2253']['자격유형'].fillna('C')\n",
        "\n",
        "train.head()"
      ]
    },
    {
      "cell_type": "code",
      "execution_count": null,
      "metadata": {
        "colab": {
          "base_uri": "https://localhost:8080/"
        },
        "id": "M3MVWg2I2RvZ",
        "outputId": "c43e8964-c15b-4506-986f-8a7628e682f9"
      },
      "outputs": [],
      "source": [
        "train[train['지하철수'].isna()]['지역'].unique()"
      ]
    },
    {
      "cell_type": "code",
      "execution_count": null,
      "metadata": {
        "colab": {
          "base_uri": "https://localhost:8080/",
          "height": 518
        },
        "id": "tZERpPnv2RxU",
        "outputId": "b7b4514a-65e6-4117-d036-be81b174d331"
      },
      "outputs": [],
      "source": [
        "# 임대료 혹은 임대보증금이 NaN값인 행 필터링\n",
        "missing_data = train[train['임대료'].isna() | train['임대보증금'].isna()]\n",
        "\n",
        "# 모든 열에 대해 통계요약값과 누락 데이터 몇 행정도 표시\n",
        "summary = missing_data.describe(include='all')\n",
        "summary\n"
      ]
    },
    {
      "cell_type": "code",
      "execution_count": null,
      "metadata": {
        "colab": {
          "base_uri": "https://localhost:8080/"
        },
        "id": "zFLk8Rdp2RzW",
        "outputId": "c2964512-3120-4a7f-ac5d-d51afc77b6ce"
      },
      "outputs": [],
      "source": [
        "print(\"임대건물구분이 상가인 것의 임대료\",train[train['임대건물구분'] == '상가']['임대료'].unique())\n",
        "print(\"임대건물구분이 상가인 것의 임대보증금\",train[train['임대건물구분'] == '상가']['임대보증금'].unique())\n",
        "print(\"공급유형이 임대상가인 것의 임대료\",train[train['공급유형']=='임대상가']['임대료'].unique())\n",
        "print(\"공급유형이 임대상가인 것의 임대보증금\",train[train['공급유형']=='임대상가']['임대보증금'].unique())\n",
        "print(\"자격유형이 D인 것의 임대료\",train[train['자격유형'] == 'D']['임대료'].unique())\n",
        "print(\"자격유형이 D인 것의 임대보증금\",train[train['자격유형'] == 'D']['임대보증금'].unique())"
      ]
    },
    {
      "cell_type": "markdown",
      "metadata": {
        "id": "xG2IQxLU-Www"
      },
      "source": [
        "> 해당하는 조건을 해봤으나 모두 nan값이라 유의미한 결과를 도출할 수 없음"
      ]
    },
    {
      "cell_type": "markdown",
      "metadata": {
        "id": "QRS1I91D-W1p"
      },
      "source": [
        "> 상가가 아닌 것의 데이터를 살펴보았습니다."
      ]
    },
    {
      "cell_type": "code",
      "execution_count": null,
      "metadata": {
        "colab": {
          "base_uri": "https://localhost:8080/",
          "height": 1000
        },
        "id": "NrXQTCrz2R1X",
        "outputId": "8e2b0937-d0ed-460b-f2ac-371d24169254"
      },
      "outputs": [],
      "source": [
        "train[(train['임대료'].isna()) & (train['임대건물구분'] != '상가')]"
      ]
    },
    {
      "cell_type": "code",
      "execution_count": null,
      "metadata": {
        "colab": {
          "base_uri": "https://localhost:8080/",
          "height": 696
        },
        "id": "6fNbArEN2R3a",
        "outputId": "def42a7c-87d0-4b26-a105-9172b69acbe0"
      },
      "outputs": [],
      "source": [
        "test[(test['임대료'].isna()) & (test['임대건물구분'] != '상가')]"
      ]
    },
    {
      "cell_type": "markdown",
      "metadata": {
        "id": "YHUoU5Ec-dN5"
      },
      "source": [
        "> 다른 행들은 임대보증금과 임대료가 모두 결측치이지만 장기전세는 임대료만 결측치인 것을 확인할 수 있습니다.\n",
        "\n",
        "> 장기전세주택이란 월 임대료를 지불하지 않고 전세계약 방식으로 공급되는 공공임대주택을 말합니다. [출처](https://www.mylawstory.com/5606/)\n",
        "\n",
        ">그러므로 장기전세의 임대료는 0으로 바꿔주는 것이 맞습니다\n"
      ]
    },
    {
      "cell_type": "code",
      "execution_count": null,
      "metadata": {
        "id": "WTixetek2R5a"
      },
      "outputs": [],
      "source": [
        "#### 장기전세는 월 임대료를 지불하지않으므로 임대료 = 0 적용\n",
        "train.loc[train['공급유형'] == '장기전세', '임대료'] = 0\n",
        "test.loc[test['공급유형'] == '장기전세', '임대료'] = 0"
      ]
    },
    {
      "cell_type": "markdown",
      "metadata": {
        "id": "oNSenEuW-fIH"
      },
      "source": [
        "> 단지내 주차면수과 임대료, 임대보증금이 높은 상관관계를 가지므로\n",
        "\n",
        "> 공급유형이 상가가 아닌것들 중에 임대료와 임대보증금이 결측치인경우 지역별로 나눈 후 단지내 주차면수에 따른 회귀모델을 통해 임대료와 임대보증금의 결측치를 채워줍니다."
      ]
    },
    {
      "cell_type": "code",
      "execution_count": null,
      "metadata": {
        "colab": {
          "base_uri": "https://localhost:8080/"
        },
        "id": "qapjdriU2R7c",
        "outputId": "ca27e104-3497-4333-aa71-2dd329a509ec"
      },
      "outputs": [],
      "source": [
        "#train data 상가아닌 것 임대료, 임대보증금 회귀예측\n",
        "\n",
        "from sklearn.linear_model import LinearRegression\n",
        "from sklearn.model_selection import train_test_split\n",
        "from sklearn.metrics import mean_squared_error\n",
        "\n",
        "# 공급유형이 상가가 아닌 행만 남도록 필터링\n",
        "train_non_store = train[train['공급유형'] != '상가']\n",
        "\n",
        "# train_non_store 데이터의 지역명 확인\n",
        "regions = train_non_store['지역'].unique()\n",
        "\n",
        "# 예측값 저장을 위해 빈 리스트 생성\n",
        "predicted_rent = [] #임대료 예측값 리스트\n",
        "predicted_deposit = [] #임대보증금 예측값 리스트\n",
        "\n",
        "# 지역을 기준으로 반복\n",
        "for region in regions:\n",
        "    region_data = train_non_store[train_non_store['지역'] == region].copy()\n",
        "\n",
        "    # 임대료에 대한 회귀 모델 학습\n",
        "    # 임대료 열에 결측값이 없는 데이터를 선택하고, 단지내주차면수을 X, 임대료를 y로 사용\n",
        "    X = region_data[~region_data['임대료'].isna()][['단지내주차면수']]\n",
        "    y = region_data[~region_data['임대료'].isna()]['임대료']\n",
        "    if len(X) > 0:\n",
        "        model_rent = LinearRegression()\n",
        "        model_rent.fit(X, y)\n",
        "        # 결측치 예측\n",
        "        # 임대료 열에 결측치 있는 데이터 선택하여 전용면적을 X로 사용하여 임대료 예측\n",
        "        X_missing_rent = region_data[region_data['임대료'].isna()][['단지내주차면수']]\n",
        "        if len(X_missing_rent) > 0:\n",
        "            pred_rent = model_rent.predict(X_missing_rent)\n",
        "            predicted_rent.extend(pred_rent)\n",
        "\n",
        "    # 임대보증금에 대한 회귀 모델 학습\n",
        "    # 임대보증금 열에 결측값이 없는 데이터를 선택하고, 전용면적을 X, 임대보증금를 y로 사용\n",
        "    X = region_data[~region_data['임대보증금'].isna()][['단지내주차면수']]\n",
        "    y = region_data[~region_data['임대보증금'].isna()]['임대보증금']\n",
        "    if len(X) > 0:\n",
        "        model_deposit = LinearRegression()\n",
        "        model_deposit.fit(X, y)\n",
        "        # 결측치 예측\n",
        "        X_missing_deposit = region_data[region_data['임대보증금'].isna()][['단지내주차면수']]\n",
        "        # 데이터가 존재하면 모델을 사용해 임대료를 예측하고 리스트에 추가하도록 함\n",
        "        if len(X_missing_deposit) > 0:\n",
        "            pred_deposit = model_deposit.predict(X_missing_deposit)\n",
        "            predicted_deposit.extend(pred_deposit)\n",
        "\n",
        "# train_non_store의 임대료와 임대보증금이 결측치인 것들을 채워넣음\n",
        "missing_rent_indices = train_non_store[train_non_store['임대료'].isna()].index\n",
        "for idx, value in zip(missing_rent_indices, predicted_rent):\n",
        "    train.at[idx, '임대료'] = value\n",
        "\n",
        "missing_deposit_indices = train_non_store[train_non_store['임대보증금'].isna()].index\n",
        "for idx, value in zip(missing_deposit_indices, predicted_deposit):\n",
        "    train.at[idx, '임대보증금'] = value\n",
        "\n",
        "# 결측치 채워졌는지 확인\n",
        "missing_values = train[train['공급유형'] != '상가'][['임대료', '임대보증금']].isnull().sum()\n",
        "\n",
        "missing_values"
      ]
    },
    {
      "cell_type": "code",
      "execution_count": null,
      "metadata": {
        "colab": {
          "base_uri": "https://localhost:8080/"
        },
        "id": "9J5aoxlq2R9m",
        "outputId": "99893eff-4a0a-4943-ad1c-c583370f2449"
      },
      "outputs": [],
      "source": [
        "# test 데이터 공급유형이 상가가 아닌 것만 남도록 필터링\n",
        "test_non_store = test[test['공급유형'] != '상가']\n",
        "\n",
        "# 지역명 추출\n",
        "regions = test_non_store['지역'].unique()\n",
        "\n",
        "# 예측값 저장을 위해 빈 리스트 생성\n",
        "predicted_rent = [] #임대료 예측값 저장 리스트\n",
        "predicted_deposit = [] #임대보증금 예측값 저장 리스트\n",
        "\n",
        "# 지역을 기준으로 반복문 돌림\n",
        "for region in regions:\n",
        "    region_data = test_non_store[test_non_store['지역'] == region].copy()\n",
        "\n",
        "    # 임대료에 대한 회귀 모델 학습\n",
        "    X = region_data[~region_data['임대료'].isna()][['단지내주차면수']]\n",
        "    y = region_data[~region_data['임대료'].isna()]['임대료']\n",
        "    if len(X) > 0:\n",
        "        model_rent = LinearRegression()\n",
        "        model_rent.fit(X, y)\n",
        "        # 결측치 예측\n",
        "        X_missing_rent = region_data[region_data['임대료'].isna()][['단지내주차면수']]\n",
        "        # 데이터가 존재하면 모델을 사용해 임대료를 예측하고 리스트에 추가하도록 함\n",
        "        if len(X_missing_rent) > 0:\n",
        "            pred_rent = model_rent.predict(X_missing_rent)\n",
        "            predicted_rent.extend(pred_rent)\n",
        "\n",
        "    # 임대보증금에 대해서도 동일하게 회귀 모델 학습\n",
        "    X = region_data[~region_data['임대보증금'].isna()][['단지내주차면수']]\n",
        "    y = region_data[~region_data['임대보증금'].isna()]['임대보증금']\n",
        "    if len(X) > 0:\n",
        "        model_deposit = LinearRegression()\n",
        "        model_deposit.fit(X, y)\n",
        "        # 결측치 예측\n",
        "        X_missing_deposit = region_data[region_data['임대보증금'].isna()][['단지내주차면수']]\n",
        "        # 데이터가 존재하면 모델을 사용해 임대보증금을 예측하고 리스트에 추가하도록 함\n",
        "        if len(X_missing_deposit) > 0:\n",
        "            pred_deposit = model_deposit.predict(X_missing_deposit)\n",
        "            predicted_deposit.extend(pred_deposit)\n",
        "\n",
        "# test_non_store 결측치를 예측한 임대료와 임대보증금 값으로 채움\n",
        "missing_rent_indices = test_non_store[test_non_store['임대료'].isna()].index\n",
        "for idx, value in zip(missing_rent_indices, predicted_rent):\n",
        "    test.at[idx, '임대료'] = value\n",
        "\n",
        "missing_deposit_indices = test_non_store[test_non_store['임대보증금'].isna()].index\n",
        "for idx, value in zip(missing_deposit_indices, predicted_deposit):\n",
        "    test.at[idx, '임대보증금'] = value\n",
        "\n",
        "# 결측치 채워졌는지 확인\n",
        "missing_values = test[test['공급유형'] != '상가'][['임대료', '임대보증금']].isnull().sum()\n",
        "\n",
        "missing_values"
      ]
    },
    {
      "cell_type": "markdown",
      "metadata": {
        "id": "lUgr6g7q-i0s"
      },
      "source": [
        "> train에는 있는데 test에는 없는 값들이 존재함\n",
        "---\n",
        "- 장기전세, 공공임대(5년), 공공분양\n",
        "- 자격유형 : B, F, O\n",
        "- 단지코드"
      ]
    },
    {
      "cell_type": "code",
      "execution_count": null,
      "metadata": {
        "colab": {
          "base_uri": "https://localhost:8080/"
        },
        "id": "c0pyQz0E2R_q",
        "outputId": "ee5356f7-2f92-4692-839c-fc7122baeaeb"
      },
      "outputs": [],
      "source": [
        "train['공급유형'].value_counts()"
      ]
    },
    {
      "cell_type": "code",
      "execution_count": null,
      "metadata": {
        "colab": {
          "base_uri": "https://localhost:8080/"
        },
        "id": "QYeDv5_32SBy",
        "outputId": "86e695e8-eda8-4878-9976-d27acb5e0bdb"
      },
      "outputs": [],
      "source": [
        "test['공급유형'].value_counts()"
      ]
    },
    {
      "cell_type": "markdown",
      "metadata": {
        "id": "ozfZ_DuV-mzx"
      },
      "source": [
        " - 장기전세, 공공임대(5년), 공공분양이 train에서만 존재함\n",
        " -- '공공'으로 시작하는 거끼리 묶고, 장기전세는 장기적으로 주택을 임대, 국민 임대 역시 장기 임대한다는 점에서 둘을 묶기로 결정"
      ]
    },
    {
      "cell_type": "code",
      "execution_count": null,
      "metadata": {
        "id": "QpsYZVFy2SD6"
      },
      "outputs": [],
      "source": [
        "\n",
        "train.loc[train.공급유형.isin(['공공임대(5년)', '공공분양', '공공임대(10년)', '공공임대(분납)','공공임대(50년)']), '공급유형'] = '공공임대(5년/10년/분납/분양)'\n",
        "test.loc[test.공급유형.isin(['공공임대(5년)', '공공분양', '공공임대(10년)', '공공임대(분납)','공공임대(50년)']), '공급유형'] = '공공임대(5년/10년/분납/분양)'\n",
        "\n",
        "train.loc[train.공급유형.isin(['장기전세', '국민임대']), '공급유형'] = '국민임대/장기전세'\n",
        "test.loc[test.공급유형.isin(['장기전세', '국민임대']), '공급유형'] = '국민임대/장기전세'\n"
      ]
    },
    {
      "cell_type": "code",
      "execution_count": null,
      "metadata": {
        "colab": {
          "base_uri": "https://localhost:8080/"
        },
        "id": "Y-Rb-g1y2SGN",
        "outputId": "18e8598a-9960-45a7-c19f-79dae6b05544"
      },
      "outputs": [],
      "source": [
        "\n",
        "print(train['공급유형'].value_counts())\n",
        "print('-----'*10)\n",
        "print(test['공급유형'].value_counts())\n",
        "#column값 차이 없는 것 확인\n"
      ]
    },
    {
      "cell_type": "code",
      "execution_count": null,
      "metadata": {
        "colab": {
          "base_uri": "https://localhost:8080/"
        },
        "id": "dBkVq7TD2SIH",
        "outputId": "d861d2f2-ea77-4c53-86ef-297eb221561c"
      },
      "outputs": [],
      "source": [
        "train['자격유형'].value_counts()\n",
        "# B- 21\n",
        "# F -3\n",
        "# O -1\n",
        "# 데이터가 적어서 바로 앞의 자격 유형과 묶어도 무방할 것 같음"
      ]
    },
    {
      "cell_type": "code",
      "execution_count": null,
      "metadata": {
        "colab": {
          "base_uri": "https://localhost:8080/"
        },
        "id": "MUO6hdO12SKh",
        "outputId": "1260f1d8-237a-4fac-ec8c-1ce157aae236"
      },
      "outputs": [],
      "source": [
        "test['자격유형'].value_counts()"
      ]
    },
    {
      "cell_type": "code",
      "execution_count": null,
      "metadata": {
        "colab": {
          "base_uri": "https://localhost:8080/"
        },
        "id": "gNRRG80d2Ntg",
        "outputId": "2c20eebb-6005-4a8e-c29d-2937395c0b8d"
      },
      "outputs": [],
      "source": [
        "# B,F,O 각 자격유형의 바로 앞 자격유형과 통합함\n",
        "train['자격유형'] = train['자격유형'].apply(lambda x: 'A-B' if x in ['A', 'B'] else x)\n",
        "test['자격유형'] = test['자격유형'].apply(lambda x: 'A-B' if x in ['A', 'B'] else x)\n",
        "\n",
        "train['자격유형'] = train['자격유형'].apply(lambda x: 'E-F' if x in ['E', 'F'] else x)\n",
        "test['자격유형'] = test['자격유형'].apply(lambda x: 'E-F' if x in ['E', 'F'] else x)\n",
        "\n",
        "train['자격유형'] = train['자격유형'].apply(lambda x: 'N-O' if x in ['N', 'O'] else x)\n",
        "test['자격유형'] = test['자격유형'].apply(lambda x: 'N-O' if x in ['N', 'O'] else x)\n",
        "\n",
        "train['자격유형'].value_counts()"
      ]
    },
    {
      "cell_type": "code",
      "execution_count": null,
      "metadata": {
        "colab": {
          "base_uri": "https://localhost:8080/"
        },
        "id": "lxgZmPkRDUqR",
        "outputId": "c8e3f176-a533-4942-d902-d71b701b734b"
      },
      "outputs": [],
      "source": [
        "train.shape, train.drop_duplicates().shape #중복존재"
      ]
    },
    {
      "cell_type": "code",
      "execution_count": null,
      "metadata": {
        "colab": {
          "base_uri": "https://localhost:8080/"
        },
        "id": "5mBWnfVPDbvR",
        "outputId": "914b4d91-be3e-4696-db8e-4ea8cc9c644a"
      },
      "outputs": [],
      "source": [
        "test.shape, test.drop_duplicates().shape #중복존재"
      ]
    },
    {
      "cell_type": "code",
      "execution_count": null,
      "metadata": {
        "id": "AkV_apYcDhWp"
      },
      "outputs": [],
      "source": [
        "train = train.drop_duplicates()\n",
        "test=test.drop_duplicates()"
      ]
    },
    {
      "cell_type": "markdown",
      "metadata": {
        "id": "SjHKgO1Q-q69"
      },
      "source": [
        "> data type이 object인 것을 모두 인코딩(원-핫 인코딩 사용)"
      ]
    },
    {
      "cell_type": "code",
      "execution_count": null,
      "metadata": {},
      "outputs": [],
      "source": [
        "# # '전체전용면적' 열 생성\n",
        "# train['전체전용면적'] = train['전용면적'] * train['전용면적별세대수']\n",
        "# test['전체전용면적'] = test['전용면적'] * test['전용면적별세대수']\n",
        "# # '전용면적'과 '전용면적별세대수' 열 제거\n",
        "# train = train.drop(['전용면적', '전용면적별세대수'], axis=1)\n",
        "# test = test.drop(['전용면적', '전용면적별세대수'], axis=1)\n",
        "\n",
        "\n",
        "# train['임대보증금_임대료'] = train['임대보증금'] * train['임대료']\n",
        "# test['임대보증금_임대료'] = test['임대보증금'] * test['임대료']\n",
        "\n",
        "# train = train.drop(['임대보증금', '임대료'], axis=1)\n",
        "# test = test.drop(['임대보증금', '임대료'], axis=1)"
      ]
    },
    {
      "cell_type": "code",
      "execution_count": null,
      "metadata": {},
      "outputs": [],
      "source": [
        "train.columns"
      ]
    },
    {
      "cell_type": "code",
      "execution_count": null,
      "metadata": {},
      "outputs": [],
      "source": [
        "# def process_dataframe(df, is_train=True):\n",
        "#     # Exclude object data type columns\n",
        "#     numeric_cols = df.select_dtypes(exclude='object').columns\n",
        "#     if is_train:\n",
        "#         numeric_cols = numeric_cols.drop('등록차량수')\n",
        "#     mean_df = df.groupby('단지코드')[numeric_cols].mean()\n",
        "#     mean_df = mean_df.add_prefix('평균')\n",
        "#     df = df.merge(mean_df, on='단지코드', how='left')\n",
        "#     df.drop(numeric_cols, axis=1, inplace=True)\n",
        "#     return df\n",
        "\n",
        "# # Apply function to train and test data\n",
        "# train = process_dataframe(train, is_train=True)\n",
        "# test = process_dataframe(test, is_train=False)"
      ]
    },
    {
      "cell_type": "code",
      "execution_count": null,
      "metadata": {},
      "outputs": [],
      "source": [
        "train.dtypes"
      ]
    },
    {
      "cell_type": "code",
      "execution_count": null,
      "metadata": {},
      "outputs": [],
      "source": [
        "\n",
        "# train['총세대수_공가수'] = train['평균총세대수'] - train['평균공가수']\n",
        "# test['총세대수_공가수'] = test['평균총세대수'] - test['평균공가수']\n",
        "\n",
        "# train = train.drop(['평균공가수', '평균총세대수'], axis=1)\n",
        "# test = test.drop(['평균공가수', '평균총세대수'], axis=1)"
      ]
    },
    {
      "cell_type": "code",
      "execution_count": null,
      "metadata": {
        "colab": {
          "base_uri": "https://localhost:8080/"
        },
        "id": "hN1HmPwv2jJB",
        "outputId": "ab1fec91-7b70-4bb3-b979-f10b47daf60c"
      },
      "outputs": [],
      "source": [
        "# '단지코드'를 제외하고 object인 열을 모두 원-핫 인코딩 진행\n",
        "\n",
        "# 인코딩할 object 열을 식별\n",
        "object_columns = train.select_dtypes(include=['object']).columns.tolist()\n",
        "object_columns.remove('단지코드')  # '단지코드' 열은 제외하여 인코딩하지 않음\n",
        "\n",
        "# train, test에 대해 원-핫 인코딩 진행\n",
        "train_encoded = pd.get_dummies(train, columns=object_columns)\n",
        "test_encoded = pd.get_dummies(test, columns=object_columns)\n",
        "\n",
        "# 인코딩이 진행된 train 데이터의 열 확인\n",
        "train_encoded.head()\n",
        "train_encoded.columns"
      ]
    },
    {
      "cell_type": "code",
      "execution_count": null,
      "metadata": {
        "id": "6x8WBfWJ2jLQ"
      },
      "outputs": [],
      "source": [
        "# '임대건물구분'이 '상가'인 경우 '임대료', '임대보증금' 값을 drop\n",
        "# '임대건물구분'이 '상가'가 아닌 경우는 drop없이 그대로 진행\n",
        "\n",
        "train_store_data = train_encoded[train_encoded['임대건물구분_상가'] == 1].drop(columns=['임대보증금','임대료'])\n",
        "train_non_store_data = train_encoded[train_encoded['임대건물구분_상가'] != 1]\n",
        "\n",
        "test_store_data = test_encoded[test_encoded['임대건물구분_상가'] == 1].drop(columns=['임대보증금','임대료'])\n",
        "test_non_store_data = test_encoded[test_encoded['임대건물구분_상가'] != 1]"
      ]
    },
    {
      "cell_type": "markdown",
      "metadata": {
        "id": "AmsO8BDj-vrv"
      },
      "source": [
        "### `임대건물구분`이 상가인 것을 학습데이터로 나누고, 정규화를 두가지 방법(minMax Scaler, Stndardization Scaler)로 진행한 후,\n",
        "### Ridge, Lasso, ElasticNet 회귀 모델을 사용하여 MAE값이 가장 낮은것을 출력"
      ]
    },
    {
      "cell_type": "code",
      "execution_count": null,
      "metadata": {
        "id": "iUNCqmAl2jNa"
      },
      "outputs": [],
      "source": [
        "#'임대건물구분'이 '상가'와 '상가가 아닌 것'으로 데이터를 분리\n",
        "features_store = train_store_data.columns.drop(['등록차량수', '단지코드']).tolist()\n",
        "features_nonstore = train_non_store_data.columns.drop(['등록차량수', '단지코드']).tolist()\n",
        "target = '등록차량수'\n",
        "\n",
        "X_store =train_store_data[features_store]\n",
        "y_store=train_store_data[target]\n",
        "\n",
        "X_non_store =train_non_store_data[features_nonstore]\n",
        "y_non_store=train_non_store_data[target]\n",
        "\n",
        "# 훈련 데이터와 검증 데이터로 분리\n",
        "X_train_store, X_val_store, y_train_store, y_val_store = train_test_split(X_store, y_store, test_size=0.2, random_state=42)\n",
        "X_train_non_store, X_val_non_store, y_train_non_store, y_val_non_store = train_test_split(X_non_store, y_non_store, test_size=0.2, random_state=42)\n",
        "\n",
        "# Initialize scalers again\n",
        "Robust_scaler = RobustScaler()\n",
        "minmax_scaler = MinMaxScaler()\n",
        "standard_scaler = StandardScaler()\n",
        "\n",
        "# Apply Robust Scaling\n",
        "\n",
        "X_train_store_robust = Robust_scaler.fit_transform(X_train_store)\n",
        "X_val_store_robust = Robust_scaler.transform(X_val_store)\n",
        "\n",
        "X_train_non_store_robust = Robust_scaler.fit_transform(X_train_non_store)\n",
        "X_val_non_store_robust = Robust_scaler.transform(X_val_non_store)\n",
        "\n",
        "# Apply MinMax Scaling\n",
        "\n",
        "X_train_store_minmax = minmax_scaler.fit_transform(X_train_store)\n",
        "X_val_store_minmax = minmax_scaler.transform(X_val_store)\n",
        "\n",
        "X_train_non_store_minmax = minmax_scaler.fit_transform(X_train_non_store)\n",
        "X_val_non_store_minmax = minmax_scaler.transform(X_val_non_store)\n",
        "\n",
        "# Apply Standard Scaling\n",
        "X_train_store_std = standard_scaler.fit_transform(X_train_store)\n",
        "X_val_store_std = standard_scaler.transform(X_val_store)\n",
        "\n",
        "X_train_non_store_std = standard_scaler.fit_transform(X_train_non_store)\n",
        "X_val_non_store_std = standard_scaler.transform(X_val_non_store)"
      ]
    },
    {
      "cell_type": "code",
      "execution_count": null,
      "metadata": {
        "colab": {
          "base_uri": "https://localhost:8080/"
        },
        "id": "4u6p90M92jPa",
        "outputId": "65722592-c40f-407b-86ec-57117a05818c"
      },
      "outputs": [],
      "source": [
        "import numpy as np\n",
        "from sklearn.linear_model import Lasso, Ridge, ElasticNet\n",
        "from sklearn.model_selection import GridSearchCV\n",
        "from sklearn.metrics import mean_absolute_error\n",
        "from xgboost import XGBRegressor\n",
        "from sklearn.ensemble import RandomForestRegressor\n",
        "\n",
        "Robust_scaler = RobustScaler()\n",
        "minmax_scaler = MinMaxScaler()\n",
        "standard_scaler = StandardScaler()\n",
        "\n",
        "# 모델 및 파라미터 그리드 설정\n",
        "models = {\n",
        "    'Lasso': Lasso(),\n",
        "    'Ridge': Ridge(),\n",
        "    'ElasticNet': ElasticNet()\n",
        "    # 'XGBoost' : XGBRegressor(objective='reg:squarederror', random_state=42),\n",
        "    # 'RandomForest' : RandomForestRegressor(random_state=42)\n",
        "}\n",
        "\n",
        "params = {\n",
        "    'Lasso': {\n",
        "        'alpha': [0.001, 0.01, 0.1, 1, 10, 100],\n",
        "        'max_iter': [500, 1000,5000,10000],\n",
        "        'tol': [0.00001,0.0001, 0.001]\n",
        "    },\n",
        "    'Ridge': {\n",
        "        'alpha': [0.001, 0.01, 0.1, 1, 10, 100],\n",
        "        'max_iter': [100, 500, 1000,5000,10000],\n",
        "        'tol': [0.00001,0.0001, 0.001]\n",
        "    },\n",
        "    'ElasticNet': {\n",
        "        'alpha': [0.001, 0.01, 0.1, 1, 10, 100],\n",
        "        'l1_ratio': [.1, .5, .7, .9, .95, .99, 1],\n",
        "        'max_iter': [100,500, 1000],\n",
        "        'tol': [0.00001,0.0001, 0.001, 0.01]\n",
        "    },\n",
        "    # 'XGBoost' : {\n",
        "    #              'max_depth' : np.arange(5,9,1) ,\n",
        "    #               \"n_estimators\": [500],\n",
        "    #               'min_child_weight' : np.arange(1, 5, 1), \n",
        "    #               'gamma' : [0,1,2,3],\n",
        "    #               \"learning_rate\": [0.05, 0.075, 0.1],\n",
        "    #               'subsample' :np.arange(0.8, 1.0, 0.1)\n",
        "    # },\n",
        "    # 'RandomForest' : {\n",
        "    #     'n_estimators' : [100,500,1000],\n",
        "    #     'max_features' :  ['sqrt'],\n",
        "    #     'max_depth' : [10, 20, 30, 40, 50],\n",
        "    #     'min_samples_split' :  [2],\n",
        "    #     'bootstrap' :  [False]\n",
        "    # }\n",
        "}\n",
        "\n",
        "# 스케일링 방법\n",
        "scaling_methods = {\n",
        "    'Robust Scaling': (X_train_store_robust, X_val_store_robust),\n",
        "    'MinMax Scaling': (X_train_store_minmax, X_val_store_minmax),\n",
        "    'Standard Scaling': (X_train_store_std, X_val_store_std)\n",
        "}\n",
        "\n",
        "# 그리드 서치 및 MAE 계산\n",
        "best_mae = float('inf')\n",
        "best_model = None\n",
        "best_params = None\n",
        "best_scaling = None\n",
        "\n",
        "for name, model in models.items():\n",
        "    for method, (X_train_store_scaled, X_val_store_scaled) in scaling_methods.items():\n",
        "        grid = GridSearchCV(model, params[name], cv=5, n_jobs=-1, scoring='neg_mean_absolute_error')\n",
        "        grid.fit(X_train_store_scaled, y_train_store)\n",
        "        y_pred_store = grid.predict(X_val_store_scaled)\n",
        "        mae = mean_absolute_error(y_val_store, y_pred_store)\n",
        "\n",
        "        if mae < best_mae:\n",
        "            best_mae_store = mae\n",
        "            best_model_store = name\n",
        "            best_params_store = grid.best_params_\n",
        "            best_scaling_store = method\n",
        "\n",
        "print(f\"Best Model: {best_model_store}\")\n",
        "print(f\"Best Scaling Method: {best_scaling_store}\")\n",
        "print(f\"Best Parameters: {best_params_store}\")\n",
        "print(f\"Best MAE: {best_mae_store}\")\n"
      ]
    },
    {
      "cell_type": "code",
      "execution_count": null,
      "metadata": {
        "colab": {
          "base_uri": "https://localhost:8080/"
        },
        "id": "fUrWShBT2jRc",
        "outputId": "99c1ce0c-73bf-4ba9-8f2f-d2fc38fa6c70"
      },
      "outputs": [],
      "source": [
        "import numpy as np\n",
        "from sklearn.linear_model import Lasso, Ridge, ElasticNet\n",
        "from sklearn.model_selection import GridSearchCV\n",
        "from sklearn.metrics import mean_absolute_error\n",
        "\n",
        "Robust_scaler = RobustScaler()\n",
        "minmax_scaler = MinMaxScaler()\n",
        "standard_scaler = StandardScaler()\n",
        "\n",
        "# 데이터 및 스케일러가 주어진 것으로 가정\n",
        "# X_train, X_val, y_train, y_val = ...\n",
        "# minmax_scaler = ...\n",
        "# standard_scaler = ...\n",
        "\n",
        "# 모델 및 파라미터 그리드 설정\n",
        "models = {\n",
        "    'Lasso': Lasso(),\n",
        "    'Ridge': Ridge(),\n",
        "    'ElasticNet': ElasticNet()\n",
        "    # 'XGBoost' : XGBRegressor(objective='reg:squarederror', random_state=42),\n",
        "    # 'RandomForest' : RandomForestRegressor(random_state=42)\n",
        "}\n",
        "\n",
        "params = {\n",
        "    'Lasso': {\n",
        "        'alpha': [0.001, 0.01, 0.1, 1, 10, 100],\n",
        "        'max_iter': [1000,5000,10000],\n",
        "        'tol': [0.00001,0.0001, 0.001]\n",
        "    },\n",
        "    'Ridge': {\n",
        "        'alpha': [0.001, 0.01, 0.1, 1, 10, 100],\n",
        "        'max_iter': [1000,5000,10000],\n",
        "        'tol': [0.00001,0.0001, 0.001]\n",
        "    },\n",
        "    'ElasticNet': {\n",
        "        'alpha': [0.001, 0.01, 0.1, 1, 10, 100],\n",
        "        'l1_ratio': [.1, .5, .7, .9, .95, .99, 1],\n",
        "        'max_iter': [100, 500,1000,5000,10000],\n",
        "        'tol': [0.00001,0.0001, 0.001]\n",
        "    },\n",
        "    # 'XGBoost' : {\n",
        "    #              'max_depth' : np.arange(5,9,1) ,\n",
        "    #               \"n_estimators\": [100, 500],\n",
        "    #               'min_child_weight' : np.arange(1, 5, 1), \n",
        "    #               'gamma' : [0,1,2,3],\n",
        "    #               \"learning_rate\": [0.05, 0.075, 0.1],\n",
        "    #               'subsample' :np.arange(0.8, 1.0, 0.1)\n",
        "    # },\n",
        "    # 'RandomForest' : {\n",
        "    #     'n_estimators' : [100,500,1000],\n",
        "    #     'max_features' :  ['sqrt'],\n",
        "    #     'max_depth' : [40],\n",
        "    #     'min_samples_split' :  [2],\n",
        "    #     'bootstrap' :  [False]\n",
        "    # }\n",
        "}\n",
        "\n",
        "# 스케일링 방법\n",
        "scaling_methods = {\n",
        "    'Robust Scaling': (X_train_non_store_robust, X_val_non_store_robust),\n",
        "    'MinMax Scaling': (X_train_non_store_minmax, X_val_non_store_minmax),\n",
        "    'Standard Scaling': (X_train_non_store_std, X_val_non_store_std)\n",
        "}\n",
        "\n",
        "# 그리드 서치 및 MAE 계산\n",
        "best_mae = float('inf')\n",
        "best_model = None\n",
        "best_params = None\n",
        "best_scaling = None\n",
        "\n",
        "for name, model in models.items():\n",
        "    for method, (X_train_non_store_scaled, X_val_non_store_scaled) in scaling_methods.items():\n",
        "        grid = GridSearchCV(model, params[name], cv=5, n_jobs=-1, scoring='neg_mean_absolute_error')\n",
        "        grid.fit(X_train_non_store_scaled, y_train_non_store)\n",
        "        y_pred_non_store = grid.predict(X_val_non_store_scaled)\n",
        "        mae = mean_absolute_error(y_val_non_store, y_pred_non_store)\n",
        "\n",
        "        if mae < best_mae:\n",
        "            best_mae_non_store = mae\n",
        "            best_model_non_store = name\n",
        "            best_params_non_store  = grid.best_params_\n",
        "            best_scaling_non_store  = method\n",
        "\n",
        "print(f\"Best Model: {best_model_non_store}\")\n",
        "print(f\"Best Scaling Method: {best_scaling_non_store}\")\n",
        "print(f\"Best Parameters: {best_params_non_store}\")\n",
        "print(f\"Best MAE: {best_mae_non_store}\")\n",
        "\n",
        "best_mae_store, best_mae_non_store"
      ]
    },
    {
      "cell_type": "code",
      "execution_count": null,
      "metadata": {
        "id": "kfk5bSLd22Sk"
      },
      "outputs": [],
      "source": [
        "X_test_store = test_store_data[features_store]\n",
        "X_test_non_store = test_non_store_data[features_nonstore]"
      ]
    },
    {
      "cell_type": "code",
      "execution_count": null,
      "metadata": {
        "colab": {
          "base_uri": "https://localhost:8080/"
        },
        "id": "x_g7UGNr2jVs",
        "outputId": "b12032f8-c24a-4b8d-d983-c8a115277265"
      },
      "outputs": [],
      "source": [
        "# 선택한 모델로 스케일링된 테스트 데이터에 대한 예측 수행 (상가)\n",
        "X_test_store_scaled = None\n",
        "\n",
        "\n",
        "\n",
        "# 학습 데이터에 대해 스케일러를 학습(fit)시킴\n",
        "\n",
        "\n",
        "Robust_scaler = RobustScaler()\n",
        "minmax_scaler = MinMaxScaler()\n",
        "standard_scaler = StandardScaler()\n",
        "\n",
        "if best_scaling_store == 'MinMax Scaling':\n",
        "    #minmax_scaler.fit(X_test_store)\n",
        "    X_test_store_scaled = minmax_scaler.transform(X_test_store)\n",
        "elif best_scaling_store == 'Standard Scaling':\n",
        "    standard_scaler.fit(X_train_store)\n",
        "    X_train_store_scaled = standard_scaler.transform(X_train_store)\n",
        "    X_test_store_scaled = standard_scaler.transform(X_test_store)\n",
        "elif best_scaling_store == 'Robust Scaling':\n",
        "    #Robust_scaler.fit(X_test_store)\n",
        "    X_test_store_scaled = Robust_scaler.transform(X_test_store)\n",
        "\n",
        "y_pred_test_store = None\n",
        "\n",
        "if best_model_store == 'Lasso':\n",
        "    model_store = Lasso(**best_params_store)\n",
        "elif best_model_store == 'Ridge':\n",
        "    model_store = Ridge(**best_params_store)\n",
        "elif best_model_store == 'ElasticNet':\n",
        "    model_store = ElasticNet(**best_params_store)\n",
        "# elif best_model_store == 'XGBoost':\n",
        "#     model_store = XGBRegressor(**best_params_store)\n",
        "# elif best_model_store == 'RandomForest':\n",
        "#     model_store = RandomForestRegressor(**best_params_store)        \n",
        "\n",
        "model_store.fit(X_train_store_scaled, y_train_store)\n",
        "y_pred_test_store = model_store.predict(X_test_store_scaled)\n"
      ]
    },
    {
      "cell_type": "code",
      "execution_count": null,
      "metadata": {
        "id": "OTqG6sDEl5ZQ"
      },
      "outputs": [],
      "source": [
        "# 선택한 모델로 스케일링된 테스트 데이터에 대한 예측 수행 (상가가 아닌 것)\n",
        "# 학습 데이터에 대해 스케일러를 학습(fit)시킴\n",
        "X_test_non_store_scaled = None\n",
        "\n",
        "Robust_scaler = RobustScaler()\n",
        "minmax_scaler = MinMaxScaler()\n",
        "standard_scaler = StandardScaler()\n",
        "\n",
        "if best_scaling_non_store == 'MinMax Scaling':\n",
        "    # minmax_scaler.fit(X_test_non_store)\n",
        "    # standard_scaler.fit(X_train_store)\n",
        "    X_test_non_store_scaled = minmax_scaler.transform(X_test_non_store)\n",
        "elif best_scaling_non_store == 'Standard Scaling':\n",
        "    standard_scaler.fit(X_train_non_store)\n",
        "    X_train_non_store_scaled = standard_scaler.transform(X_train_non_store)\n",
        "    X_test_non_store_scaled = standard_scaler.transform(X_test_non_store)\n",
        "else :\n",
        "    # Robust_scaler.fit(X_test_non_store)\n",
        "    X_test_store_scaled = Robust_scaler.transform(X_test_non_store)\n",
        "\n",
        "y_pred_test_non_store = None\n",
        "\n",
        "if best_model_non_store == 'Lasso':\n",
        "    model_non_store = Lasso(**best_params_non_store)\n",
        "elif best_model_non_store == 'Ridge':\n",
        "    model_non_store = Ridge(**best_params_non_store)\n",
        "elif best_model_non_store == 'ElasticNet':\n",
        "    model_non_store = ElasticNet(**best_params_non_store)\n",
        "# elif best_model_store == 'XGBoost':\n",
        "#     model_non_store = XGBRegressor(**best_params_non_store)\n",
        "# elif best_model_store == 'RandomForest':\n",
        "#     model_non_store = RandomForestRegressor(**best_params_non_store)\n",
        "\n",
        "model_non_store.fit(X_train_non_store_scaled, y_train_non_store)\n",
        "y_pred_test_non_store = model_non_store.predict(X_test_non_store_scaled)\n",
        "\n",
        "y_pred_test_store[y_pred_test_store < 0] = 40\n",
        "y_pred_test_non_store[y_pred_test_non_store < 0] = 40\n",
        "\n",
        "# # 로그 변환\n",
        "# y_pred_test_store = np.log1p(y_pred_test_store)\n",
        "# y_pred_test_non_store = np.log1p(y_pred_test_non_store)\n",
        "\n",
        "# # 역 로그 변환\n",
        "# y_pred_test_store = np.expm1(y_pred_test_store)\n",
        "# y_pred_test_non_store = np.expm1(y_pred_test_non_store)\n",
        "\n",
        "# 예측 결과를 원래 데이터 프레임에 추가\n",
        "test_store_data['예측등록차량수'] = y_pred_test_store\n",
        "test_non_store_data['예측등록차량수'] = y_pred_test_non_store\n",
        "\n",
        "# 예측 결과 병합\n",
        "test_encoded_combined = pd.concat([test_store_data, test_non_store_data])\n",
        "\n",
        "# 각 단지코드의 예측된 등록차량수의 평균을 계산\n",
        "submission = test_encoded_combined.groupby('단지코드')['예측등록차량수'].mean().reset_index()\n",
        "submission.columns=['code','num']\n",
        "\n",
        "# sample submission 양식에 맞게 결과 조정\n",
        "final_submission = sample_submission.merge(submission, on='code', how='left')\n",
        "final_submission = final_submission[['code', 'num_y']]\n",
        "final_submission.columns = ['code', 'num']\n",
        "\n",
        "final_submission.head()\n",
        "# 예측 결과를 csv 파일로 저장\n",
        "final_submission.to_csv('tryage.csv', index=False)"
      ]
    },
    {
      "cell_type": "code",
      "execution_count": null,
      "metadata": {},
      "outputs": [],
      "source": []
    }
  ],
  "metadata": {
    "colab": {
      "provenance": []
    },
    "kernelspec": {
      "display_name": "tf25",
      "language": "python",
      "name": "python3"
    },
    "language_info": {
      "codemirror_mode": {
        "name": "ipython",
        "version": 3
      },
      "file_extension": ".py",
      "mimetype": "text/x-python",
      "name": "python",
      "nbconvert_exporter": "python",
      "pygments_lexer": "ipython3",
      "version": "3.8.18"
    },
    "vscode": {
      "interpreter": {
        "hash": "2dd1ca99377df5aa8dd5d26c3d4220cb676e90e9e0008654e76df47202f54a65"
      }
    }
  },
  "nbformat": 4,
  "nbformat_minor": 0
}
