{
 "cells": [
  {
   "cell_type": "code",
   "execution_count": null,
   "metadata": {},
   "outputs": [],
   "source": [
    "import pandas as pd\n",
    "import numpy as np\n",
    "from sklearn.preprocessing import MinMaxScaler, StandardScaler\n",
    "from sklearn.linear_model import Ridge, Lasso, ElasticNet\n",
    "from sklearn.model_selection import cross_val_score\n",
    "import seaborn as sns\n",
    "import matplotlib.pyplot as plt\n",
    "from matplotlib import font_manager, rc\n",
    "rc('font', family='AppleGothic')\n",
    "plt.rcParams['axes.unicode_minus'] = False"
   ]
  },
  {
   "cell_type": "code",
   "execution_count": null,
   "metadata": {},
   "outputs": [],
   "source": [
    "train = pd.read_csv('train.csv')"
   ]
  },
  {
   "cell_type": "code",
   "execution_count": null,
   "metadata": {},
   "outputs": [],
   "source": [
    "test = pd.read_csv('test.csv')"
   ]
  },
  {
   "cell_type": "code",
   "execution_count": null,
   "metadata": {},
   "outputs": [],
   "source": [
    "train.shape"
   ]
  },
  {
   "attachments": {},
   "cell_type": "markdown",
   "metadata": {},
   "source": [
    "> 데이터의 수 자체가 적음, 전처리가 중요"
   ]
  },
  {
   "cell_type": "code",
   "execution_count": null,
   "metadata": {},
   "outputs": [],
   "source": [
    "train.isna().sum()"
   ]
  },
  {
   "attachments": {},
   "cell_type": "markdown",
   "metadata": {},
   "source": [
    "> 총 4개의 column에서 결측치 발생"
   ]
  },
  {
   "cell_type": "code",
   "execution_count": null,
   "metadata": {},
   "outputs": [],
   "source": [
    "test.isna().sum()"
   ]
  },
  {
   "attachments": {},
   "cell_type": "markdown",
   "metadata": {},
   "source": [
    "> 총 4개의 column에서 결측치발생 \n",
    "\n",
    "> train에서는 결측치가 발생하지않은 column : `자격유형`"
   ]
  },
  {
   "cell_type": "code",
   "execution_count": null,
   "metadata": {},
   "outputs": [],
   "source": [
    "train_nunique = train.nunique()\n",
    "train_nunique"
   ]
  },
  {
   "cell_type": "code",
   "execution_count": null,
   "metadata": {},
   "outputs": [],
   "source": [
    "train_type_nunique = pd.DataFrame({\n",
    "    'Data Type': train.dtypes,\n",
    "    'Number of Unique Values': train.nunique()\n",
    "})\n",
    "\n",
    "train_type_nunique"
   ]
  },
  {
   "attachments": {},
   "cell_type": "markdown",
   "metadata": {},
   "source": [
    "> object이면서 nunique가 많은 값 : `공급유형`, `자격유형`, `지역`"
   ]
  },
  {
   "cell_type": "code",
   "execution_count": null,
   "metadata": {},
   "outputs": [],
   "source": [
    "# 지역 data 합치기\n",
    "\n",
    "train.loc[train.지역.isin(['경기도','서울특별시']), '지역'] = '수도권(서울/경기)'\n",
    "train.loc[train.지역.isin(['경상남도','울산광역시','부산광역시','대구광역시','경상북도']), '지역'] = '경상도'\n",
    "train.loc[train.지역.isin(['전라남도','광주광역시','전라북도']), '지역'] = '전라도'\n",
    "train.loc[train.지역.isin(['충청남도','충청북도','대전광역시','세종특별자치시']), '지역'] = '충청도'\n",
    "\n",
    "test.loc[test.지역.isin(['경기도','서울특별시']), '지역'] = '수도권(서울/경기)'\n",
    "test.loc[test.지역.isin(['경상남도','울산광역시','부산광역시','대구광역시','경상북도']), '지역'] = '경상도'\n",
    "test.loc[test.지역.isin(['전라남도','광주광역시','전라북도']), '지역'] = '전라도'\n",
    "test.loc[test.지역.isin(['충청남도','충청북도','대전광역시','세종특별자치시']), '지역'] = '충청도'"
   ]
  },
  {
   "cell_type": "code",
   "execution_count": null,
   "metadata": {},
   "outputs": [],
   "source": [
    "train['공급유형'].unique()"
   ]
  },
  {
   "cell_type": "code",
   "execution_count": null,
   "metadata": {},
   "outputs": [],
   "source": [
    "# train, test column rename : column명이 긴 것을 간결화\n",
    "train.rename(columns={'도보 10분거리 내 지하철역 수(환승노선 수 반영)': '지하철수',\n",
    "                      '도보 10분거리 내 버스정류장 수': '버스수'}, inplace=True)\n",
    "test.rename(columns={'도보 10분거리 내 지하철역 수(환승노선 수 반영)': '지하철수',\n",
    "                     '도보 10분거리 내 버스정류장 수': '버스수'}, inplace=True)\n",
    "\n",
    "\n",
    "# 결측치 통일 : '임대료','임대보증금' 컬럼에서 '-' 값을 NaN으로 변경\n",
    "\n",
    "for col in ['임대료', '임대보증금']:\n",
    "    train[col] = train[col].replace('-', np.nan).astype(float)\n",
    "    test[col] = test[col].replace('-', np.nan).astype(float)\n",
    "\n",
    "# 해당 컬럼을 float64 타입으로 변환\n",
    "train['임대료'] = train['임대료'].astype(float)\n",
    "train['임대보증금'] = train['임대보증금'].astype(float)\n",
    "\n",
    "# 해당 컬럼을 float64 타입으로 변환\n",
    "test['임대료'] = test['임대료'].astype(float)\n",
    "test['임대보증금'] = test['임대보증금'].astype(float)\n",
    "\n",
    "# 버스수, 지하철수의 결측치를 0으로 채움\n",
    "# <위의 근거를 써주세요!>\n",
    "\n",
    "train['버스수'].fillna(0, inplace=True)\n",
    "train['지하철수'].fillna(0, inplace=True)\n",
    "\n",
    "#C2411 자격유형 → 'A'\n",
    "# <위의 근거를 써주세요!>\n",
    "test[test['단지코드']=='C2411']['자격유형'].fillna('A')\n",
    "\n",
    "#C2253 자격유형 → 'C'\n",
    "# <위의 근거를 써주세요!>\n",
    "test[test['단지코드']=='C2253']['자격유형'].fillna('C')\n",
    "\n",
    "train.head()"
   ]
  },
  {
   "cell_type": "code",
   "execution_count": null,
   "metadata": {},
   "outputs": [],
   "source": [
    "# Filter rows where '임대료' or '임대보증금' is NaN\n",
    "missing_data = train[train['임대료'].isna() | train['임대보증금'].isna()]\n",
    "\n",
    "# Display statistical summary and the first few rows of the missing data\n",
    "summary = missing_data.describe(include='all')\n",
    "summary\n"
   ]
  },
  {
   "attachments": {},
   "cell_type": "markdown",
   "metadata": {},
   "source": [
    "> `임대건물구분`에서 대부분의 행이 '상가'로 분류되어 있습니다.\n",
    "\n",
    "> `공급유형`은 대부분 '임대상가'입니다.\n",
    "\n",
    "> `자격유형`은 모두 'D'입니다.\n"
   ]
  },
  {
   "cell_type": "code",
   "execution_count": null,
   "metadata": {},
   "outputs": [],
   "source": [
    "print(\"임대건물구분이 상가인 것의 임대료\",train[train['임대건물구분'] == '상가']['임대료'].unique())\n",
    "print(\"임대건물구분이 상가인 것의 임대보증금\",train[train['임대건물구분'] == '상가']['임대보증금'].unique())\n",
    "print(\"공급유형이 임대상가인 것의 임대료\",train[train['공급유형']=='임대상가']['임대료'].unique())\n",
    "print(\"공급유형이 임대상가인 것의 임대보증금\",train[train['공급유형']=='임대상가']['임대보증금'].unique())\n",
    "print(\"자격유형이 D인 것의 임대료\",train[train['자격유형'] == 'D']['임대료'].unique())\n",
    "print(\"자격유형이 D인 것의 임대보증금\",train[train['자격유형'] == 'D']['임대보증금'].unique())"
   ]
  },
  {
   "attachments": {},
   "cell_type": "markdown",
   "metadata": {},
   "source": [
    "> 해당하는 조건을 해봤으나 모두 nan값이라 유의미한 결과를 도출할 수 없음"
   ]
  },
  {
   "attachments": {},
   "cell_type": "markdown",
   "metadata": {},
   "source": [
    "> 상가가 아닌 것의 데이터를 살펴보았습니다."
   ]
  },
  {
   "cell_type": "code",
   "execution_count": null,
   "metadata": {},
   "outputs": [],
   "source": [
    "train[(train['임대료'].isna()) & (train['임대건물구분'] != '상가')]"
   ]
  },
  {
   "cell_type": "code",
   "execution_count": null,
   "metadata": {},
   "outputs": [],
   "source": [
    "test[(test['임대료'].isna()) & (test['임대건물구분'] != '상가')]"
   ]
  },
  {
   "attachments": {},
   "cell_type": "markdown",
   "metadata": {},
   "source": [
    "> 장기전세주택이란 월 임대료를 지불하지 않고 전세계약 방식으로 공급되는 공공임대주택을 말합니다. [출처](https://www.mylawstory.com/5606/)\n",
    "\n",
    ">그러므로 장기전세의 임대료는 0으로 바꿔주는 것이 맞습니다\n"
   ]
  },
  {
   "cell_type": "code",
   "execution_count": null,
   "metadata": {},
   "outputs": [],
   "source": [
    "#### 장기전세는 월 임대료를 지불하지않으므로 임대료 = 0 적용\n",
    "train.loc[train['공급유형'] == '장기전세', '임대료'] = 0\n",
    "test.loc[test['공급유형'] == '장기전세', '임대료'] = 0"
   ]
  },
  {
   "attachments": {},
   "cell_type": "markdown",
   "metadata": {},
   "source": [
    "> 전용면적과 임대료, 임대보증금이 높은 상관관계를 가지므로\n",
    "\n",
    "> 공급유형이 상가가 아닌것들 중에 임대료와 임대보증금이 결측치인경우 지역별로 나눈 후 전용면적에 따른 회귀모델을 통해 임대료와 임대보증금의 결측치를 채워줍니다."
   ]
  },
  {
   "cell_type": "code",
   "execution_count": null,
   "metadata": {},
   "outputs": [],
   "source": [
    "#train data 상가아닌 것 임대료, 임대보증금 회귀예측\n",
    "\n",
    "from sklearn.linear_model import LinearRegression\n",
    "from sklearn.model_selection import train_test_split\n",
    "from sklearn.metrics import mean_squared_error\n",
    "\n",
    "# Filter out rows where '공급유형' is '상가'\n",
    "train_non_store = train[train['공급유형'] != '상가']\n",
    "\n",
    "# List of unique regions\n",
    "regions = train_non_store['지역'].unique()\n",
    "\n",
    "# For storing predicted values\n",
    "predicted_rent = []\n",
    "predicted_deposit = []\n",
    "\n",
    "# Iterate over each region\n",
    "for region in regions:\n",
    "    region_data = train_non_store[train_non_store['지역'] == region].copy()\n",
    "    \n",
    "    # Train a regression model for '임대료'\n",
    "    X = region_data[~region_data['임대료'].isna()][['전용면적']]\n",
    "    y = region_data[~region_data['임대료'].isna()]['임대료']\n",
    "    if len(X) > 0:\n",
    "        model_rent = LinearRegression()\n",
    "        model_rent.fit(X, y)\n",
    "        # Predict for missing values\n",
    "        X_missing_rent = region_data[region_data['임대료'].isna()][['전용면적']]\n",
    "        if len(X_missing_rent) > 0:\n",
    "            pred_rent = model_rent.predict(X_missing_rent)\n",
    "            predicted_rent.extend(pred_rent)\n",
    "    \n",
    "    # Train a regression model for '임대보증금'\n",
    "    X = region_data[~region_data['임대보증금'].isna()][['전용면적']]\n",
    "    y = region_data[~region_data['임대보증금'].isna()]['임대보증금']\n",
    "    if len(X) > 0:\n",
    "        model_deposit = LinearRegression()\n",
    "        model_deposit.fit(X, y)\n",
    "        # Predict for missing values\n",
    "        X_missing_deposit = region_data[region_data['임대보증금'].isna()][['전용면적']]\n",
    "        if len(X_missing_deposit) > 0:\n",
    "            pred_deposit = model_deposit.predict(X_missing_deposit)\n",
    "            predicted_deposit.extend(pred_deposit)\n",
    "\n",
    "# Fill in the missing values in the original dataframe\n",
    "missing_rent_indices = train_non_store[train_non_store['임대료'].isna()].index\n",
    "for idx, value in zip(missing_rent_indices, predicted_rent):\n",
    "    train.at[idx, '임대료'] = value\n",
    "\n",
    "missing_deposit_indices = train_non_store[train_non_store['임대보증금'].isna()].index\n",
    "for idx, value in zip(missing_deposit_indices, predicted_deposit):\n",
    "    train.at[idx, '임대보증금'] = value\n",
    "\n",
    "# Verify if the missing values are filled\n",
    "missing_values = train[train['공급유형'] != '상가'][['임대료', '임대보증금']].isnull().sum()\n",
    "\n",
    "missing_values"
   ]
  },
  {
   "cell_type": "code",
   "execution_count": null,
   "metadata": {},
   "outputs": [],
   "source": [
    "# Filter out rows where '공급유형' is '상가'\n",
    "test_non_store = test[test['공급유형'] != '상가']\n",
    "\n",
    "# List of unique regions\n",
    "regions = test_non_store['지역'].unique()\n",
    "\n",
    "# For storing predicted values\n",
    "predicted_rent = []\n",
    "predicted_deposit = []\n",
    "\n",
    "# Iterate over each region\n",
    "for region in regions:\n",
    "    region_data = test_non_store[test_non_store['지역'] == region].copy()\n",
    "    \n",
    "    # Train a regression model for '임대료'\n",
    "    X = region_data[~region_data['임대료'].isna()][['전용면적']]\n",
    "    y = region_data[~region_data['임대료'].isna()]['임대료']\n",
    "    if len(X) > 0:\n",
    "        model_rent = LinearRegression()\n",
    "        model_rent.fit(X, y)\n",
    "        # Predict for missing values\n",
    "        X_missing_rent = region_data[region_data['임대료'].isna()][['전용면적']]\n",
    "        if len(X_missing_rent) > 0:\n",
    "            pred_rent = model_rent.predict(X_missing_rent)\n",
    "            predicted_rent.extend(pred_rent)\n",
    "    \n",
    "    # Train a regression model for '임대보증금'\n",
    "    X = region_data[~region_data['임대보증금'].isna()][['전용면적']]\n",
    "    y = region_data[~region_data['임대보증금'].isna()]['임대보증금']\n",
    "    if len(X) > 0:\n",
    "        model_deposit = LinearRegression()\n",
    "        model_deposit.fit(X, y)\n",
    "        # Predict for missing values\n",
    "        X_missing_deposit = region_data[region_data['임대보증금'].isna()][['전용면적']]\n",
    "        if len(X_missing_deposit) > 0:\n",
    "            pred_deposit = model_deposit.predict(X_missing_deposit)\n",
    "            predicted_deposit.extend(pred_deposit)\n",
    "\n",
    "# Fill in the missing values in the original dataframe\n",
    "missing_rent_indices = test_non_store[test_non_store['임대료'].isna()].index\n",
    "for idx, value in zip(missing_rent_indices, predicted_rent):\n",
    "    test.at[idx, '임대료'] = value\n",
    "\n",
    "missing_deposit_indices = test_non_store[test_non_store['임대보증금'].isna()].index\n",
    "for idx, value in zip(missing_deposit_indices, predicted_deposit):\n",
    "    test.at[idx, '임대보증금'] = value\n",
    "\n",
    "# Verify if the missing values are filled\n",
    "missing_values = test[test['공급유형'] != '상가'][['임대료', '임대보증금']].isnull().sum()\n",
    "\n",
    "missing_values"
   ]
  },
  {
   "cell_type": "markdown",
   "metadata": {},
   "source": [
    "> data type이 object인 것을 모두 인코딩(원-핫 인코딩 사용)"
   ]
  },
  {
   "cell_type": "code",
   "execution_count": null,
   "metadata": {},
   "outputs": [],
   "source": [
    "# One-hot encode the object columns (except '단지코드')\n",
    "\n",
    "# Identify the object columns to be encoded\n",
    "object_columns = train.select_dtypes(include=['object']).columns.tolist()\n",
    "object_columns.remove('단지코드')  # Exclude '단지코드'\n",
    "\n",
    "# One-hot encode\n",
    "train_encoded = pd.get_dummies(train, columns=object_columns)\n",
    "test_encoded = pd.get_dummies(test, columns=object_columns)\n",
    "\n",
    "# Display the first few rows of the encoded data\n",
    "train_encoded.head()\n",
    "train_encoded.columns"
   ]
  },
  {
   "cell_type": "code",
   "execution_count": null,
   "metadata": {},
   "outputs": [],
   "source": [
    "train_store_data = train_encoded[train_encoded['임대건물구분_상가'] == 1].drop(columns=['임대료', '임대보증금'])\n",
    "train_non_store_data = train_encoded[train_encoded['임대건물구분_상가'] != 1]\n",
    "\n",
    "test_store_data = test_encoded[test_encoded['임대건물구분_상가'] == 1].drop(columns=['임대료', '임대보증금'])\n",
    "test_non_store_data = test_encoded[test_encoded['임대건물구분_상가'] != 1]"
   ]
  },
  {
   "cell_type": "code",
   "execution_count": null,
   "metadata": {},
   "outputs": [],
   "source": [
    "train_encoded.dtypes"
   ]
  },
  {
   "cell_type": "code",
   "execution_count": null,
   "metadata": {},
   "outputs": [],
   "source": [
    "# X와 y 분리\n",
    "X = train_store_data.drop(['단지코드','등록차량수'], axis=1)  # 'target'은 예측하고자 하는 타겟 변수입니다.\n",
    "y = train_store_data['등록차량수']\n",
    "\n",
    "# 학습 데이터와 검증 데이터로 분리\n",
    "X_train, X_val, y_train, y_val = train_test_split(X, y, test_size=0.2, random_state=42)\n",
    "\n",
    "# 모델 학습\n",
    "lasso = Lasso(alpha=1.0)\n",
    "ridge = Ridge(alpha=1.0)\n",
    "elastic_net = ElasticNet(alpha=1.0, l1_ratio=0.5)\n",
    "\n",
    "lasso.fit(X_train, y_train)\n",
    "ridge.fit(X_train, y_train)\n",
    "elastic_net.fit(X_train, y_train)\n",
    "\n",
    "# 예측\n",
    "lasso_pred = lasso.predict(X_val)\n",
    "ridge_pred = ridge.predict(X_val)\n",
    "elastic_net_pred = elastic_net.predict(X_val)\n",
    "\n",
    "from sklearn.metrics import mean_absolute_error\n",
    "\n",
    "# 성능 평가 (MAE)\n",
    "lasso_mae = mean_absolute_error(y_val, lasso_pred)\n",
    "ridge_mae = mean_absolute_error(y_val, ridge_pred)\n",
    "elastic_net_mae = mean_absolute_error(y_val, elastic_net_pred)\n",
    "\n",
    "min_mae = min(lasso_mae, ridge_mae, elastic_net_mae)\n",
    "\n",
    "if min_mae == lasso_mae:\n",
    "    best_model = lasso\n",
    "    model_name = \"Lasso\"\n",
    "elif min_mae == ridge_mae:\n",
    "    best_model = ridge\n",
    "    model_name = \"Ridge\"\n",
    "else:\n",
    "    best_model = elastic_net\n",
    "    model_name = \"ElasticNet\"\n",
    "\n",
    "print(f\"Best Model: {model_name} with MAE: {min_mae}\")\n",
    "\n"
   ]
  },
  {
   "cell_type": "code",
   "execution_count": null,
   "metadata": {},
   "outputs": [],
   "source": [
    "# X와 y 분리\n",
    "X = train_non_store_data.drop(['단지코드','등록차량수'], axis=1)  # 'target'은 예측하고자 하는 타겟 변수입니다.\n",
    "y = train_non_store_data['등록차량수']\n",
    "\n",
    "# 학습 데이터와 검증 데이터로 분리\n",
    "X_train, X_val, y_train, y_val = train_test_split(X, y, test_size=0.2, random_state=42)\n",
    "\n",
    "# 모델 학습\n",
    "lasso = Lasso(alpha=1.0)\n",
    "ridge = Ridge(alpha=1.0)\n",
    "elastic_net = ElasticNet(alpha=1.0, l1_ratio=0.5)\n",
    "\n",
    "lasso.fit(X_train, y_train)\n",
    "ridge.fit(X_train, y_train)\n",
    "elastic_net.fit(X_train, y_train)\n",
    "\n",
    "# 예측\n",
    "lasso_pred = lasso.predict(X_val)\n",
    "ridge_pred = ridge.predict(X_val)\n",
    "elastic_net_pred = elastic_net.predict(X_val)\n",
    "\n",
    "from sklearn.metrics import mean_absolute_error\n",
    "\n",
    "# 성능 평가 (MAE)\n",
    "lasso_mae = mean_absolute_error(y_val, lasso_pred)\n",
    "ridge_mae = mean_absolute_error(y_val, ridge_pred)\n",
    "elastic_net_mae = mean_absolute_error(y_val, elastic_net_pred)\n",
    "\n",
    "min_mae = min(lasso_mae, ridge_mae, elastic_net_mae)\n",
    "\n",
    "if min_mae == lasso_mae:\n",
    "    best_model = lasso\n",
    "    model_name = \"Lasso\"\n",
    "elif min_mae == ridge_mae:\n",
    "    best_model = ridge\n",
    "    model_name = \"Ridge\"\n",
    "else:\n",
    "    best_model = elastic_net\n",
    "    model_name = \"ElasticNet\"\n",
    "\n",
    "print(f\"Best Model: {model_name} with MAE: {min_mae}\")\n",
    "\n"
   ]
  },
  {
   "cell_type": "code",
   "execution_count": null,
   "metadata": {},
   "outputs": [],
   "source": []
  }
 ],
 "metadata": {
  "kernelspec": {
   "display_name": "tf25",
   "language": "python",
   "name": "python3"
  },
  "language_info": {
   "codemirror_mode": {
    "name": "ipython",
    "version": 3
   },
   "file_extension": ".py",
   "mimetype": "text/x-python",
   "name": "python",
   "nbconvert_exporter": "python",
   "pygments_lexer": "ipython3",
   "version": "3.8.18"
  },
  "orig_nbformat": 4,
  "vscode": {
   "interpreter": {
    "hash": "2dd1ca99377df5aa8dd5d26c3d4220cb676e90e9e0008654e76df47202f54a65"
   }
  }
 },
 "nbformat": 4,
 "nbformat_minor": 2
}
