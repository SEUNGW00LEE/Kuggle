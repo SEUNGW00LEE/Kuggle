{
 "cells": [
  {
   "cell_type": "code",
   "execution_count": 27,
   "metadata": {
    "id": "e-5PtlmL66zh"
   },
   "outputs": [],
   "source": [
    "# 필요한 library 불러오기\n",
    "\n",
    "import pandas as pd\n",
    "import numpy as np\n",
    "from sklearn.preprocessing import MinMaxScaler, StandardScaler\n",
    "from sklearn.linear_model import Ridge, Lasso, ElasticNet\n",
    "from sklearn.model_selection import cross_val_score\n",
    "import seaborn as sns\n",
    "import matplotlib.pyplot as plt\n",
    "from matplotlib import font_manager, rc\n",
    "rc('font', family='AppleGothic')\n",
    "plt.rcParams['axes.unicode_minus'] = False"
   ]
  },
  {
   "cell_type": "code",
   "execution_count": 28,
   "metadata": {
    "id": "aL15R2Ha66zj"
   },
   "outputs": [],
   "source": [
    "train = pd.read_csv('train.csv')"
   ]
  },
  {
   "cell_type": "code",
   "execution_count": 29,
   "metadata": {
    "id": "9YHgAlY266zk"
   },
   "outputs": [],
   "source": [
    "test = pd.read_csv('test.csv')"
   ]
  },
  {
   "cell_type": "code",
   "execution_count": 30,
   "metadata": {
    "colab": {
     "base_uri": "https://localhost:8080/"
    },
    "id": "X4fzkrtL66zk",
    "outputId": "b9e54cc7-dcce-4063-fe4a-67617a82591e"
   },
   "outputs": [
    {
     "data": {
      "text/plain": [
       "(2952, 15)"
      ]
     },
     "execution_count": 30,
     "metadata": {},
     "output_type": "execute_result"
    }
   ],
   "source": [
    "train.shape"
   ]
  },
  {
   "cell_type": "markdown",
   "metadata": {
    "id": "tV0LrfCs66zl"
   },
   "source": [
    "> 데이터의 수 자체가 적음, 전처리가 중요"
   ]
  },
  {
   "cell_type": "code",
   "execution_count": 31,
   "metadata": {
    "colab": {
     "base_uri": "https://localhost:8080/"
    },
    "id": "n6s2Itox66zm",
    "outputId": "87667ad1-cde5-43f5-82c6-b24b0f2a9a5c"
   },
   "outputs": [
    {
     "data": {
      "text/plain": [
       "단지코드                              0\n",
       "총세대수                              0\n",
       "임대건물구분                            0\n",
       "지역                                0\n",
       "공급유형                              0\n",
       "전용면적                              0\n",
       "전용면적별세대수                          0\n",
       "공가수                               0\n",
       "자격유형                              0\n",
       "임대보증금                           569\n",
       "임대료                             569\n",
       "도보 10분거리 내 지하철역 수(환승노선 수 반영)    211\n",
       "도보 10분거리 내 버스정류장 수                4\n",
       "단지내주차면수                           0\n",
       "등록차량수                             0\n",
       "dtype: int64"
      ]
     },
     "execution_count": 31,
     "metadata": {},
     "output_type": "execute_result"
    }
   ],
   "source": [
    "train.isna().sum()"
   ]
  },
  {
   "cell_type": "markdown",
   "metadata": {
    "id": "jCn82RsQ66zm"
   },
   "source": [
    "> 총 4개의 column에서 결측치 발생"
   ]
  },
  {
   "cell_type": "code",
   "execution_count": 32,
   "metadata": {
    "colab": {
     "base_uri": "https://localhost:8080/"
    },
    "id": "tYX7JHeP66zm",
    "outputId": "f8a2bbe2-15e7-4436-b009-48bf6093413b"
   },
   "outputs": [
    {
     "data": {
      "text/plain": [
       "단지코드                              0\n",
       "총세대수                              0\n",
       "임대건물구분                            0\n",
       "지역                                0\n",
       "공급유형                              0\n",
       "전용면적                              0\n",
       "전용면적별세대수                          0\n",
       "공가수                               0\n",
       "자격유형                              2\n",
       "임대보증금                           180\n",
       "임대료                             180\n",
       "도보 10분거리 내 지하철역 수(환승노선 수 반영)     42\n",
       "도보 10분거리 내 버스정류장 수                0\n",
       "단지내주차면수                           0\n",
       "dtype: int64"
      ]
     },
     "execution_count": 32,
     "metadata": {},
     "output_type": "execute_result"
    }
   ],
   "source": [
    "test.isna().sum()"
   ]
  },
  {
   "cell_type": "markdown",
   "metadata": {
    "id": "N-Y1ypFx66zn"
   },
   "source": [
    "> 총 4개의 column에서 결측치발생\n",
    "\n",
    "> train에서는 결측치가 발생하지않은 column : `자격유형`"
   ]
  },
  {
   "cell_type": "code",
   "execution_count": 33,
   "metadata": {
    "colab": {
     "base_uri": "https://localhost:8080/"
    },
    "id": "2jk7iK1b66zn",
    "outputId": "d5f8167e-96d1-483d-820b-706acd8f3175"
   },
   "outputs": [
    {
     "data": {
      "text/plain": [
       "단지코드                            423\n",
       "총세대수                            351\n",
       "임대건물구분                            2\n",
       "지역                               16\n",
       "공급유형                             10\n",
       "전용면적                            679\n",
       "전용면적별세대수                        403\n",
       "공가수                              48\n",
       "자격유형                             15\n",
       "임대보증금                           957\n",
       "임대료                             995\n",
       "도보 10분거리 내 지하철역 수(환승노선 수 반영)      4\n",
       "도보 10분거리 내 버스정류장 수               17\n",
       "단지내주차면수                         355\n",
       "등록차량수                           354\n",
       "dtype: int64"
      ]
     },
     "execution_count": 33,
     "metadata": {},
     "output_type": "execute_result"
    }
   ],
   "source": [
    "train_nunique = train.nunique()\n",
    "train_nunique"
   ]
  },
  {
   "cell_type": "code",
   "execution_count": 34,
   "metadata": {
    "colab": {
     "base_uri": "https://localhost:8080/",
     "height": 520
    },
    "id": "Pir4WcVq66zn",
    "outputId": "31f0ef70-41b9-4a85-f77e-70cfdbf3c30c"
   },
   "outputs": [
    {
     "data": {
      "text/html": [
       "<div>\n",
       "<style scoped>\n",
       "    .dataframe tbody tr th:only-of-type {\n",
       "        vertical-align: middle;\n",
       "    }\n",
       "\n",
       "    .dataframe tbody tr th {\n",
       "        vertical-align: top;\n",
       "    }\n",
       "\n",
       "    .dataframe thead th {\n",
       "        text-align: right;\n",
       "    }\n",
       "</style>\n",
       "<table border=\"1\" class=\"dataframe\">\n",
       "  <thead>\n",
       "    <tr style=\"text-align: right;\">\n",
       "      <th></th>\n",
       "      <th>Data Type</th>\n",
       "      <th>Number of Unique Values</th>\n",
       "    </tr>\n",
       "  </thead>\n",
       "  <tbody>\n",
       "    <tr>\n",
       "      <th>단지코드</th>\n",
       "      <td>object</td>\n",
       "      <td>423</td>\n",
       "    </tr>\n",
       "    <tr>\n",
       "      <th>총세대수</th>\n",
       "      <td>int64</td>\n",
       "      <td>351</td>\n",
       "    </tr>\n",
       "    <tr>\n",
       "      <th>임대건물구분</th>\n",
       "      <td>object</td>\n",
       "      <td>2</td>\n",
       "    </tr>\n",
       "    <tr>\n",
       "      <th>지역</th>\n",
       "      <td>object</td>\n",
       "      <td>16</td>\n",
       "    </tr>\n",
       "    <tr>\n",
       "      <th>공급유형</th>\n",
       "      <td>object</td>\n",
       "      <td>10</td>\n",
       "    </tr>\n",
       "    <tr>\n",
       "      <th>전용면적</th>\n",
       "      <td>float64</td>\n",
       "      <td>679</td>\n",
       "    </tr>\n",
       "    <tr>\n",
       "      <th>전용면적별세대수</th>\n",
       "      <td>int64</td>\n",
       "      <td>403</td>\n",
       "    </tr>\n",
       "    <tr>\n",
       "      <th>공가수</th>\n",
       "      <td>float64</td>\n",
       "      <td>48</td>\n",
       "    </tr>\n",
       "    <tr>\n",
       "      <th>자격유형</th>\n",
       "      <td>object</td>\n",
       "      <td>15</td>\n",
       "    </tr>\n",
       "    <tr>\n",
       "      <th>임대보증금</th>\n",
       "      <td>object</td>\n",
       "      <td>957</td>\n",
       "    </tr>\n",
       "    <tr>\n",
       "      <th>임대료</th>\n",
       "      <td>object</td>\n",
       "      <td>995</td>\n",
       "    </tr>\n",
       "    <tr>\n",
       "      <th>도보 10분거리 내 지하철역 수(환승노선 수 반영)</th>\n",
       "      <td>float64</td>\n",
       "      <td>4</td>\n",
       "    </tr>\n",
       "    <tr>\n",
       "      <th>도보 10분거리 내 버스정류장 수</th>\n",
       "      <td>float64</td>\n",
       "      <td>17</td>\n",
       "    </tr>\n",
       "    <tr>\n",
       "      <th>단지내주차면수</th>\n",
       "      <td>float64</td>\n",
       "      <td>355</td>\n",
       "    </tr>\n",
       "    <tr>\n",
       "      <th>등록차량수</th>\n",
       "      <td>float64</td>\n",
       "      <td>354</td>\n",
       "    </tr>\n",
       "  </tbody>\n",
       "</table>\n",
       "</div>"
      ],
      "text/plain": [
       "                             Data Type  Number of Unique Values\n",
       "단지코드                            object                      423\n",
       "총세대수                             int64                      351\n",
       "임대건물구분                          object                        2\n",
       "지역                              object                       16\n",
       "공급유형                            object                       10\n",
       "전용면적                           float64                      679\n",
       "전용면적별세대수                         int64                      403\n",
       "공가수                            float64                       48\n",
       "자격유형                            object                       15\n",
       "임대보증금                           object                      957\n",
       "임대료                             object                      995\n",
       "도보 10분거리 내 지하철역 수(환승노선 수 반영)   float64                        4\n",
       "도보 10분거리 내 버스정류장 수             float64                       17\n",
       "단지내주차면수                        float64                      355\n",
       "등록차량수                          float64                      354"
      ]
     },
     "execution_count": 34,
     "metadata": {},
     "output_type": "execute_result"
    }
   ],
   "source": [
    "#데이터 타입과 unique한 값의 갯수 보기\n",
    "train_type_nunique = pd.DataFrame({\n",
    "    'Data Type': train.dtypes,\n",
    "    'Number of Unique Values': train.nunique()\n",
    "})\n",
    "\n",
    "train_type_nunique"
   ]
  },
  {
   "cell_type": "markdown",
   "metadata": {
    "id": "xuwhNrzH66zn"
   },
   "source": [
    "> object이면서 nunique가 많은 값 : `공급유형`, `자격유형`, `지역`"
   ]
  },
  {
   "cell_type": "code",
   "execution_count": 35,
   "metadata": {
    "id": "-Bau5Fz_66zn"
   },
   "outputs": [],
   "source": [
    "# 지역 data 합치기\n",
    "\n",
    "train.loc[train.지역.isin(['경기도','서울특별시']), '지역'] = '수도권(서울/경기)'\n",
    "train.loc[train.지역.isin(['경상남도','울산광역시','부산광역시','대구광역시','경상북도']), '지역'] = '경상도'\n",
    "train.loc[train.지역.isin(['전라남도','광주광역시','전라북도']), '지역'] = '전라도'\n",
    "train.loc[train.지역.isin(['충청남도','충청북도','대전광역시','세종특별자치시']), '지역'] = '충청도'\n",
    "\n",
    "test.loc[test.지역.isin(['경기도','서울특별시']), '지역'] = '수도권(서울/경기)'\n",
    "test.loc[test.지역.isin(['경상남도','울산광역시','부산광역시','대구광역시','경상북도']), '지역'] = '경상도'\n",
    "test.loc[test.지역.isin(['전라남도','광주광역시','전라북도']), '지역'] = '전라도'\n",
    "test.loc[test.지역.isin(['충청남도','충청북도','대전광역시','세종특별자치시']), '지역'] = '충청도'"
   ]
  },
  {
   "cell_type": "code",
   "execution_count": 36,
   "metadata": {
    "colab": {
     "base_uri": "https://localhost:8080/",
     "height": 627
    },
    "id": "lcnM8tei66zo",
    "outputId": "c1b1afad-5ef2-44af-aff1-8059c1fd7723"
   },
   "outputs": [
    {
     "name": "stdout",
     "output_type": "stream",
     "text": [
      "[]\n",
      "[]\n"
     ]
    },
    {
     "name": "stderr",
     "output_type": "stream",
     "text": [
      "/var/folders/xs/tvgnm55s5xjd3wv7fc3m0bv80000gn/T/ipykernel_1937/2301715094.py:41: UserWarning: Boolean Series key will be reindexed to match DataFrame index.\n",
      "  nan_subway = test[(test['지역'] == '대전광역시') & (train['지하철수'].isna())]\n"
     ]
    },
    {
     "data": {
      "text/html": [
       "<div>\n",
       "<style scoped>\n",
       "    .dataframe tbody tr th:only-of-type {\n",
       "        vertical-align: middle;\n",
       "    }\n",
       "\n",
       "    .dataframe tbody tr th {\n",
       "        vertical-align: top;\n",
       "    }\n",
       "\n",
       "    .dataframe thead th {\n",
       "        text-align: right;\n",
       "    }\n",
       "</style>\n",
       "<table border=\"1\" class=\"dataframe\">\n",
       "  <thead>\n",
       "    <tr style=\"text-align: right;\">\n",
       "      <th></th>\n",
       "      <th>단지코드</th>\n",
       "      <th>총세대수</th>\n",
       "      <th>임대건물구분</th>\n",
       "      <th>지역</th>\n",
       "      <th>공급유형</th>\n",
       "      <th>전용면적</th>\n",
       "      <th>전용면적별세대수</th>\n",
       "      <th>공가수</th>\n",
       "      <th>자격유형</th>\n",
       "      <th>임대보증금</th>\n",
       "      <th>임대료</th>\n",
       "      <th>지하철수</th>\n",
       "      <th>버스수</th>\n",
       "      <th>단지내주차면수</th>\n",
       "      <th>등록차량수</th>\n",
       "    </tr>\n",
       "  </thead>\n",
       "  <tbody>\n",
       "    <tr>\n",
       "      <th>0</th>\n",
       "      <td>C2483</td>\n",
       "      <td>900</td>\n",
       "      <td>아파트</td>\n",
       "      <td>경상도</td>\n",
       "      <td>국민임대</td>\n",
       "      <td>39.72</td>\n",
       "      <td>134</td>\n",
       "      <td>38.0</td>\n",
       "      <td>A</td>\n",
       "      <td>15667000.0</td>\n",
       "      <td>103680.0</td>\n",
       "      <td>0.0</td>\n",
       "      <td>3.0</td>\n",
       "      <td>1425.0</td>\n",
       "      <td>1015.0</td>\n",
       "    </tr>\n",
       "    <tr>\n",
       "      <th>1</th>\n",
       "      <td>C2483</td>\n",
       "      <td>900</td>\n",
       "      <td>아파트</td>\n",
       "      <td>경상도</td>\n",
       "      <td>국민임대</td>\n",
       "      <td>39.72</td>\n",
       "      <td>15</td>\n",
       "      <td>38.0</td>\n",
       "      <td>A</td>\n",
       "      <td>15667000.0</td>\n",
       "      <td>103680.0</td>\n",
       "      <td>0.0</td>\n",
       "      <td>3.0</td>\n",
       "      <td>1425.0</td>\n",
       "      <td>1015.0</td>\n",
       "    </tr>\n",
       "    <tr>\n",
       "      <th>2</th>\n",
       "      <td>C2483</td>\n",
       "      <td>900</td>\n",
       "      <td>아파트</td>\n",
       "      <td>경상도</td>\n",
       "      <td>국민임대</td>\n",
       "      <td>51.93</td>\n",
       "      <td>385</td>\n",
       "      <td>38.0</td>\n",
       "      <td>A</td>\n",
       "      <td>27304000.0</td>\n",
       "      <td>184330.0</td>\n",
       "      <td>0.0</td>\n",
       "      <td>3.0</td>\n",
       "      <td>1425.0</td>\n",
       "      <td>1015.0</td>\n",
       "    </tr>\n",
       "    <tr>\n",
       "      <th>3</th>\n",
       "      <td>C2483</td>\n",
       "      <td>900</td>\n",
       "      <td>아파트</td>\n",
       "      <td>경상도</td>\n",
       "      <td>국민임대</td>\n",
       "      <td>51.93</td>\n",
       "      <td>15</td>\n",
       "      <td>38.0</td>\n",
       "      <td>A</td>\n",
       "      <td>27304000.0</td>\n",
       "      <td>184330.0</td>\n",
       "      <td>0.0</td>\n",
       "      <td>3.0</td>\n",
       "      <td>1425.0</td>\n",
       "      <td>1015.0</td>\n",
       "    </tr>\n",
       "    <tr>\n",
       "      <th>4</th>\n",
       "      <td>C2483</td>\n",
       "      <td>900</td>\n",
       "      <td>아파트</td>\n",
       "      <td>경상도</td>\n",
       "      <td>국민임대</td>\n",
       "      <td>51.93</td>\n",
       "      <td>41</td>\n",
       "      <td>38.0</td>\n",
       "      <td>A</td>\n",
       "      <td>27304000.0</td>\n",
       "      <td>184330.0</td>\n",
       "      <td>0.0</td>\n",
       "      <td>3.0</td>\n",
       "      <td>1425.0</td>\n",
       "      <td>1015.0</td>\n",
       "    </tr>\n",
       "  </tbody>\n",
       "</table>\n",
       "</div>"
      ],
      "text/plain": [
       "    단지코드  총세대수 임대건물구분   지역  공급유형   전용면적  전용면적별세대수   공가수 자격유형       임대보증금  \\\n",
       "0  C2483   900    아파트  경상도  국민임대  39.72       134  38.0    A  15667000.0   \n",
       "1  C2483   900    아파트  경상도  국민임대  39.72        15  38.0    A  15667000.0   \n",
       "2  C2483   900    아파트  경상도  국민임대  51.93       385  38.0    A  27304000.0   \n",
       "3  C2483   900    아파트  경상도  국민임대  51.93        15  38.0    A  27304000.0   \n",
       "4  C2483   900    아파트  경상도  국민임대  51.93        41  38.0    A  27304000.0   \n",
       "\n",
       "        임대료  지하철수  버스수  단지내주차면수   등록차량수  \n",
       "0  103680.0   0.0  3.0   1425.0  1015.0  \n",
       "1  103680.0   0.0  3.0   1425.0  1015.0  \n",
       "2  184330.0   0.0  3.0   1425.0  1015.0  \n",
       "3  184330.0   0.0  3.0   1425.0  1015.0  \n",
       "4  184330.0   0.0  3.0   1425.0  1015.0  "
      ]
     },
     "execution_count": 36,
     "metadata": {},
     "output_type": "execute_result"
    }
   ],
   "source": [
    "# train, test column rename : column명이 긴 것을 간결화\n",
    "train.rename(columns={'도보 10분거리 내 지하철역 수(환승노선 수 반영)': '지하철수',\n",
    "                      '도보 10분거리 내 버스정류장 수': '버스수'}, inplace=True)\n",
    "test.rename(columns={'도보 10분거리 내 지하철역 수(환승노선 수 반영)': '지하철수',\n",
    "                     '도보 10분거리 내 버스정류장 수': '버스수'}, inplace=True)\n",
    "\n",
    "# 결측치 통일 : '임대료','임대보증금' 컬럼에서 '-' 값을 NaN으로 변경\n",
    "\n",
    "for col in ['임대료', '임대보증금']:\n",
    "    train[col] = train[col].replace('-', np.nan).astype(float)\n",
    "    test[col] = test[col].replace('-', np.nan).astype(float)\n",
    "\n",
    "# 해당 컬럼을 float64 타입으로 변환\n",
    "train['임대료'] = train['임대료'].astype(float)\n",
    "train['임대보증금'] = train['임대보증금'].astype(float)\n",
    "\n",
    "# 해당 컬럼을 float64 타입으로 변환\n",
    "test['임대료'] = test['임대료'].astype(float)\n",
    "test['임대보증금'] = test['임대보증금'].astype(float)\n",
    "\n",
    "# train - 버스수는 10으로, 지하철수는 0으로 결측치를 채움\n",
    "train[train['지하철수'].isna()]['지역'].unique() # 충남, 대전, 경남으로 이 중에서 대전에만 지하철 운행 - 충남, 경남 0으로 채우기로 결정\n",
    "\n",
    "# 대전광역시 단지코드 확인\n",
    "nan_subway = train[(train['지역'] == '대전광역시') & (train['지하철수'].isna())]\n",
    "nan_subway_codes = nan_subway['단지코드'].unique()\n",
    "print(nan_subway_codes)\n",
    "# 전국 LH아파트 단지정보와 비교하여 도보 10분 내 지하철 역 없는 것 확인, 0으로 채움\n",
    "\n",
    "#대전광역시 동구 우암로 133  (주공삼성타운아파트)\n",
    "# 대전광역시 중구 목중로39번길 35-14(목동) 대전목동 행복주택\n",
    "# 버스도 전국 LH아파트 단지정보와 비교하여 [경상남도 양산시 물금읍 새실로 54(양산신도시엘에이치아파트5단지)] 10개 정도 도보로 가능함을 확인\n",
    "\n",
    "train['버스수'].fillna(10, inplace=True)\n",
    "train['지하철수'].fillna(0, inplace=True)\n",
    "\n",
    "# test - 지하철수 0으로 결측치를 채움\n",
    "test[test['지하철수'].isna()]['지역'].unique() # 충남, 대전으로 이 중에서 대전에만 지하철 운행 - 충남 0으로 채우기로 결정\n",
    "\n",
    "# 대전광역시 단지코드 확인\n",
    "nan_subway = test[(test['지역'] == '대전광역시') & (train['지하철수'].isna())]\n",
    "nan_subway_codes = nan_subway['단지코드'].unique()\n",
    "print(nan_subway_codes)\n",
    "# 전국 LH아파트 단지정보와 비교하여 도보 10분 내 지하철 역 없는 것 확인, 0으로 채움 [대전광역시 동구 우암로 133  (주공삼성타운아파트), 대전광역시 중구 목중로39번길 35-14(목동) 대전목동 행복주택]]\n",
    "\n",
    "test['지하철수'].fillna(0, inplace=True)\n",
    "\n",
    "#자격유형 결측치 확인\n",
    "test[test['자격유형'].isna()]\n",
    "\n",
    "#C2411 자격유형 → 'A'\n",
    "test[test['단지코드']=='C2411'] #C2411 자격유형이 모두 A로, 단순 결측치인 것으로 판단\n",
    "test[test['단지코드']=='C2411']['자격유형'].fillna('A')\n",
    "\n",
    "#C2253 자격유형 → 'C'\n",
    "test[test['단지코드']=='C2253'] #자격유형 C, D를 구분하는 컬럼이 '임대건물구분'이라고 판단, 결측치는 임대건물구분이 아파트이기 때문에 자격유형 C로 채워넣음\n",
    "test[test['단지코드']=='C2253']['자격유형'].fillna('C')\n",
    "\n",
    "train.head()"
   ]
  },
  {
   "cell_type": "code",
   "execution_count": 37,
   "metadata": {
    "colab": {
     "base_uri": "https://localhost:8080/"
    },
    "id": "igrTQaYrCn1f",
    "outputId": "039e249e-f25a-4ef6-8da8-bc87bfafbf4d"
   },
   "outputs": [
    {
     "data": {
      "text/plain": [
       "array([], dtype=object)"
      ]
     },
     "execution_count": 37,
     "metadata": {},
     "output_type": "execute_result"
    }
   ],
   "source": [
    "train[train['지하철수'].isna()]['지역'].unique()"
   ]
  },
  {
   "cell_type": "code",
   "execution_count": 38,
   "metadata": {
    "colab": {
     "base_uri": "https://localhost:8080/",
     "height": 1000
    },
    "id": "ZB35Zlxg66zq",
    "outputId": "b3df0061-4701-4191-8305-573e6a04c164"
   },
   "outputs": [
    {
     "data": {
      "text/html": [
       "<div>\n",
       "<style scoped>\n",
       "    .dataframe tbody tr th:only-of-type {\n",
       "        vertical-align: middle;\n",
       "    }\n",
       "\n",
       "    .dataframe tbody tr th {\n",
       "        vertical-align: top;\n",
       "    }\n",
       "\n",
       "    .dataframe thead th {\n",
       "        text-align: right;\n",
       "    }\n",
       "</style>\n",
       "<table border=\"1\" class=\"dataframe\">\n",
       "  <thead>\n",
       "    <tr style=\"text-align: right;\">\n",
       "      <th></th>\n",
       "      <th>단지코드</th>\n",
       "      <th>총세대수</th>\n",
       "      <th>임대건물구분</th>\n",
       "      <th>지역</th>\n",
       "      <th>공급유형</th>\n",
       "      <th>전용면적</th>\n",
       "      <th>전용면적별세대수</th>\n",
       "      <th>공가수</th>\n",
       "      <th>자격유형</th>\n",
       "      <th>임대보증금</th>\n",
       "      <th>임대료</th>\n",
       "      <th>지하철수</th>\n",
       "      <th>버스수</th>\n",
       "      <th>단지내주차면수</th>\n",
       "      <th>등록차량수</th>\n",
       "    </tr>\n",
       "  </thead>\n",
       "  <tbody>\n",
       "    <tr>\n",
       "      <th>2043</th>\n",
       "      <td>C1397</td>\n",
       "      <td>370</td>\n",
       "      <td>아파트</td>\n",
       "      <td>수도권(서울/경기)</td>\n",
       "      <td>장기전세</td>\n",
       "      <td>23.32</td>\n",
       "      <td>51</td>\n",
       "      <td>9.0</td>\n",
       "      <td>A</td>\n",
       "      <td>87444000.0</td>\n",
       "      <td>NaN</td>\n",
       "      <td>0.0</td>\n",
       "      <td>3.0</td>\n",
       "      <td>1590.0</td>\n",
       "      <td>1595.0</td>\n",
       "    </tr>\n",
       "    <tr>\n",
       "      <th>2044</th>\n",
       "      <td>C1397</td>\n",
       "      <td>370</td>\n",
       "      <td>아파트</td>\n",
       "      <td>수도권(서울/경기)</td>\n",
       "      <td>장기전세</td>\n",
       "      <td>46.79</td>\n",
       "      <td>4</td>\n",
       "      <td>9.0</td>\n",
       "      <td>A</td>\n",
       "      <td>174888000.0</td>\n",
       "      <td>NaN</td>\n",
       "      <td>0.0</td>\n",
       "      <td>3.0</td>\n",
       "      <td>1590.0</td>\n",
       "      <td>1595.0</td>\n",
       "    </tr>\n",
       "    <tr>\n",
       "      <th>2045</th>\n",
       "      <td>C1397</td>\n",
       "      <td>370</td>\n",
       "      <td>아파트</td>\n",
       "      <td>수도권(서울/경기)</td>\n",
       "      <td>장기전세</td>\n",
       "      <td>46.91</td>\n",
       "      <td>69</td>\n",
       "      <td>9.0</td>\n",
       "      <td>A</td>\n",
       "      <td>174888000.0</td>\n",
       "      <td>NaN</td>\n",
       "      <td>0.0</td>\n",
       "      <td>3.0</td>\n",
       "      <td>1590.0</td>\n",
       "      <td>1595.0</td>\n",
       "    </tr>\n",
       "    <tr>\n",
       "      <th>2046</th>\n",
       "      <td>C1397</td>\n",
       "      <td>370</td>\n",
       "      <td>아파트</td>\n",
       "      <td>수도권(서울/경기)</td>\n",
       "      <td>장기전세</td>\n",
       "      <td>51.96</td>\n",
       "      <td>24</td>\n",
       "      <td>9.0</td>\n",
       "      <td>A</td>\n",
       "      <td>194562000.0</td>\n",
       "      <td>NaN</td>\n",
       "      <td>0.0</td>\n",
       "      <td>3.0</td>\n",
       "      <td>1590.0</td>\n",
       "      <td>1595.0</td>\n",
       "    </tr>\n",
       "    <tr>\n",
       "      <th>2047</th>\n",
       "      <td>C1397</td>\n",
       "      <td>370</td>\n",
       "      <td>아파트</td>\n",
       "      <td>수도권(서울/경기)</td>\n",
       "      <td>장기전세</td>\n",
       "      <td>51.99</td>\n",
       "      <td>80</td>\n",
       "      <td>9.0</td>\n",
       "      <td>A</td>\n",
       "      <td>194562000.0</td>\n",
       "      <td>NaN</td>\n",
       "      <td>0.0</td>\n",
       "      <td>3.0</td>\n",
       "      <td>1590.0</td>\n",
       "      <td>1595.0</td>\n",
       "    </tr>\n",
       "    <tr>\n",
       "      <th>2048</th>\n",
       "      <td>C1397</td>\n",
       "      <td>370</td>\n",
       "      <td>아파트</td>\n",
       "      <td>수도권(서울/경기)</td>\n",
       "      <td>장기전세</td>\n",
       "      <td>59.93</td>\n",
       "      <td>142</td>\n",
       "      <td>9.0</td>\n",
       "      <td>A</td>\n",
       "      <td>216423000.0</td>\n",
       "      <td>NaN</td>\n",
       "      <td>0.0</td>\n",
       "      <td>3.0</td>\n",
       "      <td>1590.0</td>\n",
       "      <td>1595.0</td>\n",
       "    </tr>\n",
       "    <tr>\n",
       "      <th>2100</th>\n",
       "      <td>C1039</td>\n",
       "      <td>790</td>\n",
       "      <td>아파트</td>\n",
       "      <td>수도권(서울/경기)</td>\n",
       "      <td>장기전세</td>\n",
       "      <td>51.32</td>\n",
       "      <td>126</td>\n",
       "      <td>13.0</td>\n",
       "      <td>A</td>\n",
       "      <td>187694000.0</td>\n",
       "      <td>NaN</td>\n",
       "      <td>0.0</td>\n",
       "      <td>3.0</td>\n",
       "      <td>673.0</td>\n",
       "      <td>645.0</td>\n",
       "    </tr>\n",
       "    <tr>\n",
       "      <th>2101</th>\n",
       "      <td>C1039</td>\n",
       "      <td>790</td>\n",
       "      <td>아파트</td>\n",
       "      <td>수도권(서울/경기)</td>\n",
       "      <td>장기전세</td>\n",
       "      <td>59.88</td>\n",
       "      <td>49</td>\n",
       "      <td>13.0</td>\n",
       "      <td>A</td>\n",
       "      <td>213863000.0</td>\n",
       "      <td>NaN</td>\n",
       "      <td>0.0</td>\n",
       "      <td>3.0</td>\n",
       "      <td>673.0</td>\n",
       "      <td>645.0</td>\n",
       "    </tr>\n",
       "    <tr>\n",
       "      <th>2102</th>\n",
       "      <td>C1039</td>\n",
       "      <td>790</td>\n",
       "      <td>아파트</td>\n",
       "      <td>수도권(서울/경기)</td>\n",
       "      <td>장기전세</td>\n",
       "      <td>59.94</td>\n",
       "      <td>75</td>\n",
       "      <td>13.0</td>\n",
       "      <td>A</td>\n",
       "      <td>213863000.0</td>\n",
       "      <td>NaN</td>\n",
       "      <td>0.0</td>\n",
       "      <td>3.0</td>\n",
       "      <td>673.0</td>\n",
       "      <td>645.0</td>\n",
       "    </tr>\n",
       "    <tr>\n",
       "      <th>2331</th>\n",
       "      <td>C1350</td>\n",
       "      <td>1401</td>\n",
       "      <td>아파트</td>\n",
       "      <td>충청도</td>\n",
       "      <td>공공분양</td>\n",
       "      <td>74.94</td>\n",
       "      <td>317</td>\n",
       "      <td>2.0</td>\n",
       "      <td>D</td>\n",
       "      <td>NaN</td>\n",
       "      <td>NaN</td>\n",
       "      <td>0.0</td>\n",
       "      <td>6.0</td>\n",
       "      <td>1636.0</td>\n",
       "      <td>2315.0</td>\n",
       "    </tr>\n",
       "    <tr>\n",
       "      <th>2332</th>\n",
       "      <td>C1350</td>\n",
       "      <td>1401</td>\n",
       "      <td>아파트</td>\n",
       "      <td>충청도</td>\n",
       "      <td>공공분양</td>\n",
       "      <td>74.94</td>\n",
       "      <td>137</td>\n",
       "      <td>2.0</td>\n",
       "      <td>D</td>\n",
       "      <td>NaN</td>\n",
       "      <td>NaN</td>\n",
       "      <td>0.0</td>\n",
       "      <td>6.0</td>\n",
       "      <td>1636.0</td>\n",
       "      <td>2315.0</td>\n",
       "    </tr>\n",
       "    <tr>\n",
       "      <th>2333</th>\n",
       "      <td>C1350</td>\n",
       "      <td>1401</td>\n",
       "      <td>아파트</td>\n",
       "      <td>충청도</td>\n",
       "      <td>공공분양</td>\n",
       "      <td>74.94</td>\n",
       "      <td>22</td>\n",
       "      <td>2.0</td>\n",
       "      <td>D</td>\n",
       "      <td>NaN</td>\n",
       "      <td>NaN</td>\n",
       "      <td>0.0</td>\n",
       "      <td>6.0</td>\n",
       "      <td>1636.0</td>\n",
       "      <td>2315.0</td>\n",
       "    </tr>\n",
       "    <tr>\n",
       "      <th>2334</th>\n",
       "      <td>C1350</td>\n",
       "      <td>1401</td>\n",
       "      <td>아파트</td>\n",
       "      <td>충청도</td>\n",
       "      <td>공공분양</td>\n",
       "      <td>84.94</td>\n",
       "      <td>164</td>\n",
       "      <td>2.0</td>\n",
       "      <td>D</td>\n",
       "      <td>NaN</td>\n",
       "      <td>NaN</td>\n",
       "      <td>0.0</td>\n",
       "      <td>6.0</td>\n",
       "      <td>1636.0</td>\n",
       "      <td>2315.0</td>\n",
       "    </tr>\n",
       "    <tr>\n",
       "      <th>2335</th>\n",
       "      <td>C1350</td>\n",
       "      <td>1401</td>\n",
       "      <td>아파트</td>\n",
       "      <td>충청도</td>\n",
       "      <td>공공분양</td>\n",
       "      <td>84.94</td>\n",
       "      <td>19</td>\n",
       "      <td>2.0</td>\n",
       "      <td>D</td>\n",
       "      <td>NaN</td>\n",
       "      <td>NaN</td>\n",
       "      <td>0.0</td>\n",
       "      <td>6.0</td>\n",
       "      <td>1636.0</td>\n",
       "      <td>2315.0</td>\n",
       "    </tr>\n",
       "    <tr>\n",
       "      <th>2336</th>\n",
       "      <td>C1350</td>\n",
       "      <td>1401</td>\n",
       "      <td>아파트</td>\n",
       "      <td>충청도</td>\n",
       "      <td>공공분양</td>\n",
       "      <td>84.96</td>\n",
       "      <td>26</td>\n",
       "      <td>2.0</td>\n",
       "      <td>D</td>\n",
       "      <td>NaN</td>\n",
       "      <td>NaN</td>\n",
       "      <td>0.0</td>\n",
       "      <td>6.0</td>\n",
       "      <td>1636.0</td>\n",
       "      <td>2315.0</td>\n",
       "    </tr>\n",
       "    <tr>\n",
       "      <th>2337</th>\n",
       "      <td>C1350</td>\n",
       "      <td>1401</td>\n",
       "      <td>아파트</td>\n",
       "      <td>충청도</td>\n",
       "      <td>공공분양</td>\n",
       "      <td>84.97</td>\n",
       "      <td>26</td>\n",
       "      <td>2.0</td>\n",
       "      <td>D</td>\n",
       "      <td>NaN</td>\n",
       "      <td>NaN</td>\n",
       "      <td>0.0</td>\n",
       "      <td>6.0</td>\n",
       "      <td>1636.0</td>\n",
       "      <td>2315.0</td>\n",
       "    </tr>\n",
       "    <tr>\n",
       "      <th>2547</th>\n",
       "      <td>C1326</td>\n",
       "      <td>1934</td>\n",
       "      <td>아파트</td>\n",
       "      <td>경상도</td>\n",
       "      <td>국민임대</td>\n",
       "      <td>24.72</td>\n",
       "      <td>472</td>\n",
       "      <td>43.0</td>\n",
       "      <td>H</td>\n",
       "      <td>NaN</td>\n",
       "      <td>NaN</td>\n",
       "      <td>0.0</td>\n",
       "      <td>4.0</td>\n",
       "      <td>1670.0</td>\n",
       "      <td>1153.0</td>\n",
       "    </tr>\n",
       "    <tr>\n",
       "      <th>2548</th>\n",
       "      <td>C1326</td>\n",
       "      <td>1934</td>\n",
       "      <td>아파트</td>\n",
       "      <td>경상도</td>\n",
       "      <td>국민임대</td>\n",
       "      <td>24.79</td>\n",
       "      <td>104</td>\n",
       "      <td>43.0</td>\n",
       "      <td>H</td>\n",
       "      <td>NaN</td>\n",
       "      <td>NaN</td>\n",
       "      <td>0.0</td>\n",
       "      <td>4.0</td>\n",
       "      <td>1670.0</td>\n",
       "      <td>1153.0</td>\n",
       "    </tr>\n",
       "    <tr>\n",
       "      <th>2549</th>\n",
       "      <td>C1326</td>\n",
       "      <td>1934</td>\n",
       "      <td>아파트</td>\n",
       "      <td>경상도</td>\n",
       "      <td>국민임대</td>\n",
       "      <td>26.83</td>\n",
       "      <td>590</td>\n",
       "      <td>43.0</td>\n",
       "      <td>H</td>\n",
       "      <td>NaN</td>\n",
       "      <td>NaN</td>\n",
       "      <td>0.0</td>\n",
       "      <td>4.0</td>\n",
       "      <td>1670.0</td>\n",
       "      <td>1153.0</td>\n",
       "    </tr>\n",
       "    <tr>\n",
       "      <th>2550</th>\n",
       "      <td>C1326</td>\n",
       "      <td>1934</td>\n",
       "      <td>아파트</td>\n",
       "      <td>경상도</td>\n",
       "      <td>국민임대</td>\n",
       "      <td>37.70</td>\n",
       "      <td>464</td>\n",
       "      <td>43.0</td>\n",
       "      <td>H</td>\n",
       "      <td>NaN</td>\n",
       "      <td>NaN</td>\n",
       "      <td>0.0</td>\n",
       "      <td>4.0</td>\n",
       "      <td>1670.0</td>\n",
       "      <td>1153.0</td>\n",
       "    </tr>\n",
       "    <tr>\n",
       "      <th>2551</th>\n",
       "      <td>C1326</td>\n",
       "      <td>1934</td>\n",
       "      <td>아파트</td>\n",
       "      <td>경상도</td>\n",
       "      <td>국민임대</td>\n",
       "      <td>46.94</td>\n",
       "      <td>304</td>\n",
       "      <td>43.0</td>\n",
       "      <td>H</td>\n",
       "      <td>NaN</td>\n",
       "      <td>NaN</td>\n",
       "      <td>0.0</td>\n",
       "      <td>4.0</td>\n",
       "      <td>1670.0</td>\n",
       "      <td>1153.0</td>\n",
       "    </tr>\n",
       "    <tr>\n",
       "      <th>2680</th>\n",
       "      <td>C1786</td>\n",
       "      <td>480</td>\n",
       "      <td>아파트</td>\n",
       "      <td>강원도</td>\n",
       "      <td>행복주택</td>\n",
       "      <td>16.91</td>\n",
       "      <td>156</td>\n",
       "      <td>25.0</td>\n",
       "      <td>K</td>\n",
       "      <td>NaN</td>\n",
       "      <td>NaN</td>\n",
       "      <td>0.0</td>\n",
       "      <td>3.0</td>\n",
       "      <td>338.0</td>\n",
       "      <td>345.0</td>\n",
       "    </tr>\n",
       "    <tr>\n",
       "      <th>2681</th>\n",
       "      <td>C1786</td>\n",
       "      <td>480</td>\n",
       "      <td>아파트</td>\n",
       "      <td>강원도</td>\n",
       "      <td>행복주택</td>\n",
       "      <td>26.90</td>\n",
       "      <td>136</td>\n",
       "      <td>25.0</td>\n",
       "      <td>K</td>\n",
       "      <td>NaN</td>\n",
       "      <td>NaN</td>\n",
       "      <td>0.0</td>\n",
       "      <td>3.0</td>\n",
       "      <td>338.0</td>\n",
       "      <td>345.0</td>\n",
       "    </tr>\n",
       "    <tr>\n",
       "      <th>2682</th>\n",
       "      <td>C1786</td>\n",
       "      <td>480</td>\n",
       "      <td>아파트</td>\n",
       "      <td>강원도</td>\n",
       "      <td>행복주택</td>\n",
       "      <td>26.90</td>\n",
       "      <td>72</td>\n",
       "      <td>25.0</td>\n",
       "      <td>K</td>\n",
       "      <td>NaN</td>\n",
       "      <td>NaN</td>\n",
       "      <td>0.0</td>\n",
       "      <td>3.0</td>\n",
       "      <td>338.0</td>\n",
       "      <td>345.0</td>\n",
       "    </tr>\n",
       "    <tr>\n",
       "      <th>2683</th>\n",
       "      <td>C1786</td>\n",
       "      <td>480</td>\n",
       "      <td>아파트</td>\n",
       "      <td>강원도</td>\n",
       "      <td>행복주택</td>\n",
       "      <td>26.90</td>\n",
       "      <td>24</td>\n",
       "      <td>25.0</td>\n",
       "      <td>K</td>\n",
       "      <td>NaN</td>\n",
       "      <td>NaN</td>\n",
       "      <td>0.0</td>\n",
       "      <td>3.0</td>\n",
       "      <td>338.0</td>\n",
       "      <td>345.0</td>\n",
       "    </tr>\n",
       "    <tr>\n",
       "      <th>2906</th>\n",
       "      <td>C2186</td>\n",
       "      <td>924</td>\n",
       "      <td>아파트</td>\n",
       "      <td>경상도</td>\n",
       "      <td>국민임대</td>\n",
       "      <td>29.17</td>\n",
       "      <td>238</td>\n",
       "      <td>0.0</td>\n",
       "      <td>H</td>\n",
       "      <td>NaN</td>\n",
       "      <td>NaN</td>\n",
       "      <td>0.0</td>\n",
       "      <td>8.0</td>\n",
       "      <td>664.0</td>\n",
       "      <td>744.0</td>\n",
       "    </tr>\n",
       "    <tr>\n",
       "      <th>2907</th>\n",
       "      <td>C2186</td>\n",
       "      <td>924</td>\n",
       "      <td>아파트</td>\n",
       "      <td>경상도</td>\n",
       "      <td>국민임대</td>\n",
       "      <td>29.34</td>\n",
       "      <td>38</td>\n",
       "      <td>0.0</td>\n",
       "      <td>H</td>\n",
       "      <td>NaN</td>\n",
       "      <td>NaN</td>\n",
       "      <td>0.0</td>\n",
       "      <td>8.0</td>\n",
       "      <td>664.0</td>\n",
       "      <td>744.0</td>\n",
       "    </tr>\n",
       "    <tr>\n",
       "      <th>2908</th>\n",
       "      <td>C2186</td>\n",
       "      <td>924</td>\n",
       "      <td>아파트</td>\n",
       "      <td>경상도</td>\n",
       "      <td>국민임대</td>\n",
       "      <td>37.43</td>\n",
       "      <td>220</td>\n",
       "      <td>0.0</td>\n",
       "      <td>H</td>\n",
       "      <td>NaN</td>\n",
       "      <td>NaN</td>\n",
       "      <td>0.0</td>\n",
       "      <td>8.0</td>\n",
       "      <td>664.0</td>\n",
       "      <td>744.0</td>\n",
       "    </tr>\n",
       "  </tbody>\n",
       "</table>\n",
       "</div>"
      ],
      "text/plain": [
       "       단지코드  총세대수 임대건물구분          지역  공급유형   전용면적  전용면적별세대수   공가수 자격유형  \\\n",
       "2043  C1397   370    아파트  수도권(서울/경기)  장기전세  23.32        51   9.0    A   \n",
       "2044  C1397   370    아파트  수도권(서울/경기)  장기전세  46.79         4   9.0    A   \n",
       "2045  C1397   370    아파트  수도권(서울/경기)  장기전세  46.91        69   9.0    A   \n",
       "2046  C1397   370    아파트  수도권(서울/경기)  장기전세  51.96        24   9.0    A   \n",
       "2047  C1397   370    아파트  수도권(서울/경기)  장기전세  51.99        80   9.0    A   \n",
       "2048  C1397   370    아파트  수도권(서울/경기)  장기전세  59.93       142   9.0    A   \n",
       "2100  C1039   790    아파트  수도권(서울/경기)  장기전세  51.32       126  13.0    A   \n",
       "2101  C1039   790    아파트  수도권(서울/경기)  장기전세  59.88        49  13.0    A   \n",
       "2102  C1039   790    아파트  수도권(서울/경기)  장기전세  59.94        75  13.0    A   \n",
       "2331  C1350  1401    아파트         충청도  공공분양  74.94       317   2.0    D   \n",
       "2332  C1350  1401    아파트         충청도  공공분양  74.94       137   2.0    D   \n",
       "2333  C1350  1401    아파트         충청도  공공분양  74.94        22   2.0    D   \n",
       "2334  C1350  1401    아파트         충청도  공공분양  84.94       164   2.0    D   \n",
       "2335  C1350  1401    아파트         충청도  공공분양  84.94        19   2.0    D   \n",
       "2336  C1350  1401    아파트         충청도  공공분양  84.96        26   2.0    D   \n",
       "2337  C1350  1401    아파트         충청도  공공분양  84.97        26   2.0    D   \n",
       "2547  C1326  1934    아파트         경상도  국민임대  24.72       472  43.0    H   \n",
       "2548  C1326  1934    아파트         경상도  국민임대  24.79       104  43.0    H   \n",
       "2549  C1326  1934    아파트         경상도  국민임대  26.83       590  43.0    H   \n",
       "2550  C1326  1934    아파트         경상도  국민임대  37.70       464  43.0    H   \n",
       "2551  C1326  1934    아파트         경상도  국민임대  46.94       304  43.0    H   \n",
       "2680  C1786   480    아파트         강원도  행복주택  16.91       156  25.0    K   \n",
       "2681  C1786   480    아파트         강원도  행복주택  26.90       136  25.0    K   \n",
       "2682  C1786   480    아파트         강원도  행복주택  26.90        72  25.0    K   \n",
       "2683  C1786   480    아파트         강원도  행복주택  26.90        24  25.0    K   \n",
       "2906  C2186   924    아파트         경상도  국민임대  29.17       238   0.0    H   \n",
       "2907  C2186   924    아파트         경상도  국민임대  29.34        38   0.0    H   \n",
       "2908  C2186   924    아파트         경상도  국민임대  37.43       220   0.0    H   \n",
       "\n",
       "            임대보증금  임대료  지하철수  버스수  단지내주차면수   등록차량수  \n",
       "2043   87444000.0  NaN   0.0  3.0   1590.0  1595.0  \n",
       "2044  174888000.0  NaN   0.0  3.0   1590.0  1595.0  \n",
       "2045  174888000.0  NaN   0.0  3.0   1590.0  1595.0  \n",
       "2046  194562000.0  NaN   0.0  3.0   1590.0  1595.0  \n",
       "2047  194562000.0  NaN   0.0  3.0   1590.0  1595.0  \n",
       "2048  216423000.0  NaN   0.0  3.0   1590.0  1595.0  \n",
       "2100  187694000.0  NaN   0.0  3.0    673.0   645.0  \n",
       "2101  213863000.0  NaN   0.0  3.0    673.0   645.0  \n",
       "2102  213863000.0  NaN   0.0  3.0    673.0   645.0  \n",
       "2331          NaN  NaN   0.0  6.0   1636.0  2315.0  \n",
       "2332          NaN  NaN   0.0  6.0   1636.0  2315.0  \n",
       "2333          NaN  NaN   0.0  6.0   1636.0  2315.0  \n",
       "2334          NaN  NaN   0.0  6.0   1636.0  2315.0  \n",
       "2335          NaN  NaN   0.0  6.0   1636.0  2315.0  \n",
       "2336          NaN  NaN   0.0  6.0   1636.0  2315.0  \n",
       "2337          NaN  NaN   0.0  6.0   1636.0  2315.0  \n",
       "2547          NaN  NaN   0.0  4.0   1670.0  1153.0  \n",
       "2548          NaN  NaN   0.0  4.0   1670.0  1153.0  \n",
       "2549          NaN  NaN   0.0  4.0   1670.0  1153.0  \n",
       "2550          NaN  NaN   0.0  4.0   1670.0  1153.0  \n",
       "2551          NaN  NaN   0.0  4.0   1670.0  1153.0  \n",
       "2680          NaN  NaN   0.0  3.0    338.0   345.0  \n",
       "2681          NaN  NaN   0.0  3.0    338.0   345.0  \n",
       "2682          NaN  NaN   0.0  3.0    338.0   345.0  \n",
       "2683          NaN  NaN   0.0  3.0    338.0   345.0  \n",
       "2906          NaN  NaN   0.0  8.0    664.0   744.0  \n",
       "2907          NaN  NaN   0.0  8.0    664.0   744.0  \n",
       "2908          NaN  NaN   0.0  8.0    664.0   744.0  "
      ]
     },
     "execution_count": 38,
     "metadata": {},
     "output_type": "execute_result"
    }
   ],
   "source": [
    "train[(train['임대료'].isna()) & (train['임대건물구분'] != '상가')]"
   ]
  },
  {
   "cell_type": "code",
   "execution_count": 39,
   "metadata": {
    "colab": {
     "base_uri": "https://localhost:8080/",
     "height": 679
    },
    "id": "pfc-d_aQ66zq",
    "outputId": "f9878de6-9522-4869-cb36-7a63861dc5b3"
   },
   "outputs": [
    {
     "data": {
      "text/html": [
       "<div>\n",
       "<style scoped>\n",
       "    .dataframe tbody tr th:only-of-type {\n",
       "        vertical-align: middle;\n",
       "    }\n",
       "\n",
       "    .dataframe tbody tr th {\n",
       "        vertical-align: top;\n",
       "    }\n",
       "\n",
       "    .dataframe thead th {\n",
       "        text-align: right;\n",
       "    }\n",
       "</style>\n",
       "<table border=\"1\" class=\"dataframe\">\n",
       "  <thead>\n",
       "    <tr style=\"text-align: right;\">\n",
       "      <th></th>\n",
       "      <th>단지코드</th>\n",
       "      <th>총세대수</th>\n",
       "      <th>임대건물구분</th>\n",
       "      <th>지역</th>\n",
       "      <th>공급유형</th>\n",
       "      <th>전용면적</th>\n",
       "      <th>전용면적별세대수</th>\n",
       "      <th>공가수</th>\n",
       "      <th>자격유형</th>\n",
       "      <th>임대보증금</th>\n",
       "      <th>임대료</th>\n",
       "      <th>지하철수</th>\n",
       "      <th>버스수</th>\n",
       "      <th>단지내주차면수</th>\n",
       "    </tr>\n",
       "  </thead>\n",
       "  <tbody>\n",
       "    <tr>\n",
       "      <th>76</th>\n",
       "      <td>C1006</td>\n",
       "      <td>1505</td>\n",
       "      <td>아파트</td>\n",
       "      <td>충청도</td>\n",
       "      <td>영구임대</td>\n",
       "      <td>26.37</td>\n",
       "      <td>10</td>\n",
       "      <td>27.0</td>\n",
       "      <td>D</td>\n",
       "      <td>NaN</td>\n",
       "      <td>NaN</td>\n",
       "      <td>2.0</td>\n",
       "      <td>5.0</td>\n",
       "      <td>428.0</td>\n",
       "    </tr>\n",
       "    <tr>\n",
       "      <th>77</th>\n",
       "      <td>C1006</td>\n",
       "      <td>1505</td>\n",
       "      <td>아파트</td>\n",
       "      <td>충청도</td>\n",
       "      <td>영구임대</td>\n",
       "      <td>26.37</td>\n",
       "      <td>10</td>\n",
       "      <td>27.0</td>\n",
       "      <td>D</td>\n",
       "      <td>NaN</td>\n",
       "      <td>NaN</td>\n",
       "      <td>2.0</td>\n",
       "      <td>5.0</td>\n",
       "      <td>428.0</td>\n",
       "    </tr>\n",
       "    <tr>\n",
       "      <th>79</th>\n",
       "      <td>C1006</td>\n",
       "      <td>1505</td>\n",
       "      <td>아파트</td>\n",
       "      <td>충청도</td>\n",
       "      <td>영구임대</td>\n",
       "      <td>52.74</td>\n",
       "      <td>6</td>\n",
       "      <td>27.0</td>\n",
       "      <td>D</td>\n",
       "      <td>NaN</td>\n",
       "      <td>NaN</td>\n",
       "      <td>2.0</td>\n",
       "      <td>5.0</td>\n",
       "      <td>428.0</td>\n",
       "    </tr>\n",
       "    <tr>\n",
       "      <th>1005</th>\n",
       "      <td>C2152</td>\n",
       "      <td>120</td>\n",
       "      <td>아파트</td>\n",
       "      <td>강원도</td>\n",
       "      <td>영구임대</td>\n",
       "      <td>24.83</td>\n",
       "      <td>66</td>\n",
       "      <td>9.0</td>\n",
       "      <td>C</td>\n",
       "      <td>NaN</td>\n",
       "      <td>NaN</td>\n",
       "      <td>0.0</td>\n",
       "      <td>1.0</td>\n",
       "      <td>40.0</td>\n",
       "    </tr>\n",
       "    <tr>\n",
       "      <th>1006</th>\n",
       "      <td>C2152</td>\n",
       "      <td>120</td>\n",
       "      <td>아파트</td>\n",
       "      <td>강원도</td>\n",
       "      <td>영구임대</td>\n",
       "      <td>33.84</td>\n",
       "      <td>54</td>\n",
       "      <td>9.0</td>\n",
       "      <td>C</td>\n",
       "      <td>NaN</td>\n",
       "      <td>NaN</td>\n",
       "      <td>0.0</td>\n",
       "      <td>1.0</td>\n",
       "      <td>40.0</td>\n",
       "    </tr>\n",
       "    <tr>\n",
       "      <th>1014</th>\n",
       "      <td>C1267</td>\n",
       "      <td>675</td>\n",
       "      <td>아파트</td>\n",
       "      <td>경상도</td>\n",
       "      <td>행복주택</td>\n",
       "      <td>16.94</td>\n",
       "      <td>50</td>\n",
       "      <td>38.0</td>\n",
       "      <td>L</td>\n",
       "      <td>NaN</td>\n",
       "      <td>NaN</td>\n",
       "      <td>0.0</td>\n",
       "      <td>1.0</td>\n",
       "      <td>467.0</td>\n",
       "    </tr>\n",
       "    <tr>\n",
       "      <th>1015</th>\n",
       "      <td>C1267</td>\n",
       "      <td>675</td>\n",
       "      <td>아파트</td>\n",
       "      <td>경상도</td>\n",
       "      <td>행복주택</td>\n",
       "      <td>26.85</td>\n",
       "      <td>66</td>\n",
       "      <td>38.0</td>\n",
       "      <td>L</td>\n",
       "      <td>NaN</td>\n",
       "      <td>NaN</td>\n",
       "      <td>0.0</td>\n",
       "      <td>1.0</td>\n",
       "      <td>467.0</td>\n",
       "    </tr>\n",
       "    <tr>\n",
       "      <th>1016</th>\n",
       "      <td>C1267</td>\n",
       "      <td>675</td>\n",
       "      <td>아파트</td>\n",
       "      <td>경상도</td>\n",
       "      <td>행복주택</td>\n",
       "      <td>26.85</td>\n",
       "      <td>8</td>\n",
       "      <td>38.0</td>\n",
       "      <td>L</td>\n",
       "      <td>NaN</td>\n",
       "      <td>NaN</td>\n",
       "      <td>0.0</td>\n",
       "      <td>1.0</td>\n",
       "      <td>467.0</td>\n",
       "    </tr>\n",
       "    <tr>\n",
       "      <th>1017</th>\n",
       "      <td>C1267</td>\n",
       "      <td>675</td>\n",
       "      <td>아파트</td>\n",
       "      <td>경상도</td>\n",
       "      <td>행복주택</td>\n",
       "      <td>36.77</td>\n",
       "      <td>126</td>\n",
       "      <td>38.0</td>\n",
       "      <td>L</td>\n",
       "      <td>NaN</td>\n",
       "      <td>NaN</td>\n",
       "      <td>0.0</td>\n",
       "      <td>1.0</td>\n",
       "      <td>467.0</td>\n",
       "    </tr>\n",
       "  </tbody>\n",
       "</table>\n",
       "</div>"
      ],
      "text/plain": [
       "       단지코드  총세대수 임대건물구분   지역  공급유형   전용면적  전용면적별세대수   공가수 자격유형  임대보증금  임대료  \\\n",
       "76    C1006  1505    아파트  충청도  영구임대  26.37        10  27.0    D    NaN  NaN   \n",
       "77    C1006  1505    아파트  충청도  영구임대  26.37        10  27.0    D    NaN  NaN   \n",
       "79    C1006  1505    아파트  충청도  영구임대  52.74         6  27.0    D    NaN  NaN   \n",
       "1005  C2152   120    아파트  강원도  영구임대  24.83        66   9.0    C    NaN  NaN   \n",
       "1006  C2152   120    아파트  강원도  영구임대  33.84        54   9.0    C    NaN  NaN   \n",
       "1014  C1267   675    아파트  경상도  행복주택  16.94        50  38.0    L    NaN  NaN   \n",
       "1015  C1267   675    아파트  경상도  행복주택  26.85        66  38.0    L    NaN  NaN   \n",
       "1016  C1267   675    아파트  경상도  행복주택  26.85         8  38.0    L    NaN  NaN   \n",
       "1017  C1267   675    아파트  경상도  행복주택  36.77       126  38.0    L    NaN  NaN   \n",
       "\n",
       "      지하철수  버스수  단지내주차면수  \n",
       "76     2.0  5.0    428.0  \n",
       "77     2.0  5.0    428.0  \n",
       "79     2.0  5.0    428.0  \n",
       "1005   0.0  1.0     40.0  \n",
       "1006   0.0  1.0     40.0  \n",
       "1014   0.0  1.0    467.0  \n",
       "1015   0.0  1.0    467.0  \n",
       "1016   0.0  1.0    467.0  \n",
       "1017   0.0  1.0    467.0  "
      ]
     },
     "execution_count": 39,
     "metadata": {},
     "output_type": "execute_result"
    }
   ],
   "source": [
    "test[(test['임대료'].isna()) & (test['임대건물구분'] != '상가')]"
   ]
  },
  {
   "cell_type": "markdown",
   "metadata": {
    "id": "Si3v07Yf66zq"
   },
   "source": [
    "> 다른 행들은 임대보증금과 임대료가 모두 결측치이지만 장기전세는 임대료만 결측치인 것을 확인할 수 있습니다.\n",
    "\n",
    "> 장기전세주택이란 월 임대료를 지불하지 않고 전세계약 방식으로 공급되는 공공임대주택을 말합니다. [출처](https://www.mylawstory.com/5606/)\n",
    "\n",
    ">그러므로 장기전세의 임대료는 0으로 바꿔주는 것이 맞습니다\n"
   ]
  },
  {
   "cell_type": "code",
   "execution_count": 40,
   "metadata": {
    "id": "WHlClUSE66zq"
   },
   "outputs": [],
   "source": [
    "#### 장기전세는 월 임대료를 지불하지않으므로 임대료 = 0 적용\n",
    "train.loc[train['공급유형'] == '장기전세', '임대료'] = 0\n",
    "test.loc[test['공급유형'] == '장기전세', '임대료'] = 0"
   ]
  },
  {
   "attachments": {},
   "cell_type": "markdown",
   "metadata": {
    "id": "qUivmeWp66zq"
   },
   "source": [
    "> 단지내 주차면수과 임대료, 임대보증금이 높은 상관관계를 가지므로\n",
    "\n",
    "> 공급유형이 상가가 아닌것들 중에 임대료와 임대보증금이 결측치인경우 지역별로 나눈 후 단지내 주차면수에 따른 회귀모델을 통해 임대료와 임대보증금의 결측치를 채워줍니다."
   ]
  },
  {
   "cell_type": "code",
   "execution_count": 41,
   "metadata": {
    "colab": {
     "base_uri": "https://localhost:8080/"
    },
    "id": "HGRRzcvv66zq",
    "outputId": "cf7c9760-bad0-425d-9019-f40e970f8412"
   },
   "outputs": [
    {
     "data": {
      "text/plain": [
       "임대료      0\n",
       "임대보증금    0\n",
       "dtype: int64"
      ]
     },
     "execution_count": 41,
     "metadata": {},
     "output_type": "execute_result"
    }
   ],
   "source": [
    "#train data 상가아닌 것 임대료, 임대보증금 회귀예측\n",
    "\n",
    "from sklearn.linear_model import LinearRegression\n",
    "from sklearn.model_selection import train_test_split\n",
    "from sklearn.metrics import mean_squared_error\n",
    "\n",
    "# 공급유형이 상가가 아닌 행만 남도록 필터링\n",
    "train_non_store = train[train['공급유형'] != '상가']\n",
    "\n",
    "# train_non_store 데이터의 지역명 확인\n",
    "regions = train_non_store['지역'].unique()\n",
    "\n",
    "# 예측값 저장을 위해 빈 리스트 생성\n",
    "predicted_rent = [] #임대료 예측값 리스트\n",
    "predicted_deposit = [] #임대보증금 예측값 리스트\n",
    "\n",
    "# 지역을 기준으로 반복\n",
    "for region in regions:\n",
    "    region_data = train_non_store[train_non_store['지역'] == region].copy()\n",
    "\n",
    "    # 임대료에 대한 회귀 모델 학습\n",
    "    # 임대료 열에 결측값이 없는 데이터를 선택하고, 단지내주차면수을 X, 임대료를 y로 사용\n",
    "    X = region_data[~region_data['임대료'].isna()][['단지내주차면수']]\n",
    "    y = region_data[~region_data['임대료'].isna()]['임대료']\n",
    "    if len(X) > 0:\n",
    "        model_rent = LinearRegression()\n",
    "        model_rent.fit(X, y)\n",
    "        # 결측치 예측\n",
    "        # 임대료 열에 결측치 있는 데이터 선택하여 전용면적을 X로 사용하여 임대료 예측\n",
    "        X_missing_rent = region_data[region_data['임대료'].isna()][['단지내주차면수']]\n",
    "        if len(X_missing_rent) > 0:\n",
    "            pred_rent = model_rent.predict(X_missing_rent)\n",
    "            predicted_rent.extend(pred_rent)\n",
    "\n",
    "    # 임대보증금에 대한 회귀 모델 학습\n",
    "    # 임대보증금 열에 결측값이 없는 데이터를 선택하고, 전용면적을 X, 임대보증금를 y로 사용\n",
    "    X = region_data[~region_data['임대보증금'].isna()][['단지내주차면수']]\n",
    "    y = region_data[~region_data['임대보증금'].isna()]['임대보증금']\n",
    "    if len(X) > 0:\n",
    "        model_deposit = LinearRegression()\n",
    "        model_deposit.fit(X, y)\n",
    "        # 결측치 예측\n",
    "        X_missing_deposit = region_data[region_data['임대보증금'].isna()][['단지내주차면수']]\n",
    "        # 데이터가 존재하면 모델을 사용해 임대료를 예측하고 리스트에 추가하도록 함\n",
    "        if len(X_missing_deposit) > 0:\n",
    "            pred_deposit = model_deposit.predict(X_missing_deposit)\n",
    "            predicted_deposit.extend(pred_deposit)\n",
    "\n",
    "# train_non_store의 임대료와 임대보증금이 결측치인 것들을 채워넣음\n",
    "missing_rent_indices = train_non_store[train_non_store['임대료'].isna()].index\n",
    "for idx, value in zip(missing_rent_indices, predicted_rent):\n",
    "    train.at[idx, '임대료'] = value\n",
    "\n",
    "missing_deposit_indices = train_non_store[train_non_store['임대보증금'].isna()].index\n",
    "for idx, value in zip(missing_deposit_indices, predicted_deposit):\n",
    "    train.at[idx, '임대보증금'] = value\n",
    "\n",
    "# 결측치 채워졌는지 확인\n",
    "missing_values = train[train['공급유형'] != '상가'][['임대료', '임대보증금']].isnull().sum()\n",
    "\n",
    "missing_values"
   ]
  },
  {
   "cell_type": "code",
   "execution_count": 42,
   "metadata": {
    "colab": {
     "base_uri": "https://localhost:8080/"
    },
    "id": "qj08qZgf66zr",
    "outputId": "73101ab2-9966-4690-8929-4887c082792f"
   },
   "outputs": [
    {
     "data": {
      "text/plain": [
       "임대료      0\n",
       "임대보증금    0\n",
       "dtype: int64"
      ]
     },
     "execution_count": 42,
     "metadata": {},
     "output_type": "execute_result"
    }
   ],
   "source": [
    "# test 데이터 공급유형이 상가가 아닌 것만 남도록 필터링\n",
    "test_non_store = test[test['공급유형'] != '상가']\n",
    "\n",
    "# 지역명 추출\n",
    "regions = test_non_store['지역'].unique()\n",
    "\n",
    "# 예측값 저장을 위해 빈 리스트 생성\n",
    "predicted_rent = [] #임대료 예측값 저장 리스트\n",
    "predicted_deposit = [] #임대보증금 예측값 저장 리스트\n",
    "\n",
    "# 지역을 기준으로 반복문 돌림\n",
    "for region in regions:\n",
    "    region_data = test_non_store[test_non_store['지역'] == region].copy()\n",
    "\n",
    "    # 임대료에 대한 회귀 모델 학습\n",
    "    X = region_data[~region_data['임대료'].isna()][['단지내주차면수']]\n",
    "    y = region_data[~region_data['임대료'].isna()]['임대료']\n",
    "    if len(X) > 0:\n",
    "        model_rent = LinearRegression()\n",
    "        model_rent.fit(X, y)\n",
    "        # 결측치 예측\n",
    "        X_missing_rent = region_data[region_data['임대료'].isna()][['단지내주차면수']]\n",
    "        # 데이터가 존재하면 모델을 사용해 임대료를 예측하고 리스트에 추가하도록 함\n",
    "        if len(X_missing_rent) > 0:\n",
    "            pred_rent = model_rent.predict(X_missing_rent)\n",
    "            predicted_rent.extend(pred_rent)\n",
    "\n",
    "    # 임대보증금에 대해서도 동일하게 회귀 모델 학습\n",
    "    X = region_data[~region_data['임대보증금'].isna()][['단지내주차면수']]\n",
    "    y = region_data[~region_data['임대보증금'].isna()]['임대보증금']\n",
    "    if len(X) > 0:\n",
    "        model_deposit = LinearRegression()\n",
    "        model_deposit.fit(X, y)\n",
    "        # 결측치 예측\n",
    "        X_missing_deposit = region_data[region_data['임대보증금'].isna()][['단지내주차면수']]\n",
    "        # 데이터가 존재하면 모델을 사용해 임대보증금을 예측하고 리스트에 추가하도록 함\n",
    "        if len(X_missing_deposit) > 0:\n",
    "            pred_deposit = model_deposit.predict(X_missing_deposit)\n",
    "            predicted_deposit.extend(pred_deposit)\n",
    "\n",
    "# test_non_store 결측치를 예측한 임대료와 임대보증금 값으로 채움\n",
    "missing_rent_indices = test_non_store[test_non_store['임대료'].isna()].index\n",
    "for idx, value in zip(missing_rent_indices, predicted_rent):\n",
    "    test.at[idx, '임대료'] = value\n",
    "\n",
    "missing_deposit_indices = test_non_store[test_non_store['임대보증금'].isna()].index\n",
    "for idx, value in zip(missing_deposit_indices, predicted_deposit):\n",
    "    test.at[idx, '임대보증금'] = value\n",
    "\n",
    "# 결측치 채워졌는지 확인\n",
    "missing_values = test[test['공급유형'] != '상가'][['임대료', '임대보증금']].isnull().sum()\n",
    "\n",
    "missing_values"
   ]
  },
  {
   "cell_type": "markdown",
   "metadata": {
    "id": "RTqtl_5x3LY4"
   },
   "source": [
    "- train에는 있는데 test에는 없는 값들이 존재함\n",
    "---\n",
    "- 장기전세, 공공임대(5년), 공공분양\n",
    "- 자격유형 : B, F, O\n",
    "- 단지코드"
   ]
  },
  {
   "cell_type": "code",
   "execution_count": 43,
   "metadata": {
    "colab": {
     "base_uri": "https://localhost:8080/"
    },
    "id": "0JdyOR0IzFeV",
    "outputId": "a8c4162d-57e5-4b2e-ad2b-9d2a89e0fb76"
   },
   "outputs": [
    {
     "data": {
      "text/plain": [
       "공급유형\n",
       "국민임대         1758\n",
       "임대상가          562\n",
       "행복주택          213\n",
       "공공임대(10년)     205\n",
       "영구임대          152\n",
       "공공임대(50년)      31\n",
       "공공임대(분납)       12\n",
       "장기전세            9\n",
       "공공분양            7\n",
       "공공임대(5년)        3\n",
       "Name: count, dtype: int64"
      ]
     },
     "execution_count": 43,
     "metadata": {},
     "output_type": "execute_result"
    }
   ],
   "source": [
    "train['공급유형'].value_counts()"
   ]
  },
  {
   "cell_type": "code",
   "execution_count": 44,
   "metadata": {
    "colab": {
     "base_uri": "https://localhost:8080/"
    },
    "id": "gUXqgWvYzyJD",
    "outputId": "e91802a0-1240-4b84-8bef-e85bbda4115a"
   },
   "outputs": [
    {
     "data": {
      "text/plain": [
       "공급유형\n",
       "국민임대         622\n",
       "임대상가         177\n",
       "행복주택         124\n",
       "영구임대          45\n",
       "공공임대(10년)     35\n",
       "공공임대(50년)     13\n",
       "공공임대(분납)       6\n",
       "Name: count, dtype: int64"
      ]
     },
     "execution_count": 44,
     "metadata": {},
     "output_type": "execute_result"
    }
   ],
   "source": [
    "test['공급유형'].value_counts()"
   ]
  },
  {
   "cell_type": "markdown",
   "metadata": {
    "id": "zhsLks8D0MT_"
   },
   "source": [
    " - 장기전세, 공공임대(5년), 공공분양이 train에서만 존재함\n",
    " -- '공공'으로 시작하는 거끼리 묶고, 장기전세는 장기적으로 주택을 임대, 국민 임대 역시 장기 임대한다는 점에서 둘을 묶기로 결정"
   ]
  },
  {
   "cell_type": "code",
   "execution_count": 45,
   "metadata": {
    "id": "7u53zxkF00NP"
   },
   "outputs": [],
   "source": [
    "train.loc[train.공급유형.isin(['공공임대(5년)', '공공분양', '공공임대(10년)', '공공임대(분납)','공공임대(50년)']), '공급유형'] = '공공임대(5년/10년/분납/분양)'\n",
    "test.loc[test.공급유형.isin(['공공임대(5년)', '공공분양', '공공임대(10년)', '공공임대(분납)','공공임대(50년)']), '공급유형'] = '공공임대(5년/10년/분납/분양)'\n",
    "\n",
    "train.loc[train.공급유형.isin(['장기전세', '국민임대']), '공급유형'] = '국민임대/장기전세'\n",
    "test.loc[test.공급유형.isin(['장기전세', '국민임대']), '공급유형'] = '국민임대/장기전세'"
   ]
  },
  {
   "cell_type": "code",
   "execution_count": 46,
   "metadata": {
    "colab": {
     "base_uri": "https://localhost:8080/"
    },
    "id": "Uc-GfT8i00W3",
    "outputId": "394cc8a2-71ae-4683-b61a-5b7f496028f6"
   },
   "outputs": [
    {
     "name": "stdout",
     "output_type": "stream",
     "text": [
      "공급유형\n",
      "국민임대/장기전세             1767\n",
      "임대상가                   562\n",
      "공공임대(5년/10년/분납/분양)     258\n",
      "행복주택                   213\n",
      "영구임대                   152\n",
      "Name: count, dtype: int64\n",
      "--------------------------------------------------\n",
      "공급유형\n",
      "국민임대/장기전세             622\n",
      "임대상가                  177\n",
      "행복주택                  124\n",
      "공공임대(5년/10년/분납/분양)     54\n",
      "영구임대                   45\n",
      "Name: count, dtype: int64\n"
     ]
    }
   ],
   "source": [
    "print(train['공급유형'].value_counts())\n",
    "print('-----'*10)\n",
    "print(test['공급유형'].value_counts())\n",
    "#column값 차이 없는 것 확인"
   ]
  },
  {
   "cell_type": "code",
   "execution_count": 47,
   "metadata": {
    "colab": {
     "base_uri": "https://localhost:8080/"
    },
    "id": "eQkiWLyt93kn",
    "outputId": "1b6b58ea-3485-4967-eb41-9cf133543f52"
   },
   "outputs": [
    {
     "data": {
      "text/plain": [
       "자격유형\n",
       "A    1801\n",
       "D     569\n",
       "H     155\n",
       "J     114\n",
       "C      95\n",
       "I      49\n",
       "E      37\n",
       "K      33\n",
       "L      33\n",
       "N      30\n",
       "B      21\n",
       "G       9\n",
       "F       3\n",
       "M       2\n",
       "O       1\n",
       "Name: count, dtype: int64"
      ]
     },
     "execution_count": 47,
     "metadata": {},
     "output_type": "execute_result"
    }
   ],
   "source": [
    "train['자격유형'].value_counts()\n",
    "# B- 21\n",
    "# F -3\n",
    "# O -1\n",
    "# 데이터가 적어서 바로 앞의 자격 유형과 묶어도 무방할 것 같음"
   ]
  },
  {
   "cell_type": "code",
   "execution_count": 48,
   "metadata": {
    "colab": {
     "base_uri": "https://localhost:8080/"
    },
    "id": "DOggKY-T-h0b",
    "outputId": "71b5f05c-7161-4298-9a7d-44bf4ac80899"
   },
   "outputs": [
    {
     "data": {
      "text/plain": [
       "자격유형\n",
       "A-B    1822\n",
       "D       569\n",
       "H       155\n",
       "J       114\n",
       "C        95\n",
       "I        49\n",
       "E-F      40\n",
       "K        33\n",
       "L        33\n",
       "N-O      31\n",
       "G         9\n",
       "M         2\n",
       "Name: count, dtype: int64"
      ]
     },
     "execution_count": 48,
     "metadata": {},
     "output_type": "execute_result"
    }
   ],
   "source": [
    "# B,F,O 각 자격유형의 바로 앞 자격유형과 통합함\n",
    "train['자격유형'] = train['자격유형'].apply(lambda x: 'A-B' if x in ['A', 'B'] else x)\n",
    "test['자격유형'] = train['자격유형'].apply(lambda x: 'A-B' if x in ['A', 'B'] else x)\n",
    "\n",
    "train['자격유형'] = train['자격유형'].apply(lambda x: 'E-F' if x in ['E', 'F'] else x)\n",
    "test['자격유형'] = train['자격유형'].apply(lambda x: 'E-F' if x in ['E', 'F'] else x)\n",
    "\n",
    "train['자격유형'] = train['자격유형'].apply(lambda x: 'N-O' if x in ['N', 'O'] else x)\n",
    "test['자격유형'] = train['자격유형'].apply(lambda x: 'N-O' if x in ['N', 'O'] else x)\n",
    "\n",
    "train['자격유형'].value_counts()"
   ]
  },
  {
   "cell_type": "code",
   "execution_count": 49,
   "metadata": {},
   "outputs": [],
   "source": [
    "from sklearn.preprocessing import LabelEncoder\n",
    "\n",
    "label_encoder = LabelEncoder()\n",
    "train['지역_label_encoded']  = label_encoder.fit_transform(train['지역'])\n",
    "\n",
    "label_encoder = LabelEncoder()\n",
    "test['지역_label_encoded']  = label_encoder.fit_transform(test['지역'])\n",
    "\n",
    "label_encoder = LabelEncoder()\n",
    "train['공급유형_label_encoded']  = label_encoder.fit_transform(train['공급유형'])\n",
    "\n",
    "label_encoder = LabelEncoder()\n",
    "test['공급유형_label_encoded']  = label_encoder.fit_transform(test['공급유형'])\n",
    "\n",
    "label_encoder = LabelEncoder()\n",
    "train['자격유형_label_encoded']  = label_encoder.fit_transform(train['자격유형'])\n",
    "\n",
    "label_encoder = LabelEncoder()\n",
    "test['자격유형_label_encoded']  = label_encoder.fit_transform(test['자격유형'])"
   ]
  },
  {
   "cell_type": "code",
   "execution_count": 50,
   "metadata": {},
   "outputs": [
    {
     "data": {
      "text/plain": [
       "Index(['단지코드', '총세대수', '임대건물구분', '지역', '공급유형', '전용면적', '전용면적별세대수', '공가수',\n",
       "       '자격유형', '임대보증금', '임대료', '지하철수', '버스수', '단지내주차면수', '등록차량수',\n",
       "       '지역_label_encoded', '공급유형_label_encoded', '자격유형_label_encoded'],\n",
       "      dtype='object')"
      ]
     },
     "execution_count": 50,
     "metadata": {},
     "output_type": "execute_result"
    }
   ],
   "source": [
    "train.columns"
   ]
  },
  {
   "cell_type": "code",
   "execution_count": 51,
   "metadata": {},
   "outputs": [
    {
     "name": "stdout",
     "output_type": "stream",
     "text": [
      "Index(['단지코드', '총세대수', '임대건물구분', '전용면적', '전용면적별세대수', '공가수', '임대보증금', '임대료',\n",
      "       '지하철수', '버스수', '단지내주차면수', '등록차량수', '지역_label_encoded',\n",
      "       '공급유형_label_encoded', '자격유형_label_encoded'],\n",
      "      dtype='object')\n",
      "Index(['단지코드', '총세대수', '임대건물구분', '전용면적', '전용면적별세대수', '공가수', '임대보증금', '임대료',\n",
      "       '지하철수', '버스수', '단지내주차면수', '지역_label_encoded', '공급유형_label_encoded',\n",
      "       '자격유형_label_encoded'],\n",
      "      dtype='object')\n"
     ]
    }
   ],
   "source": [
    "train = train.drop(columns=['지역', '공급유형', '자격유형'],)\n",
    "test = test.drop(columns=['지역', '공급유형', '자격유형'])\n",
    "\n",
    "print(train.columns)\n",
    "print(test.columns)\n"
   ]
  },
  {
   "cell_type": "markdown",
   "metadata": {
    "id": "DD2ORyjM66zr"
   },
   "source": [
    "> data type이 object인 것을 모두 인코딩(원-핫 인코딩 사용)"
   ]
  },
  {
   "cell_type": "code",
   "execution_count": 52,
   "metadata": {
    "colab": {
     "base_uri": "https://localhost:8080/"
    },
    "id": "YnontL2066zr",
    "outputId": "d30e8ca5-583f-4ae0-bb68-c50e970a81d2"
   },
   "outputs": [
    {
     "data": {
      "text/plain": [
       "Index(['단지코드', '총세대수', '전용면적', '전용면적별세대수', '공가수', '임대보증금', '임대료', '지하철수',\n",
       "       '버스수', '단지내주차면수', '등록차량수', '지역_label_encoded', '공급유형_label_encoded',\n",
       "       '자격유형_label_encoded', '임대건물구분_상가', '임대건물구분_아파트'],\n",
       "      dtype='object')"
      ]
     },
     "execution_count": 52,
     "metadata": {},
     "output_type": "execute_result"
    }
   ],
   "source": [
    "# '단지코드'를 제외하고 object인 열을 모두 원-핫 인코딩 진행\n",
    "\n",
    "# 인코딩할 object 열을 식별\n",
    "object_columns = train.select_dtypes(include=['object']).columns.tolist()\n",
    "object_columns.remove('단지코드')  # '단지코드' 열은 제외하여 인코딩하지 않음\n",
    "\n",
    "# train, test에 대해 원-핫 인코딩 진행\n",
    "train_encoded = pd.get_dummies(train, columns=object_columns)\n",
    "test_encoded = pd.get_dummies(test, columns=object_columns)\n",
    "\n",
    "# 인코딩이 진행된 train 데이터의 열 확인\n",
    "train_encoded.head()\n",
    "train_encoded.columns"
   ]
  },
  {
   "cell_type": "code",
   "execution_count": 53,
   "metadata": {
    "id": "XDr7mDCu66zs"
   },
   "outputs": [],
   "source": [
    "# '임대건물구분'이 '상가'인 경우 '임대료', '임대보증금' 값을 drop\n",
    "# '임대건물구분'이 '상가'가 아닌 경우는 drop없이 그대로 진행\n",
    "\n",
    "train_store_data = train_encoded[train_encoded['임대건물구분_상가'] == 1].drop(columns=['임대료', '임대보증금'])\n",
    "train_non_store_data = train_encoded[train_encoded['임대건물구분_상가'] != 1]\n",
    "\n",
    "test_store_data = test_encoded[test_encoded['임대건물구분_상가'] == '1'].drop(columns=['임대료', '임대보증금'])\n",
    "test_non_store_data = test_encoded[test_encoded['임대건물구분_상가'] != 1]"
   ]
  },
  {
   "cell_type": "markdown",
   "metadata": {},
   "source": [
    "### `임대건물구분`이 상가인 것을 학습데이터로 나누고, 정규화를 두가지 방법(minMax Scaler, Stndardization Scaler)로 진행한 후, \n",
    "### Ridge, Lasso, ElasticNet 회귀 모델을 사용하여 MAE값이 가장 낮은것을 출력"
   ]
  },
  {
   "cell_type": "code",
   "execution_count": 54,
   "metadata": {},
   "outputs": [],
   "source": [
    "# '임대건물구분'이 상가인 경우에 피처와 타겟변수 분리\n",
    "X = train_store_data.drop(['단지코드','등록차량수'], axis=1)  # 'target'은 예측하고자 하는 타겟 변수\n",
    "y = train_store_data['등록차량수']\n",
    "\n",
    "# 학습 데이터와 검증 데이터로 분리\n",
    "X_train, X_val, y_train, y_val = train_test_split(X, y, test_size=0.2, random_state=42)"
   ]
  },
  {
   "cell_type": "code",
   "execution_count": 55,
   "metadata": {},
   "outputs": [
    {
     "data": {
      "text/plain": [
       "12"
      ]
     },
     "execution_count": 55,
     "metadata": {},
     "output_type": "execute_result"
    }
   ],
   "source": [
    "X.columns.nunique()"
   ]
  },
  {
   "cell_type": "code",
   "execution_count": 60,
   "metadata": {},
   "outputs": [],
   "source": [
    "# Initialize scalers again\n",
    "minmax_scaler = MinMaxScaler()\n",
    "standard_scaler = StandardScaler()\n",
    "\n",
    "# Apply MinMax Scaling\n",
    "\n",
    "X_train_minmax = minmax_scaler.fit_transform(X_train)\n",
    "X_val_minmax = minmax_scaler.transform(X_val)\n",
    "\n",
    "# Apply Standard Scaling\n",
    "X_train_std = standard_scaler.fit_transform(X_train)\n",
    "X_val_std = standard_scaler.transform(X_val)"
   ]
  },
  {
   "cell_type": "code",
   "execution_count": 61,
   "metadata": {},
   "outputs": [
    {
     "data": {
      "text/plain": [
       "(51.86538333387658, 52.952836084543634, 63.51372815882005)"
      ]
     },
     "execution_count": 61,
     "metadata": {},
     "output_type": "execute_result"
    }
   ],
   "source": [
    "lasso = Lasso(alpha=1.0)\n",
    "ridge = Ridge(alpha=1.0)\n",
    "elastic_net = ElasticNet(alpha=1.0, l1_ratio=0.5)\n",
    "\n",
    "# Train models using MinMax scaled data\n",
    "lasso.fit(X_train_minmax, y_train)\n",
    "ridge.fit(X_train_minmax, y_train)\n",
    "elastic_net.fit(X_train_minmax, y_train)\n",
    "\n",
    "# Predict on validation set\n",
    "lasso_pred_minmax = lasso.predict(X_val_minmax)\n",
    "ridge_pred_minmax = ridge.predict(X_val_minmax)\n",
    "elastic_net_pred_minmax = elastic_net.predict(X_val_minmax)\n",
    "\n",
    "from sklearn.metrics import mean_absolute_error\n",
    "\n",
    "# Evaluate performance (MAE)\n",
    "lasso_mae_minmax = mean_absolute_error(y_val, lasso_pred_minmax)\n",
    "ridge_mae_minmax = mean_absolute_error(y_val, ridge_pred_minmax)\n",
    "elastic_net_mae_minmax = mean_absolute_error(y_val, elastic_net_pred_minmax)\n",
    "\n",
    "lasso_mae_minmax, ridge_mae_minmax, elastic_net_mae_minmax"
   ]
  },
  {
   "cell_type": "code",
   "execution_count": 62,
   "metadata": {},
   "outputs": [
    {
     "data": {
      "text/plain": [
       "(52.1591044043332, 52.531576678198, 56.37625029919069)"
      ]
     },
     "execution_count": 62,
     "metadata": {},
     "output_type": "execute_result"
    }
   ],
   "source": [
    "# Train models using Standard scaled data\n",
    "lasso.fit(X_train_std, y_train)\n",
    "ridge.fit(X_train_std, y_train)\n",
    "elastic_net.fit(X_train_std, y_train)\n",
    "\n",
    "# Predict on validation set\n",
    "lasso_pred_std = lasso.predict(X_val_std)\n",
    "ridge_pred_std = ridge.predict(X_val_std)\n",
    "elastic_net_pred_std = elastic_net.predict(X_val_std)\n",
    "\n",
    "# Evaluate performance (MAE)\n",
    "lasso_mae_std = mean_absolute_error(y_val, lasso_pred_std)\n",
    "ridge_mae_std = mean_absolute_error(y_val, ridge_pred_std)\n",
    "elastic_net_mae_std = mean_absolute_error(y_val, elastic_net_pred_std)\n",
    "\n",
    "lasso_mae_std, ridge_mae_std, elastic_net_mae_std"
   ]
  },
  {
   "cell_type": "code",
   "execution_count": 63,
   "metadata": {},
   "outputs": [
    {
     "name": "stdout",
     "output_type": "stream",
     "text": [
      "임대건물구분 : 상가일때 \n",
      " Best Model: Lasso_minmax with MAE: 51.86538333387658\n"
     ]
    }
   ],
   "source": [
    "min_mae = min(lasso_mae_std, ridge_mae_std, elastic_net_mae_std,\n",
    "              lasso_mae_minmax, ridge_mae_minmax, elastic_net_mae_minmax)\n",
    "\n",
    "if min_mae == lasso_mae_std:\n",
    "    best_model = lasso\n",
    "    model_name = \"Lasso_std\"\n",
    "elif min_mae == ridge_mae_std:\n",
    "    best_model = ridge\n",
    "    model_name = \"Ridge_std\"\n",
    "elif min_mae == elastic_net_mae_std:\n",
    "    best_model = elastic_net_mae_std\n",
    "    model_name = \"ElasticNet_std\"\n",
    "elif min_mae == lasso_mae_minmax:\n",
    "    best_model = lasso\n",
    "    model_name = \"Lasso_minmax\"\n",
    "elif min_mae == ridge_mae_std:\n",
    "    best_model = ridge\n",
    "    model_name = \"Ridge_minmax\"\n",
    "else:\n",
    "    best_model = elastic_net_mae_minmax\n",
    "    model_name = \"ElasticNet_minmax\"\n",
    "\n",
    "print(f\"임대건물구분 : 상가일때 \\n Best Model: {model_name} with MAE: {min_mae}\")"
   ]
  },
  {
   "cell_type": "code",
   "execution_count": 64,
   "metadata": {},
   "outputs": [
    {
     "name": "stdout",
     "output_type": "stream",
     "text": [
      "     총세대수   전용면적  전용면적별세대수   공가수  지하철수   버스수  단지내주차면수  지역_label_encoded  \\\n",
      "713   657  27.50         1   2.0   0.0   4.0    166.0                 1   \n",
      "88    601  32.10         1   9.0   0.0   4.0    117.0                 0   \n",
      "108   619  27.75         1   2.0   0.0   2.0     97.0                 5   \n",
      "684   711  31.84         1   5.0   0.0   8.0    131.0                 4   \n",
      "119   619  28.19         1   2.0   0.0   2.0     97.0                 5   \n",
      "..    ...    ...       ...   ...   ...   ...      ...               ...   \n",
      "203   639  31.84         1  34.0   0.0   7.0    162.0                 5   \n",
      "250   785  23.40         1   7.0   1.0  10.0    150.0                 5   \n",
      "461  1527  54.60         1   2.0   0.0   3.0    240.0                 1   \n",
      "656   755  31.84         1   1.0   0.0   4.0     88.0                 0   \n",
      "246   785  19.31         1   7.0   1.0  10.0    150.0                 5   \n",
      "\n",
      "     공급유형_label_encoded  자격유형_label_encoded  임대건물구분_상가  임대건물구분_아파트  \n",
      "713                   3                   2       True       False  \n",
      "88                    3                   2       True       False  \n",
      "108                   3                   2       True       False  \n",
      "684                   3                   2       True       False  \n",
      "119                   3                   2       True       False  \n",
      "..                  ...                 ...        ...         ...  \n",
      "203                   3                   2       True       False  \n",
      "250                   3                   2       True       False  \n",
      "461                   3                   2       True       False  \n",
      "656                   3                   2       True       False  \n",
      "246                   3                   2       True       False  \n",
      "\n",
      "[449 rows x 12 columns]\n"
     ]
    }
   ],
   "source": [
    "print(X_train)"
   ]
  },
  {
   "cell_type": "code",
   "execution_count": 72,
   "metadata": {},
   "outputs": [
    {
     "data": {
      "text/plain": [
       "총세대수                    int64\n",
       "전용면적                  float64\n",
       "전용면적별세대수                int64\n",
       "공가수                   float64\n",
       "임대보증금                 float64\n",
       "임대료                   float64\n",
       "지하철수                  float64\n",
       "버스수                   float64\n",
       "단지내주차면수               float64\n",
       "지역_label_encoded        int64\n",
       "공급유형_label_encoded      int64\n",
       "자격유형_label_encoded      int64\n",
       "임대건물구분_상가                bool\n",
       "임대건물구분_아파트               bool\n",
       "dtype: object"
      ]
     },
     "execution_count": 72,
     "metadata": {},
     "output_type": "execute_result"
    }
   ],
   "source": [
    "X_train.dtypes"
   ]
  },
  {
   "attachments": {},
   "cell_type": "markdown",
   "metadata": {},
   "source": [
    "### `임대건물구분`이 상가가 아닌 것을 학습데이터로 나누고, 정규화를 두가지 방법(minMax Scaler, Stndardization Scaler)로 진행한 후, \n",
    "### Ridge, Lasso, ElasticNet 회귀 모델을 사용하여 MAE값이 가장 낮은것을 출력"
   ]
  },
  {
   "cell_type": "code",
   "execution_count": 65,
   "metadata": {},
   "outputs": [],
   "source": [
    "# '임대건물구분'이 아파트 경우에 피처과 타겟 변수 분리\n",
    "X = train_non_store_data.drop(['단지코드','등록차량수'], axis=1)  # 'target'은 예측하고자 하는 타겟 변수\n",
    "y = train_non_store_data['등록차량수']\n",
    "\n",
    "# 학습 데이터와 검증 데이터로 분리\n",
    "X_train, X_val, y_train, y_val = train_test_split(X, y, test_size=0.2, random_state=42)"
   ]
  },
  {
   "cell_type": "code",
   "execution_count": 66,
   "metadata": {},
   "outputs": [
    {
     "data": {
      "text/plain": [
       "14"
      ]
     },
     "execution_count": 66,
     "metadata": {},
     "output_type": "execute_result"
    }
   ],
   "source": [
    "X.columns.nunique()"
   ]
  },
  {
   "cell_type": "code",
   "execution_count": 67,
   "metadata": {},
   "outputs": [],
   "source": [
    "# Initialize scalers again\n",
    "minmax_scaler = MinMaxScaler()\n",
    "standard_scaler = StandardScaler()\n",
    "\n",
    "# Apply MinMax Scaling\n",
    "\n",
    "X_train_minmax = minmax_scaler.fit_transform(X_train)\n",
    "X_val_minmax = minmax_scaler.transform(X_val)\n",
    "\n",
    "# Apply Standard Scaling\n",
    "X_train_std = standard_scaler.fit_transform(X_train)\n",
    "X_val_std = standard_scaler.transform(X_val)"
   ]
  },
  {
   "cell_type": "code",
   "execution_count": 68,
   "metadata": {},
   "outputs": [
    {
     "data": {
      "text/plain": [
       "(146.4775036375735, 147.87616035629028, 291.2546096267895)"
      ]
     },
     "execution_count": 68,
     "metadata": {},
     "output_type": "execute_result"
    }
   ],
   "source": [
    "lasso = Lasso(alpha=1.0)\n",
    "ridge = Ridge(alpha=1.0)\n",
    "elastic_net = ElasticNet(alpha=1.0, l1_ratio=0.5)\n",
    "\n",
    "# Train models using MinMax scaled data\n",
    "lasso.fit(X_train_minmax, y_train)\n",
    "ridge.fit(X_train_minmax, y_train)\n",
    "elastic_net.fit(X_train_minmax, y_train)\n",
    "\n",
    "# Predict on validation set\n",
    "lasso_pred_minmax = lasso.predict(X_val_minmax)\n",
    "ridge_pred_minmax = ridge.predict(X_val_minmax)\n",
    "elastic_net_pred_minmax = elastic_net.predict(X_val_minmax)\n",
    "\n",
    "from sklearn.metrics import mean_absolute_error\n",
    "\n",
    "# Evaluate performance (MAE)\n",
    "lasso_mae_minmax = mean_absolute_error(y_val, lasso_pred_minmax)\n",
    "ridge_mae_minmax = mean_absolute_error(y_val, ridge_pred_minmax)\n",
    "elastic_net_mae_minmax = mean_absolute_error(y_val, elastic_net_pred_minmax)\n",
    "\n",
    "lasso_mae_minmax, ridge_mae_minmax, elastic_net_mae_minmax"
   ]
  },
  {
   "cell_type": "code",
   "execution_count": 69,
   "metadata": {
    "colab": {
     "base_uri": "https://localhost:8080/"
    },
    "id": "8TzK5-4m66zs",
    "outputId": "0e0751e3-38ea-478f-a937-b58852f4081e"
   },
   "outputs": [
    {
     "data": {
      "text/plain": [
       "(147.48687719622185, 147.94402965683537, 163.33472744431253)"
      ]
     },
     "execution_count": 69,
     "metadata": {},
     "output_type": "execute_result"
    }
   ],
   "source": [
    "# Train models using Standard scaled data\n",
    "lasso.fit(X_train_std, y_train)\n",
    "ridge.fit(X_train_std, y_train)\n",
    "elastic_net.fit(X_train_std, y_train)\n",
    "\n",
    "# Predict on validation set\n",
    "lasso_pred_std = lasso.predict(X_val_std)\n",
    "ridge_pred_std = ridge.predict(X_val_std)\n",
    "elastic_net_pred_std = elastic_net.predict(X_val_std)\n",
    "\n",
    "# Evaluate performance (MAE)\n",
    "lasso_mae_std = mean_absolute_error(y_val, lasso_pred_std)\n",
    "ridge_mae_std = mean_absolute_error(y_val, ridge_pred_std)\n",
    "elastic_net_mae_std = mean_absolute_error(y_val, elastic_net_pred_std)\n",
    "\n",
    "lasso_mae_std, ridge_mae_std, elastic_net_mae_std"
   ]
  },
  {
   "cell_type": "code",
   "execution_count": 71,
   "metadata": {
    "colab": {
     "base_uri": "https://localhost:8080/"
    },
    "id": "bqqy-AXv66zs",
    "outputId": "d3c512df-5e13-44c2-eac0-5a0907bf0fe2"
   },
   "outputs": [
    {
     "name": "stdout",
     "output_type": "stream",
     "text": [
      "Best Model: Lasso_minmax with MAE: 146.4775036375735\n"
     ]
    }
   ],
   "source": [
    "min_mae = min(lasso_mae_std, ridge_mae_std, elastic_net_mae_std,\n",
    "              lasso_mae_minmax, ridge_mae_minmax, elastic_net_mae_minmax)\n",
    "\n",
    "if min_mae == lasso_mae_std:\n",
    "    best_model = lasso\n",
    "    model_name = \"Lasso_std\"\n",
    "elif min_mae == ridge_mae_std:\n",
    "    best_model = ridge\n",
    "    model_name = \"Ridge_std\"\n",
    "elif min_mae == elastic_net_mae_std:\n",
    "    best_model = elastic_net_mae_std\n",
    "    model_name = \"ElasticNet_std\"\n",
    "elif min_mae == lasso_mae_minmax:\n",
    "    best_model = lasso\n",
    "    model_name = \"Lasso_minmax\"\n",
    "elif min_mae == ridge_mae_std:\n",
    "    best_model = ridge\n",
    "    model_name = \"Ridge_minmax\"\n",
    "else:\n",
    "    best_model = elastic_net_mae_minmax\n",
    "    model_name = \"ElasticNet_minmax\"\n",
    "\n",
    "print(f\"Best Model: {model_name} with MAE: {min_mae}\")"
   ]
  },
  {
   "cell_type": "code",
   "execution_count": null,
   "metadata": {},
   "outputs": [],
   "source": []
  }
 ],
 "metadata": {
  "colab": {
   "provenance": []
  },
  "kernelspec": {
   "display_name": "Python 3 (ipykernel)",
   "language": "python",
   "name": "python3"
  },
  "language_info": {
   "codemirror_mode": {
    "name": "ipython",
    "version": 3
   },
   "file_extension": ".py",
   "mimetype": "text/x-python",
   "name": "python",
   "nbconvert_exporter": "python",
   "pygments_lexer": "ipython3",
   "version": "3.8.18"
  },
  "vscode": {
   "interpreter": {
    "hash": "2dd1ca99377df5aa8dd5d26c3d4220cb676e90e9e0008654e76df47202f54a65"
   }
  }
 },
 "nbformat": 4,
 "nbformat_minor": 1
}
