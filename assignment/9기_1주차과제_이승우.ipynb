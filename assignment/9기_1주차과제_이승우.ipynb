{
 "cells": [
  {
   "cell_type": "markdown",
   "id": "c661ba96",
   "metadata": {},
   "source": [
    "## 민간 아파트 분양가격 동향 2023-08-21\n",
    "## (데이터 전처리과정)"
   ]
  },
  {
   "cell_type": "code",
   "execution_count": 105,
   "id": "7beeefd2",
   "metadata": {},
   "outputs": [
    {
     "data": {
      "text/html": [
       "<div>\n",
       "<style scoped>\n",
       "    .dataframe tbody tr th:only-of-type {\n",
       "        vertical-align: middle;\n",
       "    }\n",
       "\n",
       "    .dataframe tbody tr th {\n",
       "        vertical-align: top;\n",
       "    }\n",
       "\n",
       "    .dataframe thead th {\n",
       "        text-align: right;\n",
       "    }\n",
       "</style>\n",
       "<table border=\"1\" class=\"dataframe\">\n",
       "  <thead>\n",
       "    <tr style=\"text-align: right;\">\n",
       "      <th></th>\n",
       "      <th>지역명</th>\n",
       "      <th>규모구분</th>\n",
       "      <th>연도</th>\n",
       "      <th>월</th>\n",
       "      <th>분양가격(제곱미터)</th>\n",
       "    </tr>\n",
       "  </thead>\n",
       "  <tbody>\n",
       "    <tr>\n",
       "      <th>0</th>\n",
       "      <td>서울</td>\n",
       "      <td>모든면적</td>\n",
       "      <td>2015</td>\n",
       "      <td>10</td>\n",
       "      <td>5841</td>\n",
       "    </tr>\n",
       "    <tr>\n",
       "      <th>1</th>\n",
       "      <td>서울</td>\n",
       "      <td>전용면적 60제곱미터이하</td>\n",
       "      <td>2015</td>\n",
       "      <td>10</td>\n",
       "      <td>5652</td>\n",
       "    </tr>\n",
       "    <tr>\n",
       "      <th>2</th>\n",
       "      <td>서울</td>\n",
       "      <td>전용면적 60제곱미터초과 85제곱미터이하</td>\n",
       "      <td>2015</td>\n",
       "      <td>10</td>\n",
       "      <td>5882</td>\n",
       "    </tr>\n",
       "    <tr>\n",
       "      <th>3</th>\n",
       "      <td>서울</td>\n",
       "      <td>전용면적 85제곱미터초과 102제곱미터이하</td>\n",
       "      <td>2015</td>\n",
       "      <td>10</td>\n",
       "      <td>5721</td>\n",
       "    </tr>\n",
       "    <tr>\n",
       "      <th>4</th>\n",
       "      <td>서울</td>\n",
       "      <td>전용면적 102제곱미터초과</td>\n",
       "      <td>2015</td>\n",
       "      <td>10</td>\n",
       "      <td>5879</td>\n",
       "    </tr>\n",
       "    <tr>\n",
       "      <th>...</th>\n",
       "      <td>...</td>\n",
       "      <td>...</td>\n",
       "      <td>...</td>\n",
       "      <td>...</td>\n",
       "      <td>...</td>\n",
       "    </tr>\n",
       "    <tr>\n",
       "      <th>7900</th>\n",
       "      <td>제주</td>\n",
       "      <td>모든면적</td>\n",
       "      <td>2023</td>\n",
       "      <td>6</td>\n",
       "      <td>7326</td>\n",
       "    </tr>\n",
       "    <tr>\n",
       "      <th>7901</th>\n",
       "      <td>제주</td>\n",
       "      <td>전용면적 60제곱미터이하</td>\n",
       "      <td>2023</td>\n",
       "      <td>6</td>\n",
       "      <td>7381</td>\n",
       "    </tr>\n",
       "    <tr>\n",
       "      <th>7902</th>\n",
       "      <td>제주</td>\n",
       "      <td>전용면적 60제곱미터초과 85제곱미터이하</td>\n",
       "      <td>2023</td>\n",
       "      <td>6</td>\n",
       "      <td>7084</td>\n",
       "    </tr>\n",
       "    <tr>\n",
       "      <th>7903</th>\n",
       "      <td>제주</td>\n",
       "      <td>전용면적 85제곱미터초과 102제곱미터이하</td>\n",
       "      <td>2023</td>\n",
       "      <td>6</td>\n",
       "      <td>6639</td>\n",
       "    </tr>\n",
       "    <tr>\n",
       "      <th>7904</th>\n",
       "      <td>제주</td>\n",
       "      <td>전용면적 102제곱미터초과</td>\n",
       "      <td>2023</td>\n",
       "      <td>6</td>\n",
       "      <td>7506</td>\n",
       "    </tr>\n",
       "  </tbody>\n",
       "</table>\n",
       "<p>7905 rows × 5 columns</p>\n",
       "</div>"
      ],
      "text/plain": [
       "     지역명                     규모구분    연도   월 분양가격(제곱미터)\n",
       "0     서울                     모든면적  2015  10       5841\n",
       "1     서울            전용면적 60제곱미터이하  2015  10       5652\n",
       "2     서울   전용면적 60제곱미터초과 85제곱미터이하  2015  10       5882\n",
       "3     서울  전용면적 85제곱미터초과 102제곱미터이하  2015  10       5721\n",
       "4     서울           전용면적 102제곱미터초과  2015  10       5879\n",
       "...   ..                      ...   ...  ..        ...\n",
       "7900  제주                     모든면적  2023   6       7326\n",
       "7901  제주            전용면적 60제곱미터이하  2023   6       7381\n",
       "7902  제주   전용면적 60제곱미터초과 85제곱미터이하  2023   6       7084\n",
       "7903  제주  전용면적 85제곱미터초과 102제곱미터이하  2023   6       6639\n",
       "7904  제주           전용면적 102제곱미터초과  2023   6       7506\n",
       "\n",
       "[7905 rows x 5 columns]"
      ]
     },
     "execution_count": 105,
     "metadata": {},
     "output_type": "execute_result"
    }
   ],
   "source": [
    "import pandas as pd\n",
    "df = pd.read_csv('https://bit.ly/Private-apartment-prices', encoding='cp949')\n",
    "df"
   ]
  },
  {
   "cell_type": "code",
   "execution_count": 106,
   "id": "17169152",
   "metadata": {},
   "outputs": [
    {
     "name": "stdout",
     "output_type": "stream",
     "text": [
      "<class 'pandas.core.frame.DataFrame'>\n",
      "RangeIndex: 7905 entries, 0 to 7904\n",
      "Data columns (total 5 columns):\n",
      " #   Column      Non-Null Count  Dtype \n",
      "---  ------      --------------  ----- \n",
      " 0   지역명         7905 non-null   object\n",
      " 1   규모구분        7905 non-null   object\n",
      " 2   연도          7905 non-null   int64 \n",
      " 3   월           7905 non-null   int64 \n",
      " 4   분양가격(제곱미터)  7358 non-null   object\n",
      "dtypes: int64(2), object(3)\n",
      "memory usage: 308.9+ KB\n"
     ]
    }
   ],
   "source": [
    "#데이터 프레임 정보확인\n",
    "df.info()\n",
    "#'분양 가격'에서 7358개의 non-null 확인. -> 547개 결측치 처리"
   ]
  },
  {
   "cell_type": "markdown",
   "id": "f4114245",
   "metadata": {},
   "source": [
    "## 1. 컬럼명 수정하기\n",
    "'분양가격(제곱미터) -> '분양가격'"
   ]
  },
  {
   "cell_type": "code",
   "execution_count": 107,
   "id": "9b449f12",
   "metadata": {},
   "outputs": [],
   "source": [
    "df.rename(columns={'분양가격(제곱미터)':'분양가격'}, inplace=True)"
   ]
  },
  {
   "cell_type": "code",
   "execution_count": 108,
   "id": "56084dfc",
   "metadata": {},
   "outputs": [
    {
     "data": {
      "text/html": [
       "<div>\n",
       "<style scoped>\n",
       "    .dataframe tbody tr th:only-of-type {\n",
       "        vertical-align: middle;\n",
       "    }\n",
       "\n",
       "    .dataframe tbody tr th {\n",
       "        vertical-align: top;\n",
       "    }\n",
       "\n",
       "    .dataframe thead th {\n",
       "        text-align: right;\n",
       "    }\n",
       "</style>\n",
       "<table border=\"1\" class=\"dataframe\">\n",
       "  <thead>\n",
       "    <tr style=\"text-align: right;\">\n",
       "      <th></th>\n",
       "      <th>지역명</th>\n",
       "      <th>규모구분</th>\n",
       "      <th>연도</th>\n",
       "      <th>월</th>\n",
       "      <th>분양가격</th>\n",
       "    </tr>\n",
       "  </thead>\n",
       "  <tbody>\n",
       "    <tr>\n",
       "      <th>0</th>\n",
       "      <td>서울</td>\n",
       "      <td>모든면적</td>\n",
       "      <td>2015</td>\n",
       "      <td>10</td>\n",
       "      <td>5841</td>\n",
       "    </tr>\n",
       "    <tr>\n",
       "      <th>1</th>\n",
       "      <td>서울</td>\n",
       "      <td>전용면적 60제곱미터이하</td>\n",
       "      <td>2015</td>\n",
       "      <td>10</td>\n",
       "      <td>5652</td>\n",
       "    </tr>\n",
       "    <tr>\n",
       "      <th>2</th>\n",
       "      <td>서울</td>\n",
       "      <td>전용면적 60제곱미터초과 85제곱미터이하</td>\n",
       "      <td>2015</td>\n",
       "      <td>10</td>\n",
       "      <td>5882</td>\n",
       "    </tr>\n",
       "    <tr>\n",
       "      <th>3</th>\n",
       "      <td>서울</td>\n",
       "      <td>전용면적 85제곱미터초과 102제곱미터이하</td>\n",
       "      <td>2015</td>\n",
       "      <td>10</td>\n",
       "      <td>5721</td>\n",
       "    </tr>\n",
       "    <tr>\n",
       "      <th>4</th>\n",
       "      <td>서울</td>\n",
       "      <td>전용면적 102제곱미터초과</td>\n",
       "      <td>2015</td>\n",
       "      <td>10</td>\n",
       "      <td>5879</td>\n",
       "    </tr>\n",
       "    <tr>\n",
       "      <th>...</th>\n",
       "      <td>...</td>\n",
       "      <td>...</td>\n",
       "      <td>...</td>\n",
       "      <td>...</td>\n",
       "      <td>...</td>\n",
       "    </tr>\n",
       "    <tr>\n",
       "      <th>7900</th>\n",
       "      <td>제주</td>\n",
       "      <td>모든면적</td>\n",
       "      <td>2023</td>\n",
       "      <td>6</td>\n",
       "      <td>7326</td>\n",
       "    </tr>\n",
       "    <tr>\n",
       "      <th>7901</th>\n",
       "      <td>제주</td>\n",
       "      <td>전용면적 60제곱미터이하</td>\n",
       "      <td>2023</td>\n",
       "      <td>6</td>\n",
       "      <td>7381</td>\n",
       "    </tr>\n",
       "    <tr>\n",
       "      <th>7902</th>\n",
       "      <td>제주</td>\n",
       "      <td>전용면적 60제곱미터초과 85제곱미터이하</td>\n",
       "      <td>2023</td>\n",
       "      <td>6</td>\n",
       "      <td>7084</td>\n",
       "    </tr>\n",
       "    <tr>\n",
       "      <th>7903</th>\n",
       "      <td>제주</td>\n",
       "      <td>전용면적 85제곱미터초과 102제곱미터이하</td>\n",
       "      <td>2023</td>\n",
       "      <td>6</td>\n",
       "      <td>6639</td>\n",
       "    </tr>\n",
       "    <tr>\n",
       "      <th>7904</th>\n",
       "      <td>제주</td>\n",
       "      <td>전용면적 102제곱미터초과</td>\n",
       "      <td>2023</td>\n",
       "      <td>6</td>\n",
       "      <td>7506</td>\n",
       "    </tr>\n",
       "  </tbody>\n",
       "</table>\n",
       "<p>7905 rows × 5 columns</p>\n",
       "</div>"
      ],
      "text/plain": [
       "     지역명                     규모구분    연도   월  분양가격\n",
       "0     서울                     모든면적  2015  10  5841\n",
       "1     서울            전용면적 60제곱미터이하  2015  10  5652\n",
       "2     서울   전용면적 60제곱미터초과 85제곱미터이하  2015  10  5882\n",
       "3     서울  전용면적 85제곱미터초과 102제곱미터이하  2015  10  5721\n",
       "4     서울           전용면적 102제곱미터초과  2015  10  5879\n",
       "...   ..                      ...   ...  ..   ...\n",
       "7900  제주                     모든면적  2023   6  7326\n",
       "7901  제주            전용면적 60제곱미터이하  2023   6  7381\n",
       "7902  제주   전용면적 60제곱미터초과 85제곱미터이하  2023   6  7084\n",
       "7903  제주  전용면적 85제곱미터초과 102제곱미터이하  2023   6  6639\n",
       "7904  제주           전용면적 102제곱미터초과  2023   6  7506\n",
       "\n",
       "[7905 rows x 5 columns]"
      ]
     },
     "execution_count": 108,
     "metadata": {},
     "output_type": "execute_result"
    }
   ],
   "source": [
    "df"
   ]
  },
  {
   "cell_type": "markdown",
   "id": "34c6d4bd",
   "metadata": {},
   "source": [
    "### 2. \"분양가격(m^2)\"에 있는 데이터 공백을 삭제하기\n",
    "#str.strip() 이용"
   ]
  },
  {
   "cell_type": "code",
   "execution_count": 109,
   "id": "2cbeed03",
   "metadata": {},
   "outputs": [
    {
     "name": "stdout",
     "output_type": "stream",
     "text": [
      "36\n"
     ]
    }
   ],
   "source": [
    "import pandas as pd\n",
    "\n",
    "has_space = df['분양가격'].str.contains(' ', regex=False)\n",
    "print(has_space.sum()) #True가 36개 있는 것을 확인"
   ]
  },
  {
   "cell_type": "code",
   "execution_count": 110,
   "id": "d066234b",
   "metadata": {},
   "outputs": [],
   "source": [
    "df['분양가격'] = df['분양가격'].str.strip()"
   ]
  },
  {
   "cell_type": "code",
   "execution_count": 111,
   "id": "10c6ac22",
   "metadata": {},
   "outputs": [
    {
     "name": "stdout",
     "output_type": "stream",
     "text": [
      "0\n"
     ]
    }
   ],
   "source": [
    "has_space = df['분양가격'].str.contains(' ', regex=False)\n",
    "print(has_space.sum()) #공백이 모두 지워진 것을 확인"
   ]
  },
  {
   "cell_type": "markdown",
   "id": "8ea462ca",
   "metadata": {},
   "source": [
    "### 3. \"분양가격\"\n",
    "1. 데이터 안에 있는 \",\"를 삭제하기\n",
    "2. 데이터 안에 있는 \"-\"를 삭제하기\n",
    "3. 데이터가 없는경우(\"\") 0으로 대체하기"
   ]
  },
  {
   "cell_type": "code",
   "execution_count": 112,
   "id": "1cbb98cd",
   "metadata": {},
   "outputs": [
    {
     "name": "stdout",
     "output_type": "stream",
     "text": [
      "0\n",
      "0\n",
      "547\n"
     ]
    }
   ],
   "source": [
    "has_comma = df['분양가격'].str.contains(',', regex=False)\n",
    "has_dash = df['분양가격'].str.contains('-', regex=False)\n",
    "has_none = df['분양가격'].isna()\n",
    "print(has_comma.sum()) # 데이터 안에 ,가 없음\n",
    "print(has_dash.sum()) # 데이터 안에 - 가 없음\n",
    "print(has_none.sum()) # 데이터가 없는경우 547개"
   ]
  },
  {
   "cell_type": "code",
   "execution_count": 113,
   "id": "2eb26e17",
   "metadata": {},
   "outputs": [
    {
     "name": "stdout",
     "output_type": "stream",
     "text": [
      "<class 'pandas.core.frame.DataFrame'>\n",
      "RangeIndex: 7905 entries, 0 to 7904\n",
      "Data columns (total 5 columns):\n",
      " #   Column  Non-Null Count  Dtype \n",
      "---  ------  --------------  ----- \n",
      " 0   지역명     7905 non-null   object\n",
      " 1   규모구분    7905 non-null   object\n",
      " 2   연도      7905 non-null   int64 \n",
      " 3   월       7905 non-null   int64 \n",
      " 4   분양가격    7358 non-null   object\n",
      "dtypes: int64(2), object(3)\n",
      "memory usage: 308.9+ KB\n"
     ]
    }
   ],
   "source": [
    "df.info()"
   ]
  },
  {
   "cell_type": "code",
   "execution_count": 114,
   "id": "6bf506e6",
   "metadata": {},
   "outputs": [
    {
     "data": {
      "text/plain": [
       "0    5841\n",
       "1    5652\n",
       "2    5882\n",
       "3    5721\n",
       "4    5879\n",
       "Name: 분양가격, dtype: object"
      ]
     },
     "execution_count": 114,
     "metadata": {},
     "output_type": "execute_result"
    }
   ],
   "source": [
    "df['분양가격'].head(5)"
   ]
  },
  {
   "cell_type": "code",
   "execution_count": 115,
   "id": "5b361ca2",
   "metadata": {},
   "outputs": [
    {
     "data": {
      "text/plain": [
       "36"
      ]
     },
     "execution_count": 115,
     "metadata": {},
     "output_type": "execute_result"
    }
   ],
   "source": [
    "(df['분양가격'] == \"\").sum()  # \"\"데이터가 총 36개"
   ]
  },
  {
   "cell_type": "code",
   "execution_count": 116,
   "id": "e99e35da",
   "metadata": {},
   "outputs": [],
   "source": [
    "df['분양가격'] = df['분양가격'].str.replace(',','')\n",
    "df['분양가격'] = df['분양가격'].str.replace('-','')\n",
    "df.loc[df['분양가격']== \"\", \"분양가격\"] = \"0\""
   ]
  },
  {
   "cell_type": "code",
   "execution_count": 117,
   "id": "befc35e5",
   "metadata": {},
   "outputs": [
    {
     "data": {
      "text/plain": [
       "36"
      ]
     },
     "execution_count": 117,
     "metadata": {},
     "output_type": "execute_result"
    }
   ],
   "source": [
    "(df['분양가격'] == \"0\").sum()  # \"0\"데이터가 총 36개"
   ]
  },
  {
   "cell_type": "markdown",
   "id": "ea9c1934",
   "metadata": {},
   "source": [
    "### 4. \"분양가격\"의 Nan 데이터를 삭제하기"
   ]
  },
  {
   "cell_type": "code",
   "execution_count": 118,
   "id": "2454df5d",
   "metadata": {},
   "outputs": [
    {
     "name": "stdout",
     "output_type": "stream",
     "text": [
      "<class 'pandas.core.frame.DataFrame'>\n",
      "RangeIndex: 7905 entries, 0 to 7904\n",
      "Data columns (total 5 columns):\n",
      " #   Column  Non-Null Count  Dtype \n",
      "---  ------  --------------  ----- \n",
      " 0   지역명     7905 non-null   object\n",
      " 1   규모구분    7905 non-null   object\n",
      " 2   연도      7905 non-null   int64 \n",
      " 3   월       7905 non-null   int64 \n",
      " 4   분양가격    7358 non-null   object\n",
      "dtypes: int64(2), object(3)\n",
      "memory usage: 308.9+ KB\n"
     ]
    }
   ],
   "source": [
    "df.info()"
   ]
  },
  {
   "cell_type": "code",
   "execution_count": 119,
   "id": "be388b60",
   "metadata": {},
   "outputs": [],
   "source": [
    "# Nan 데이터를 삭제\n",
    "df.dropna(subset=['분양가격'], inplace=True)"
   ]
  },
  {
   "cell_type": "code",
   "execution_count": 120,
   "id": "8b2e9517",
   "metadata": {},
   "outputs": [
    {
     "name": "stdout",
     "output_type": "stream",
     "text": [
      "<class 'pandas.core.frame.DataFrame'>\n",
      "Int64Index: 7358 entries, 0 to 7904\n",
      "Data columns (total 5 columns):\n",
      " #   Column  Non-Null Count  Dtype \n",
      "---  ------  --------------  ----- \n",
      " 0   지역명     7358 non-null   object\n",
      " 1   규모구분    7358 non-null   object\n",
      " 2   연도      7358 non-null   int64 \n",
      " 3   월       7358 non-null   int64 \n",
      " 4   분양가격    7358 non-null   object\n",
      "dtypes: int64(2), object(3)\n",
      "memory usage: 344.9+ KB\n"
     ]
    }
   ],
   "source": [
    "df.info()"
   ]
  },
  {
   "cell_type": "markdown",
   "id": "c10066d8",
   "metadata": {},
   "source": [
    "### 5. \"분양가격\"의 dtype를 int로 변환하기"
   ]
  },
  {
   "cell_type": "code",
   "execution_count": 121,
   "id": "3c2a1a57",
   "metadata": {},
   "outputs": [],
   "source": [
    "df['분양가격'] = df['분양가격'].astype('int')"
   ]
  },
  {
   "cell_type": "code",
   "execution_count": 122,
   "id": "6513185e",
   "metadata": {},
   "outputs": [
    {
     "name": "stdout",
     "output_type": "stream",
     "text": [
      "<class 'pandas.core.frame.DataFrame'>\n",
      "Int64Index: 7358 entries, 0 to 7904\n",
      "Data columns (total 5 columns):\n",
      " #   Column  Non-Null Count  Dtype \n",
      "---  ------  --------------  ----- \n",
      " 0   지역명     7358 non-null   object\n",
      " 1   규모구분    7358 non-null   object\n",
      " 2   연도      7358 non-null   int64 \n",
      " 3   월       7358 non-null   int64 \n",
      " 4   분양가격    7358 non-null   int64 \n",
      "dtypes: int64(3), object(2)\n",
      "memory usage: 344.9+ KB\n"
     ]
    }
   ],
   "source": [
    "df.info()"
   ]
  },
  {
   "cell_type": "markdown",
   "id": "816e77a3",
   "metadata": {},
   "source": [
    "### 6. \"규모구분\" :  데이터 내의 \"전용면적\" 글자를 삭제해주세요"
   ]
  },
  {
   "cell_type": "code",
   "execution_count": 124,
   "id": "f7408aa3",
   "metadata": {},
   "outputs": [
    {
     "data": {
      "text/plain": [
       "5792"
      ]
     },
     "execution_count": 124,
     "metadata": {},
     "output_type": "execute_result"
    }
   ],
   "source": [
    "df['규모구분'].str.contains(\"전용면적\").sum() #5792개의 행에 \"전용면적\"이 포함되어있음"
   ]
  },
  {
   "cell_type": "code",
   "execution_count": 125,
   "id": "5e66128c",
   "metadata": {},
   "outputs": [],
   "source": [
    "df['규모구분'] = df['규모구분'].str.replace('전용면적',\"\")"
   ]
  },
  {
   "cell_type": "code",
   "execution_count": 126,
   "id": "ac5f9d35",
   "metadata": {},
   "outputs": [
    {
     "data": {
      "text/plain": [
       "0"
      ]
     },
     "execution_count": 126,
     "metadata": {},
     "output_type": "execute_result"
    }
   ],
   "source": [
    "df['규모구분'].str.contains(\"전용면적\").sum() # 지워진 것을 확인"
   ]
  },
  {
   "cell_type": "markdown",
   "id": "27ab4947",
   "metadata": {},
   "source": [
    "### 7. \"규모구분\" 컬럼을 기준으로 value count를 해주세요"
   ]
  },
  {
   "cell_type": "code",
   "execution_count": 128,
   "id": "b7b65242",
   "metadata": {},
   "outputs": [
    {
     "name": "stdout",
     "output_type": "stream",
     "text": [
      "모든면적                   1566\n",
      " 60제곱미터초과 85제곱미터이하     1563\n",
      " 60제곱미터이하              1507\n",
      " 102제곱미터초과             1438\n",
      " 85제곱미터초과 102제곱미터이하    1284\n",
      "Name: 규모구분, dtype: int64\n"
     ]
    }
   ],
   "source": [
    "print(df['규모구분'].value_counts())"
   ]
  },
  {
   "cell_type": "markdown",
   "id": "95c42720",
   "metadata": {},
   "source": [
    "### 8. 지역명별로 평균 분양가격을 확인"
   ]
  },
  {
   "cell_type": "code",
   "execution_count": 132,
   "id": "f437fd36",
   "metadata": {},
   "outputs": [
    {
     "data": {
      "text/plain": [
       "지역명\n",
       "강원    2817.401766\n",
       "경기    4412.705376\n",
       "경남    3153.317982\n",
       "경북    2941.656885\n",
       "광주    3557.351899\n",
       "대구    4213.241228\n",
       "대전    3378.236620\n",
       "부산    4156.941685\n",
       "서울    7936.511983\n",
       "세종    3217.769821\n",
       "울산    3963.243323\n",
       "인천    4180.193059\n",
       "전남    2627.616740\n",
       "전북    2571.648590\n",
       "제주    4410.950000\n",
       "충남    2819.103139\n",
       "충북    2542.922246\n",
       "Name: 분양가격, dtype: float64"
      ]
     },
     "execution_count": 132,
     "metadata": {},
     "output_type": "execute_result"
    }
   ],
   "source": [
    "df.groupby('지역명')['분양가격'].mean()"
   ]
  },
  {
   "cell_type": "markdown",
   "id": "ccbe4231",
   "metadata": {},
   "source": [
    "### 9. 지역별 최고 비싼 분양가를 확인\n",
    "1. 가장 비싼 분양가를 나타내는 지역은 어디이며 얼마 인가요? - \n",
    "2. 제주의 최고가는? - "
   ]
  },
  {
   "cell_type": "code",
   "execution_count": 135,
   "id": "59b4e118",
   "metadata": {},
   "outputs": [
    {
     "data": {
      "text/html": [
       "<div>\n",
       "<style scoped>\n",
       "    .dataframe tbody tr th:only-of-type {\n",
       "        vertical-align: middle;\n",
       "    }\n",
       "\n",
       "    .dataframe tbody tr th {\n",
       "        vertical-align: top;\n",
       "    }\n",
       "\n",
       "    .dataframe thead th {\n",
       "        text-align: right;\n",
       "    }\n",
       "</style>\n",
       "<table border=\"1\" class=\"dataframe\">\n",
       "  <thead>\n",
       "    <tr style=\"text-align: right;\">\n",
       "      <th></th>\n",
       "      <th>지역명</th>\n",
       "      <th>규모구분</th>\n",
       "      <th>연도</th>\n",
       "      <th>월</th>\n",
       "      <th>분양가격</th>\n",
       "    </tr>\n",
       "  </thead>\n",
       "  <tbody>\n",
       "    <tr>\n",
       "      <th>4593</th>\n",
       "      <td>서울</td>\n",
       "      <td>85제곱미터초과 102제곱미터이하</td>\n",
       "      <td>2020</td>\n",
       "      <td>4</td>\n",
       "      <td>13835</td>\n",
       "    </tr>\n",
       "  </tbody>\n",
       "</table>\n",
       "</div>"
      ],
      "text/plain": [
       "     지역명                 규모구분    연도  월   분양가격\n",
       "4593  서울   85제곱미터초과 102제곱미터이하  2020  4  13835"
      ]
     },
     "execution_count": 135,
     "metadata": {},
     "output_type": "execute_result"
    }
   ],
   "source": [
    "#1\n",
    "df.sort_values(by='분양가격', ascending = False).head(1)"
   ]
  },
  {
   "attachments": {},
   "cell_type": "markdown",
   "id": "4d63a0f7",
   "metadata": {},
   "source": [
    "> 가장 비싼 분양가를 나타내는 지역은 서울이며, 제곱미터 당 13835원이다."
   ]
  },
  {
   "cell_type": "code",
   "execution_count": 139,
   "id": "184b1cb6",
   "metadata": {},
   "outputs": [
    {
     "data": {
      "text/plain": [
       "8410"
      ]
     },
     "execution_count": 139,
     "metadata": {},
     "output_type": "execute_result"
    }
   ],
   "source": [
    "#2\n",
    "df[df['지역명']=='제주']['분양가격'].max()"
   ]
  },
  {
   "attachments": {},
   "cell_type": "markdown",
   "id": "624cb48b",
   "metadata": {},
   "source": [
    "> 제주에서 최고가는 제곱미터당 8410원이다."
   ]
  },
  {
   "cell_type": "markdown",
   "id": "29c5fa26",
   "metadata": {},
   "source": [
    "### 작업파일을 저장합니다.(.csv)"
   ]
  },
  {
   "cell_type": "code",
   "execution_count": 140,
   "id": "8a4c5ff6",
   "metadata": {},
   "outputs": [],
   "source": [
    "df.to_csv('Private-apartment-prices_clean.csv', index=False)"
   ]
  }
 ],
 "metadata": {
  "kernelspec": {
   "display_name": "base",
   "language": "python",
   "name": "python3"
  },
  "language_info": {
   "codemirror_mode": {
    "name": "ipython",
    "version": 3
   },
   "file_extension": ".py",
   "mimetype": "text/x-python",
   "name": "python",
   "nbconvert_exporter": "python",
   "pygments_lexer": "ipython3",
   "version": "3.9.13"
  },
  "vscode": {
   "interpreter": {
    "hash": "27a26a7732a2f9257834286807b447af7b26b56fd744bdfb76448dc0c9c18ae6"
   }
  }
 },
 "nbformat": 4,
 "nbformat_minor": 5
}
